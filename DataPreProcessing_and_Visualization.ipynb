{
 "cells": [
  {
   "cell_type": "code",
   "execution_count": 1,
   "metadata": {
    "collapsed": true
   },
   "outputs": [],
   "source": [
    "import pandas as pd\n",
    "import numpy as np\n",
    "import matplotlib.pyplot as plt\n",
    "import seaborn as sns\n",
    "\n",
    "%matplotlib inline"
   ]
  },
  {
   "cell_type": "code",
   "execution_count": 811,
   "metadata": {
    "collapsed": true
   },
   "outputs": [],
   "source": [
    "data  = pd.read_csv(\"data.csv\")\n"
   ]
  },
  {
   "cell_type": "markdown",
   "metadata": {},
   "source": [
    "### This dataset i downloaded from the provided link.\n",
    "### It contains 100,000 records\n",
    "#### It dosen't contain the Longitude and Latitudes.\n",
    "#### therefore i fetched the data through an socdata api but just got the data of Febraury I will use that dataset for the location questions and for all other question which doesn't require location i will use this data.\n"
   ]
  },
  {
   "cell_type": "code",
   "execution_count": 3,
   "metadata": {},
   "outputs": [
    {
     "data": {
      "text/html": [
       "<div>\n",
       "<style scoped>\n",
       "    .dataframe tbody tr th:only-of-type {\n",
       "        vertical-align: middle;\n",
       "    }\n",
       "\n",
       "    .dataframe tbody tr th {\n",
       "        vertical-align: top;\n",
       "    }\n",
       "\n",
       "    .dataframe thead th {\n",
       "        text-align: right;\n",
       "    }\n",
       "</style>\n",
       "<table border=\"1\" class=\"dataframe\">\n",
       "  <thead>\n",
       "    <tr style=\"text-align: right;\">\n",
       "      <th></th>\n",
       "      <th>VendorID</th>\n",
       "      <th>passenger_count</th>\n",
       "      <th>trip_distance</th>\n",
       "      <th>pickup_longitude</th>\n",
       "      <th>pickup_latitude</th>\n",
       "      <th>RatecodeID</th>\n",
       "      <th>dropoff_longitude</th>\n",
       "      <th>dropoff_latitude</th>\n",
       "      <th>payment_type</th>\n",
       "      <th>fare_amount</th>\n",
       "      <th>extra</th>\n",
       "      <th>mta_tax</th>\n",
       "      <th>tip_amount</th>\n",
       "      <th>tolls_amount</th>\n",
       "      <th>improvement_surcharge</th>\n",
       "      <th>total_amount</th>\n",
       "      <th>PULocationID</th>\n",
       "      <th>DOLocationID</th>\n",
       "    </tr>\n",
       "  </thead>\n",
       "  <tbody>\n",
       "    <tr>\n",
       "      <th>count</th>\n",
       "      <td>99998.000000</td>\n",
       "      <td>99998.000000</td>\n",
       "      <td>99998.000000</td>\n",
       "      <td>0.0</td>\n",
       "      <td>0.0</td>\n",
       "      <td>99998.000000</td>\n",
       "      <td>0.0</td>\n",
       "      <td>0.0</td>\n",
       "      <td>99998.000000</td>\n",
       "      <td>99998.000000</td>\n",
       "      <td>99998.000000</td>\n",
       "      <td>99998.000000</td>\n",
       "      <td>99998.000000</td>\n",
       "      <td>99998.000000</td>\n",
       "      <td>99998.000000</td>\n",
       "      <td>99998.000000</td>\n",
       "      <td>99998.000000</td>\n",
       "      <td>99998.000000</td>\n",
       "    </tr>\n",
       "    <tr>\n",
       "      <th>mean</th>\n",
       "      <td>1.539931</td>\n",
       "      <td>1.655333</td>\n",
       "      <td>3.002268</td>\n",
       "      <td>NaN</td>\n",
       "      <td>NaN</td>\n",
       "      <td>1.043081</td>\n",
       "      <td>NaN</td>\n",
       "      <td>NaN</td>\n",
       "      <td>1.356747</td>\n",
       "      <td>13.268126</td>\n",
       "      <td>0.331895</td>\n",
       "      <td>0.497365</td>\n",
       "      <td>1.798682</td>\n",
       "      <td>0.310051</td>\n",
       "      <td>0.299670</td>\n",
       "      <td>16.510318</td>\n",
       "      <td>162.158513</td>\n",
       "      <td>160.020530</td>\n",
       "    </tr>\n",
       "    <tr>\n",
       "      <th>std</th>\n",
       "      <td>0.498686</td>\n",
       "      <td>1.296201</td>\n",
       "      <td>3.791090</td>\n",
       "      <td>NaN</td>\n",
       "      <td>NaN</td>\n",
       "      <td>0.426204</td>\n",
       "      <td>NaN</td>\n",
       "      <td>NaN</td>\n",
       "      <td>0.497817</td>\n",
       "      <td>11.351680</td>\n",
       "      <td>0.453944</td>\n",
       "      <td>0.039441</td>\n",
       "      <td>2.558919</td>\n",
       "      <td>1.439872</td>\n",
       "      <td>0.013678</td>\n",
       "      <td>13.910972</td>\n",
       "      <td>66.827310</td>\n",
       "      <td>70.500757</td>\n",
       "    </tr>\n",
       "    <tr>\n",
       "      <th>min</th>\n",
       "      <td>1.000000</td>\n",
       "      <td>0.000000</td>\n",
       "      <td>0.000000</td>\n",
       "      <td>NaN</td>\n",
       "      <td>NaN</td>\n",
       "      <td>1.000000</td>\n",
       "      <td>NaN</td>\n",
       "      <td>NaN</td>\n",
       "      <td>1.000000</td>\n",
       "      <td>-120.000000</td>\n",
       "      <td>-1.000000</td>\n",
       "      <td>-0.500000</td>\n",
       "      <td>-1.250000</td>\n",
       "      <td>0.000000</td>\n",
       "      <td>-0.300000</td>\n",
       "      <td>-120.300000</td>\n",
       "      <td>1.000000</td>\n",
       "      <td>1.000000</td>\n",
       "    </tr>\n",
       "    <tr>\n",
       "      <th>25%</th>\n",
       "      <td>1.000000</td>\n",
       "      <td>1.000000</td>\n",
       "      <td>1.000000</td>\n",
       "      <td>NaN</td>\n",
       "      <td>NaN</td>\n",
       "      <td>1.000000</td>\n",
       "      <td>NaN</td>\n",
       "      <td>NaN</td>\n",
       "      <td>1.000000</td>\n",
       "      <td>6.500000</td>\n",
       "      <td>0.000000</td>\n",
       "      <td>0.500000</td>\n",
       "      <td>0.000000</td>\n",
       "      <td>0.000000</td>\n",
       "      <td>0.300000</td>\n",
       "      <td>8.760000</td>\n",
       "      <td>113.000000</td>\n",
       "      <td>107.000000</td>\n",
       "    </tr>\n",
       "    <tr>\n",
       "      <th>50%</th>\n",
       "      <td>2.000000</td>\n",
       "      <td>1.000000</td>\n",
       "      <td>1.700000</td>\n",
       "      <td>NaN</td>\n",
       "      <td>NaN</td>\n",
       "      <td>1.000000</td>\n",
       "      <td>NaN</td>\n",
       "      <td>NaN</td>\n",
       "      <td>1.000000</td>\n",
       "      <td>9.500000</td>\n",
       "      <td>0.000000</td>\n",
       "      <td>0.500000</td>\n",
       "      <td>1.260000</td>\n",
       "      <td>0.000000</td>\n",
       "      <td>0.300000</td>\n",
       "      <td>12.300000</td>\n",
       "      <td>161.000000</td>\n",
       "      <td>162.000000</td>\n",
       "    </tr>\n",
       "    <tr>\n",
       "      <th>75%</th>\n",
       "      <td>2.000000</td>\n",
       "      <td>2.000000</td>\n",
       "      <td>3.190000</td>\n",
       "      <td>NaN</td>\n",
       "      <td>NaN</td>\n",
       "      <td>1.000000</td>\n",
       "      <td>NaN</td>\n",
       "      <td>NaN</td>\n",
       "      <td>2.000000</td>\n",
       "      <td>15.000000</td>\n",
       "      <td>0.500000</td>\n",
       "      <td>0.500000</td>\n",
       "      <td>2.450000</td>\n",
       "      <td>0.000000</td>\n",
       "      <td>0.300000</td>\n",
       "      <td>18.350000</td>\n",
       "      <td>233.000000</td>\n",
       "      <td>232.000000</td>\n",
       "    </tr>\n",
       "    <tr>\n",
       "      <th>max</th>\n",
       "      <td>3.000000</td>\n",
       "      <td>6.000000</td>\n",
       "      <td>123.200000</td>\n",
       "      <td>NaN</td>\n",
       "      <td>NaN</td>\n",
       "      <td>99.000000</td>\n",
       "      <td>NaN</td>\n",
       "      <td>NaN</td>\n",
       "      <td>4.000000</td>\n",
       "      <td>400.000000</td>\n",
       "      <td>4.500000</td>\n",
       "      <td>1.500000</td>\n",
       "      <td>111.800000</td>\n",
       "      <td>95.000000</td>\n",
       "      <td>0.300000</td>\n",
       "      <td>400.300000</td>\n",
       "      <td>265.000000</td>\n",
       "      <td>265.000000</td>\n",
       "    </tr>\n",
       "  </tbody>\n",
       "</table>\n",
       "</div>"
      ],
      "text/plain": [
       "           VendorID  passenger_count  trip_distance  pickup_longitude  \\\n",
       "count  99998.000000     99998.000000   99998.000000               0.0   \n",
       "mean       1.539931         1.655333       3.002268               NaN   \n",
       "std        0.498686         1.296201       3.791090               NaN   \n",
       "min        1.000000         0.000000       0.000000               NaN   \n",
       "25%        1.000000         1.000000       1.000000               NaN   \n",
       "50%        2.000000         1.000000       1.700000               NaN   \n",
       "75%        2.000000         2.000000       3.190000               NaN   \n",
       "max        3.000000         6.000000     123.200000               NaN   \n",
       "\n",
       "       pickup_latitude    RatecodeID  dropoff_longitude  dropoff_latitude  \\\n",
       "count              0.0  99998.000000                0.0               0.0   \n",
       "mean               NaN      1.043081                NaN               NaN   \n",
       "std                NaN      0.426204                NaN               NaN   \n",
       "min                NaN      1.000000                NaN               NaN   \n",
       "25%                NaN      1.000000                NaN               NaN   \n",
       "50%                NaN      1.000000                NaN               NaN   \n",
       "75%                NaN      1.000000                NaN               NaN   \n",
       "max                NaN     99.000000                NaN               NaN   \n",
       "\n",
       "       payment_type   fare_amount         extra       mta_tax    tip_amount  \\\n",
       "count  99998.000000  99998.000000  99998.000000  99998.000000  99998.000000   \n",
       "mean       1.356747     13.268126      0.331895      0.497365      1.798682   \n",
       "std        0.497817     11.351680      0.453944      0.039441      2.558919   \n",
       "min        1.000000   -120.000000     -1.000000     -0.500000     -1.250000   \n",
       "25%        1.000000      6.500000      0.000000      0.500000      0.000000   \n",
       "50%        1.000000      9.500000      0.000000      0.500000      1.260000   \n",
       "75%        2.000000     15.000000      0.500000      0.500000      2.450000   \n",
       "max        4.000000    400.000000      4.500000      1.500000    111.800000   \n",
       "\n",
       "       tolls_amount  improvement_surcharge  total_amount  PULocationID  \\\n",
       "count  99998.000000           99998.000000  99998.000000  99998.000000   \n",
       "mean       0.310051               0.299670     16.510318    162.158513   \n",
       "std        1.439872               0.013678     13.910972     66.827310   \n",
       "min        0.000000              -0.300000   -120.300000      1.000000   \n",
       "25%        0.000000               0.300000      8.760000    113.000000   \n",
       "50%        0.000000               0.300000     12.300000    161.000000   \n",
       "75%        0.000000               0.300000     18.350000    233.000000   \n",
       "max       95.000000               0.300000    400.300000    265.000000   \n",
       "\n",
       "       DOLocationID  \n",
       "count  99998.000000  \n",
       "mean     160.020530  \n",
       "std       70.500757  \n",
       "min        1.000000  \n",
       "25%      107.000000  \n",
       "50%      162.000000  \n",
       "75%      232.000000  \n",
       "max      265.000000  "
      ]
     },
     "execution_count": 3,
     "metadata": {},
     "output_type": "execute_result"
    }
   ],
   "source": [
    "data.describe()"
   ]
  },
  {
   "cell_type": "code",
   "execution_count": 4,
   "metadata": {},
   "outputs": [
    {
     "data": {
      "text/html": [
       "<div>\n",
       "<style scoped>\n",
       "    .dataframe tbody tr th:only-of-type {\n",
       "        vertical-align: middle;\n",
       "    }\n",
       "\n",
       "    .dataframe tbody tr th {\n",
       "        vertical-align: top;\n",
       "    }\n",
       "\n",
       "    .dataframe thead th {\n",
       "        text-align: right;\n",
       "    }\n",
       "</style>\n",
       "<table border=\"1\" class=\"dataframe\">\n",
       "  <thead>\n",
       "    <tr style=\"text-align: right;\">\n",
       "      <th></th>\n",
       "      <th>VendorID</th>\n",
       "      <th>tpep_pickup_datetime</th>\n",
       "      <th>tpep_dropoff_datetime</th>\n",
       "      <th>passenger_count</th>\n",
       "      <th>trip_distance</th>\n",
       "      <th>pickup_longitude</th>\n",
       "      <th>pickup_latitude</th>\n",
       "      <th>RatecodeID</th>\n",
       "      <th>store_and_fwd_flag</th>\n",
       "      <th>dropoff_longitude</th>\n",
       "      <th>...</th>\n",
       "      <th>payment_type</th>\n",
       "      <th>fare_amount</th>\n",
       "      <th>extra</th>\n",
       "      <th>mta_tax</th>\n",
       "      <th>tip_amount</th>\n",
       "      <th>tolls_amount</th>\n",
       "      <th>improvement_surcharge</th>\n",
       "      <th>total_amount</th>\n",
       "      <th>PULocationID</th>\n",
       "      <th>DOLocationID</th>\n",
       "    </tr>\n",
       "  </thead>\n",
       "  <tbody>\n",
       "    <tr>\n",
       "      <th>0</th>\n",
       "      <td>2</td>\n",
       "      <td>8/17/2016 11:31</td>\n",
       "      <td>8/17/2016 12:03</td>\n",
       "      <td>5</td>\n",
       "      <td>5.29</td>\n",
       "      <td>NaN</td>\n",
       "      <td>NaN</td>\n",
       "      <td>1</td>\n",
       "      <td>N</td>\n",
       "      <td>NaN</td>\n",
       "      <td>...</td>\n",
       "      <td>1</td>\n",
       "      <td>23.5</td>\n",
       "      <td>0.0</td>\n",
       "      <td>0.5</td>\n",
       "      <td>4.86</td>\n",
       "      <td>0.0</td>\n",
       "      <td>0.3</td>\n",
       "      <td>29.16</td>\n",
       "      <td>88</td>\n",
       "      <td>48</td>\n",
       "    </tr>\n",
       "    <tr>\n",
       "      <th>1</th>\n",
       "      <td>2</td>\n",
       "      <td>7/13/2016 21:32</td>\n",
       "      <td>7/13/2016 21:50</td>\n",
       "      <td>1</td>\n",
       "      <td>7.33</td>\n",
       "      <td>NaN</td>\n",
       "      <td>NaN</td>\n",
       "      <td>1</td>\n",
       "      <td>N</td>\n",
       "      <td>NaN</td>\n",
       "      <td>...</td>\n",
       "      <td>1</td>\n",
       "      <td>23.5</td>\n",
       "      <td>0.5</td>\n",
       "      <td>0.5</td>\n",
       "      <td>6.20</td>\n",
       "      <td>0.0</td>\n",
       "      <td>0.3</td>\n",
       "      <td>31.00</td>\n",
       "      <td>138</td>\n",
       "      <td>130</td>\n",
       "    </tr>\n",
       "    <tr>\n",
       "      <th>2</th>\n",
       "      <td>2</td>\n",
       "      <td>9/20/2016 8:10</td>\n",
       "      <td>9/20/2016 8:18</td>\n",
       "      <td>3</td>\n",
       "      <td>3.13</td>\n",
       "      <td>NaN</td>\n",
       "      <td>NaN</td>\n",
       "      <td>1</td>\n",
       "      <td>N</td>\n",
       "      <td>NaN</td>\n",
       "      <td>...</td>\n",
       "      <td>2</td>\n",
       "      <td>11.0</td>\n",
       "      <td>0.0</td>\n",
       "      <td>0.5</td>\n",
       "      <td>0.00</td>\n",
       "      <td>0.0</td>\n",
       "      <td>0.3</td>\n",
       "      <td>11.80</td>\n",
       "      <td>132</td>\n",
       "      <td>10</td>\n",
       "    </tr>\n",
       "    <tr>\n",
       "      <th>3</th>\n",
       "      <td>1</td>\n",
       "      <td>10/28/2016 0:31</td>\n",
       "      <td>10/28/2016 0:36</td>\n",
       "      <td>1</td>\n",
       "      <td>1.10</td>\n",
       "      <td>NaN</td>\n",
       "      <td>NaN</td>\n",
       "      <td>1</td>\n",
       "      <td>N</td>\n",
       "      <td>NaN</td>\n",
       "      <td>...</td>\n",
       "      <td>2</td>\n",
       "      <td>6.0</td>\n",
       "      <td>0.5</td>\n",
       "      <td>0.5</td>\n",
       "      <td>0.00</td>\n",
       "      <td>0.0</td>\n",
       "      <td>0.3</td>\n",
       "      <td>7.30</td>\n",
       "      <td>37</td>\n",
       "      <td>37</td>\n",
       "    </tr>\n",
       "    <tr>\n",
       "      <th>4</th>\n",
       "      <td>2</td>\n",
       "      <td>10/25/2016 18:38</td>\n",
       "      <td>10/25/2016 18:59</td>\n",
       "      <td>1</td>\n",
       "      <td>1.39</td>\n",
       "      <td>NaN</td>\n",
       "      <td>NaN</td>\n",
       "      <td>1</td>\n",
       "      <td>N</td>\n",
       "      <td>NaN</td>\n",
       "      <td>...</td>\n",
       "      <td>2</td>\n",
       "      <td>12.5</td>\n",
       "      <td>1.0</td>\n",
       "      <td>0.5</td>\n",
       "      <td>0.00</td>\n",
       "      <td>0.0</td>\n",
       "      <td>0.3</td>\n",
       "      <td>14.30</td>\n",
       "      <td>161</td>\n",
       "      <td>186</td>\n",
       "    </tr>\n",
       "  </tbody>\n",
       "</table>\n",
       "<p>5 rows × 21 columns</p>\n",
       "</div>"
      ],
      "text/plain": [
       "   VendorID tpep_pickup_datetime tpep_dropoff_datetime  passenger_count  \\\n",
       "0         2      8/17/2016 11:31       8/17/2016 12:03                5   \n",
       "1         2      7/13/2016 21:32       7/13/2016 21:50                1   \n",
       "2         2       9/20/2016 8:10        9/20/2016 8:18                3   \n",
       "3         1      10/28/2016 0:31       10/28/2016 0:36                1   \n",
       "4         2     10/25/2016 18:38      10/25/2016 18:59                1   \n",
       "\n",
       "   trip_distance  pickup_longitude  pickup_latitude  RatecodeID  \\\n",
       "0           5.29               NaN              NaN           1   \n",
       "1           7.33               NaN              NaN           1   \n",
       "2           3.13               NaN              NaN           1   \n",
       "3           1.10               NaN              NaN           1   \n",
       "4           1.39               NaN              NaN           1   \n",
       "\n",
       "  store_and_fwd_flag  dropoff_longitude      ...       payment_type  \\\n",
       "0                  N                NaN      ...                  1   \n",
       "1                  N                NaN      ...                  1   \n",
       "2                  N                NaN      ...                  2   \n",
       "3                  N                NaN      ...                  2   \n",
       "4                  N                NaN      ...                  2   \n",
       "\n",
       "   fare_amount  extra  mta_tax  tip_amount  tolls_amount  \\\n",
       "0         23.5    0.0      0.5        4.86           0.0   \n",
       "1         23.5    0.5      0.5        6.20           0.0   \n",
       "2         11.0    0.0      0.5        0.00           0.0   \n",
       "3          6.0    0.5      0.5        0.00           0.0   \n",
       "4         12.5    1.0      0.5        0.00           0.0   \n",
       "\n",
       "   improvement_surcharge  total_amount  PULocationID  DOLocationID  \n",
       "0                    0.3         29.16            88            48  \n",
       "1                    0.3         31.00           138           130  \n",
       "2                    0.3         11.80           132            10  \n",
       "3                    0.3          7.30            37            37  \n",
       "4                    0.3         14.30           161           186  \n",
       "\n",
       "[5 rows x 21 columns]"
      ]
     },
     "execution_count": 4,
     "metadata": {},
     "output_type": "execute_result"
    }
   ],
   "source": [
    "data.head()"
   ]
  },
  {
   "cell_type": "code",
   "execution_count": 5,
   "metadata": {},
   "outputs": [
    {
     "data": {
      "text/plain": [
       "(99998, 21)"
      ]
     },
     "execution_count": 5,
     "metadata": {},
     "output_type": "execute_result"
    }
   ],
   "source": [
    "data.shape"
   ]
  },
  {
   "cell_type": "code",
   "execution_count": 6,
   "metadata": {
    "collapsed": true
   },
   "outputs": [],
   "source": [
    "month =[]\n",
    "for element in data.tpep_pickup_datetime:\n",
    "    e = element[0:2]\n",
    "    e =str(e)\n",
    "    e = e.replace('/',\"\")\n",
    "    month.append(e)\n",
    "month_data = pd.DataFrame(month)\n",
    "#month_data"
   ]
  },
  {
   "cell_type": "code",
   "execution_count": 7,
   "metadata": {
    "collapsed": true
   },
   "outputs": [],
   "source": [
    "new_data = pd.concat([data,month_data], axis=1)\n",
    "new_data.rename(columns = {0:'Month'},inplace=True)\n",
    "#new_data"
   ]
  },
  {
   "cell_type": "markdown",
   "metadata": {},
   "source": [
    "#### As many question contain \"per month\" i will slice the dataset in dataframes per month"
   ]
  },
  {
   "cell_type": "code",
   "execution_count": 8,
   "metadata": {
    "collapsed": true
   },
   "outputs": [],
   "source": [
    "july_data = new_data[new_data[\"Month\"] == \"7\"]\n",
    "august_data = new_data[new_data[\"Month\"] == \"8\"]\n",
    "september_data = new_data[new_data[\"Month\"] == \"9\"]\n",
    "october_data = new_data[new_data[\"Month\"] == \"10\"]\n",
    "november_data = new_data[new_data[\"Month\"] == \"11\"]\n",
    "december_data = new_data[new_data[\"Month\"] == \"12\"]\n"
   ]
  },
  {
   "cell_type": "markdown",
   "metadata": {},
   "source": [
    "### Question 1:\n",
    "#### How many monthly pickups are there per month? Which month had the highest figure?"
   ]
  },
  {
   "cell_type": "code",
   "execution_count": 9,
   "metadata": {},
   "outputs": [
    {
     "name": "stdout",
     "output_type": "stream",
     "text": [
      "\n",
      " Number of pickups done July:  16498 \n",
      " Number of pickups done August:  16186 \n",
      " Number of pickups done September:  16449 \n",
      " Number of pickups done October:  17503 \n",
      " Number of pickups done November:  16262 \n",
      " Number of pickups done December:  17100\n",
      "\n",
      "\n",
      "\n",
      "Highest number of pickups done in October, total number:  17503\n"
     ]
    }
   ],
   "source": [
    "count_7 = july_data.shape[0]\n",
    "count_8 = august_data.shape[0]\n",
    "count_9 = september_data.shape[0]\n",
    "count_10 = october_data.shape[0]\n",
    "count_11 = november_data.shape[0]\n",
    "count_12 = december_data.shape[0]\n",
    "\n",
    "print(\n",
    "\"\\n Number of pickups done July: \",count_7,\n",
    "\"\\n Number of pickups done August: \",count_8,\n",
    "\"\\n Number of pickups done September: \",count_9,\n",
    "\"\\n Number of pickups done October: \",count_10,\n",
    "\"\\n Number of pickups done November: \",count_11,\n",
    "\"\\n Number of pickups done December: \",count_12 )\n",
    "\n",
    "highest  = max(count_7,count_8,count_9,count_10,count_11,count_12)\n",
    "print(\"\\n\\n\\nHighest number of pickups done in October, total number: \",highest)\n",
    "    "
   ]
  },
  {
   "cell_type": "code",
   "execution_count": 826,
   "metadata": {},
   "outputs": [
    {
     "name": "stdout",
     "output_type": "stream",
     "text": [
      "         July  August  September  October  November  December\n",
      "Months  16498   16186      16449    17503     16262     17100\n"
     ]
    },
    {
     "data": {
      "image/png": "[encoded data removed]",
      "text/plain": [
       "<matplotlib.figure.Figure at 0x122271898>"
      ]
     },
     "metadata": {},
     "output_type": "display_data"
    }
   ],
   "source": [
    "tmp = [count_7,count_8,count_9,count_10,count_11, count_12,] \n",
    "                                                                                                        \n",
    "df_tmp = pd.DataFrame(tmp) \n",
    "df_tmp.rename(columns = {0:'Months'},inplace=True)\n",
    "df_tmp = df_tmp.T\n",
    "df_tmp.rename(columns = {0:'July'},inplace=True)\n",
    "df_tmp.rename(columns = {1:'August'},inplace=True)\n",
    "df_tmp.rename(columns = {2:'September'},inplace=True)\n",
    "df_tmp.rename(columns = {3:'October'},inplace=True)\n",
    "df_tmp.rename(columns = {4:'November'},inplace=True)\n",
    "df_tmp.rename(columns = {5:'December'},inplace=True)\n",
    "print(df_tmp)\n",
    "df_tmp.plot(kind=\"bar\", figsize=(10,7))\n",
    "\n",
    "plt.show()"
   ]
  },
  {
   "cell_type": "markdown",
   "metadata": {
    "collapsed": true
   },
   "source": [
    "### Question 2:\n",
    "#### What time of the day were most of the pickups, per month? Which month had the highest figure?"
   ]
  },
  {
   "cell_type": "code",
   "execution_count": 817,
   "metadata": {},
   "outputs": [
    {
     "name": "stdout",
     "output_type": "stream",
     "text": [
      "Time of the day when most of the pickups were done in July is :  19 Hours in 24 Hours time format\n",
      "Time of the day when most of the pickups were done in August is :  19 Hours in 24 Hours time format\n",
      "Time of the day when most of the pickups were done in September is :  19 Hours in 24 Hours time format\n",
      "Time of the day when most of the pickups were done in October is :  19 Hours in 24 Hours time format\n",
      "Time of the day when most of the pickups were done in November is :  18 Hours in 24 Hours time format\n",
      "Time of the day when most of the pickups were done in December is :  20 Hours in 24 Hours time format\n"
     ]
    }
   ],
   "source": [
    "def timeOfday_mostPickup(df):\n",
    "    tmp_list = []\n",
    "    for element in df.tpep_pickup_datetime:\n",
    "        t1 = element[-4]\n",
    "        t2 = element[-5]\n",
    "        time = t2 +t1\n",
    "        time = int(time)\n",
    "        tmp_list.append(time)\n",
    "    max_number = max(tmp_list,key=tmp_list.count)\n",
    "    return max_number\n",
    "\n",
    "\n",
    "print(\"Time of the day when most of the pickups were done in July is : \", timeOfday_mostPickup(july_data),\"Hours in 24 Hours time format\")\n",
    "print(\"Time of the day when most of the pickups were done in August is : \", timeOfday_mostPickup(august_data),\"Hours in 24 Hours time format\")\n",
    "print(\"Time of the day when most of the pickups were done in September is : \", timeOfday_mostPickup(september_data),\"Hours in 24 Hours time format\")\n",
    "print(\"Time of the day when most of the pickups were done in October is : \", timeOfday_mostPickup(october_data),\"Hours in 24 Hours time format\")\n",
    "print(\"Time of the day when most of the pickups were done in November is : \", timeOfday_mostPickup(november_data),\"Hours in 24 Hours time format\")\n",
    "print(\"Time of the day when most of the pickups were done in December is : \", timeOfday_mostPickup(december_data),\"Hours in 24 Hours time format\")\n",
    "    \n",
    "     "
   ]
  },
  {
   "cell_type": "markdown",
   "metadata": {},
   "source": [
    "### Question : 3\n",
    "#### What was the longest trip, per month? Which month had the highest figure?"
   ]
  },
  {
   "cell_type": "code",
   "execution_count": 816,
   "metadata": {},
   "outputs": [
    {
     "name": "stdout",
     "output_type": "stream",
     "text": [
      "Longest Trip In July :  58.4 miles\n",
      "Longest Trip In August :  38.18 miles\n",
      "Longest Trip In September :  71.8 miles\n",
      "Longest Trip In October :  123.2 miles\n",
      "Longest Trip In November :  91.1 miles\n",
      "Longest Trip In December :  58.24 miles\n",
      "\n",
      "\n",
      "Longest Trip was : 123.2  in October\n"
     ]
    }
   ],
   "source": [
    "def longest(df):\n",
    "    longest_trip = 0\n",
    "    list_tmp = list(df['trip_distance'])\n",
    "    longest_trip = max(list_tmp)\n",
    "    return longest_trip\n",
    "\n",
    "longest_july = longest(july_data)\n",
    "longest_aug = longest(august_data)\n",
    "longest_sep = longest(september_data)\n",
    "longest_oct = longest(october_data)\n",
    "longest_nov = longest(november_data)\n",
    "longest_dec = longest(december_data)\n",
    "\n",
    "print(\"Longest Trip In July : \", longest_july,\"miles\")\n",
    "print(\"Longest Trip In August : \", longest_aug,\"miles\")\n",
    "print(\"Longest Trip In September : \", longest_sep,\"miles\")\n",
    "print(\"Longest Trip In October : \", longest_oct,\"miles\")\n",
    "print(\"Longest Trip In November : \", longest_nov,\"miles\")\n",
    "print(\"Longest Trip In December : \", longest_dec,\"miles\")\n",
    "\n",
    "longest_list = [longest_july,longest_aug, longest_sep, longest_oct, longest_nov, longest_dec]\n",
    "longest_fig = max(longest_list)\n",
    "\n",
    "\n",
    "print(\"\\n\\nLongest Trip was :\",longest_fig,\" in October\" )"
   ]
  },
  {
   "cell_type": "code",
   "execution_count": 825,
   "metadata": {},
   "outputs": [
    {
     "name": "stdout",
     "output_type": "stream",
     "text": [
      "        July  August  September  October  November  December\n",
      "Months  58.4   38.18       71.8    123.2      91.1     58.24\n"
     ]
    },
    {
     "data": {
      "image/png": "[encoded data removed]",
      "text/plain": [
       "<matplotlib.figure.Figure at 0x122648780>"
      ]
     },
     "metadata": {},
     "output_type": "display_data"
    },
    {
     "name": "stdout",
     "output_type": "stream",
     "text": [
      "\n",
      "\n",
      "Longest Trip was : 123.2  in October\n"
     ]
    }
   ],
   "source": [
    "tmp = [longest_july,\n",
    "longest_aug,\n",
    "longest_sep,\n",
    "longest_oct,\n",
    "longest_nov,\n",
    "longest_dec] \n",
    "                                                                                                        \n",
    "df_tmp = pd.DataFrame(tmp) \n",
    "df_tmp.rename(columns = {0:'Months'},inplace=True)\n",
    "df_tmp = df_tmp.T\n",
    "df_tmp.rename(columns = {0:'July'},inplace=True)\n",
    "df_tmp.rename(columns = {1:'August'},inplace=True)\n",
    "df_tmp.rename(columns = {2:'September'},inplace=True)\n",
    "df_tmp.rename(columns = {3:'October'},inplace=True)\n",
    "df_tmp.rename(columns = {4:'November'},inplace=True)\n",
    "df_tmp.rename(columns = {5:'December'},inplace=True)\n",
    "print(df_tmp)\n",
    "df_tmp.plot(kind=\"bar\", figsize=(10,7))\n",
    "\n",
    "plt.show()\n",
    "print(\"\\n\\nLongest Trip was :\",longest_fig,\" in October\" )"
   ]
  },
  {
   "cell_type": "markdown",
   "metadata": {},
   "source": [
    "### Question 4: \n",
    "#### Out of those longest trips what was the final destination and how much was the fare?"
   ]
  },
  {
   "cell_type": "code",
   "execution_count": 128,
   "metadata": {},
   "outputs": [
    {
     "name": "stdout",
     "output_type": "stream",
     "text": [
      "Longest trip in July was : 58.4 miles and the fare was  130.0\n"
     ]
    }
   ],
   "source": [
    "#def longest_fare(df):\n",
    "df_long_july = data[data['trip_distance'] == longest_july]\n",
    "long_fare_july = df_long_july.iloc[0]['fare_amount']\n",
    "\n",
    "print(\"Longest trip in July was :\", longest_july,\"miles and the fare was \",long_fare_july)"
   ]
  },
  {
   "cell_type": "code",
   "execution_count": 130,
   "metadata": {},
   "outputs": [
    {
     "name": "stdout",
     "output_type": "stream",
     "text": [
      "Longest trip in august was : 38.18 miles and the fare was  130.0\n"
     ]
    }
   ],
   "source": [
    "df_long_august = data[data['trip_distance'] == longest_aug]\n",
    "long_fare_august = df_long_august.iloc[0]['fare_amount']\n",
    "\n",
    "print(\"Longest trip in august was :\", longest_aug,\"miles and the fare was \",long_fare_august)"
   ]
  },
  {
   "cell_type": "code",
   "execution_count": 131,
   "metadata": {},
   "outputs": [
    {
     "name": "stdout",
     "output_type": "stream",
     "text": [
      "Longest trip in september was : 71.8 miles and the fare was  52.0\n"
     ]
    }
   ],
   "source": [
    "df_long_september = data[data['trip_distance'] == longest_sep]\n",
    "long_fare_september = df_long_september.iloc[0]['fare_amount']\n",
    "\n",
    "print(\"Longest trip in september was :\", longest_sep,\"miles and the fare was \",long_fare_september)"
   ]
  },
  {
   "cell_type": "code",
   "execution_count": 132,
   "metadata": {},
   "outputs": [
    {
     "name": "stdout",
     "output_type": "stream",
     "text": [
      "Longest trip in october was : 123.2 miles and the fare was  14.0\n"
     ]
    }
   ],
   "source": [
    "df_long_october = data[data['trip_distance'] == longest_oct]\n",
    "long_fare_october = df_long_october.iloc[0]['fare_amount']\n",
    "\n",
    "print(\"Longest trip in october was :\", longest_oct,\"miles and the fare was \",long_fare_october)"
   ]
  },
  {
   "cell_type": "code",
   "execution_count": 133,
   "metadata": {},
   "outputs": [
    {
     "name": "stdout",
     "output_type": "stream",
     "text": [
      "Longest trip in november was : 91.1 miles and the fare was  0.0\n"
     ]
    }
   ],
   "source": [
    "df_long_november = data[data['trip_distance'] == longest_nov]\n",
    "long_fare_november = df_long_november.iloc[0]['fare_amount']\n",
    "print(\"Longest trip in november was :\", longest_nov,\"miles and the fare was \",long_fare_november)"
   ]
  },
  {
   "cell_type": "code",
   "execution_count": 134,
   "metadata": {},
   "outputs": [
    {
     "name": "stdout",
     "output_type": "stream",
     "text": [
      "Longest trip in november was : 58.24 miles and the fare was  239.0\n"
     ]
    }
   ],
   "source": [
    "df_long_december = data[data['trip_distance'] == longest_dec]\n",
    "long_fare_december = df_long_december.iloc[0]['fare_amount']\n",
    "print(\"Longest trip in november was :\", longest_dec,\"miles and the fare was \",long_fare_december)"
   ]
  },
  {
   "cell_type": "code",
   "execution_count": 824,
   "metadata": {},
   "outputs": [
    {
     "name": "stdout",
     "output_type": "stream",
     "text": [
      "         July  August  September  October  November  December\n",
      "Months  130.0   130.0       52.0     14.0       0.0     239.0\n"
     ]
    },
    {
     "data": {
      "image/png": "[encoded data removed]",
      "text/plain": [
       "<matplotlib.figure.Figure at 0x122648fd0>"
      ]
     },
     "metadata": {},
     "output_type": "display_data"
    },
    {
     "name": "stdout",
     "output_type": "stream",
     "text": [
      "Longest trip in July was : 58.4 miles and the fare was  130.0\n",
      "Longest trip in august was : 38.18 miles and the fare was  130.0\n",
      "Longest trip in september was : 71.8 miles and the fare was  52.0\n",
      "Longest trip in october was : 123.2 miles and the fare was  14.0\n",
      "Longest trip in november was : 91.1 miles and the fare was  0.0\n",
      "Longest trip in november was : 58.24 miles and the fare was  239.0\n"
     ]
    }
   ],
   "source": [
    "tmp = [long_fare_july,\n",
    "long_fare_august,\n",
    "long_fare_september,\n",
    "long_fare_october,\n",
    "long_fare_november,\n",
    "long_fare_december] \n",
    "                                                                                                        \n",
    "df_tmp = pd.DataFrame(tmp) \n",
    "df_tmp.rename(columns = {0:'Months'},inplace=True)\n",
    "df_tmp = df_tmp.T\n",
    "df_tmp.rename(columns = {0:'July'},inplace=True)\n",
    "df_tmp.rename(columns = {1:'August'},inplace=True)\n",
    "df_tmp.rename(columns = {2:'September'},inplace=True)\n",
    "df_tmp.rename(columns = {3:'October'},inplace=True)\n",
    "df_tmp.rename(columns = {4:'November'},inplace=True)\n",
    "df_tmp.rename(columns = {5:'December'},inplace=True)\n",
    "print(df_tmp)\n",
    "df_tmp.plot(kind=\"bar\", figsize=(10,7))\n",
    "\n",
    "plt.show()\n",
    "\n",
    "print(\"Longest trip in July was :\", longest_july,\"miles and the fare was \",long_fare_july)\n",
    "print(\"Longest trip in august was :\", longest_aug,\"miles and the fare was \",long_fare_august)\n",
    "print(\"Longest trip in september was :\", longest_sep,\"miles and the fare was \",long_fare_september)\n",
    "print(\"Longest trip in october was :\", longest_oct,\"miles and the fare was \",long_fare_october)\n",
    "print(\"Longest trip in november was :\", longest_nov,\"miles and the fare was \",long_fare_november)\n",
    "print(\"Longest trip in november was :\", longest_dec,\"miles and the fare was \",long_fare_december)"
   ]
  },
  {
   "cell_type": "markdown",
   "metadata": {},
   "source": [
    "<br>\n",
    "<br>\n",
    "<br>\n",
    "<br>\n",
    "<br>\n",
    "### Question 5\n",
    "#### What was the most expensive trip (excluding fees/tolls/tips), per month? Which month had the highest figure? Are these results related to question 4?"
   ]
  },
  {
   "cell_type": "code",
   "execution_count": 124,
   "metadata": {},
   "outputs": [
    {
     "name": "stdout",
     "output_type": "stream",
     "text": [
      "Most Expensive trip in July : 166.75\n"
     ]
    }
   ],
   "source": [
    "print(\"Most Expensive trip in July :\",july_data.fare_amount.max())"
   ]
  },
  {
   "cell_type": "markdown",
   "metadata": {},
   "source": [
    "#### The most expensive trip and the longest trip in July are not related! (from Question 4 and 5)\n",
    "Longest trip fare: 130.0 <br>\n",
    "Most expensive trip fare: 166.75\n",
    "<br>\n",
    "<br>\n",
    "<br>\n",
    "<br>\n",
    "<br>"
   ]
  },
  {
   "cell_type": "code",
   "execution_count": 125,
   "metadata": {},
   "outputs": [
    {
     "name": "stdout",
     "output_type": "stream",
     "text": [
      "Most Expensive trip in August 250.0\n"
     ]
    }
   ],
   "source": [
    "print(\"Most Expensive trip in August\",august_data.fare_amount.max())"
   ]
  },
  {
   "cell_type": "markdown",
   "metadata": {},
   "source": [
    "#### The most expensive trip and the longest trip in August are not related!\n",
    "Longest trip fare: 130.0 <br>\n",
    "Most expensive trip fare: 250.0\n",
    "<br>\n",
    "<br>\n",
    "<br>\n",
    "<br>\n",
    "<br>"
   ]
  },
  {
   "cell_type": "code",
   "execution_count": 127,
   "metadata": {},
   "outputs": [
    {
     "name": "stdout",
     "output_type": "stream",
     "text": [
      "Most Expensive trip in September 200.0\n"
     ]
    }
   ],
   "source": [
    "print(\"Most Expensive trip in September\",september_data.fare_amount.max())"
   ]
  },
  {
   "cell_type": "markdown",
   "metadata": {},
   "source": [
    "#### The most expensive trip and the longest trip in September are not related!\n",
    "Longest trip fare: 52.0 <br>\n",
    "Most expensive trip fare: 200.0\n",
    "<br>\n",
    "<br>\n",
    "<br>\n",
    "<br>\n",
    "<br>"
   ]
  },
  {
   "cell_type": "code",
   "execution_count": 136,
   "metadata": {},
   "outputs": [
    {
     "name": "stdout",
     "output_type": "stream",
     "text": [
      "Most Expensive trip in October 400.0\n"
     ]
    }
   ],
   "source": [
    "print(\"Most Expensive trip in October\",october_data.fare_amount.max())"
   ]
  },
  {
   "cell_type": "markdown",
   "metadata": {},
   "source": [
    "#### The most expensive trip and the longest trip are October in not related!\n",
    "Longest trip fare: 14.0 <br>\n",
    "Most expensive trip fare: 400.0\n",
    "<br>\n",
    "<br>\n",
    "<br>\n",
    "<br>\n",
    "<br>\n"
   ]
  },
  {
   "cell_type": "code",
   "execution_count": 138,
   "metadata": {},
   "outputs": [
    {
     "name": "stdout",
     "output_type": "stream",
     "text": [
      "Most Expensive trip in November 200.0\n"
     ]
    }
   ],
   "source": [
    "print(\"Most Expensive trip in November\",november_data.fare_amount.max())"
   ]
  },
  {
   "cell_type": "markdown",
   "metadata": {},
   "source": [
    "#### The most expensive trip and the longest trip in November are not related!\n",
    "Longest trip fare: 0.0 <br>\n",
    "Most expensive trip fare: 200.0\n",
    "<br>\n",
    "<br>\n",
    "<br>\n",
    "<br>\n",
    "<br>"
   ]
  },
  {
   "cell_type": "code",
   "execution_count": 139,
   "metadata": {},
   "outputs": [
    {
     "name": "stdout",
     "output_type": "stream",
     "text": [
      "Most Expensive trip in December 239.0\n"
     ]
    }
   ],
   "source": [
    "print(\"Most Expensive trip in December\",december_data.fare_amount.max())"
   ]
  },
  {
   "cell_type": "markdown",
   "metadata": {},
   "source": [
    "#### The most expensive trip and the longest trip in December are  related\n",
    "Longest trip fare: 239.0 <br>\n",
    "Most expensive trip fare: 239.0\n",
    "<br>\n",
    "<br>\n",
    "<br>\n",
    "<br>\n",
    "<br>"
   ]
  },
  {
   "cell_type": "code",
   "execution_count": 823,
   "metadata": {},
   "outputs": [
    {
     "name": "stdout",
     "output_type": "stream",
     "text": [
      "          July  August  September  October  November  December\n",
      "Months  166.75   250.0      200.0    400.0     200.0     239.0\n"
     ]
    },
    {
     "data": {
      "image/png": "[encoded data removed]",
      "text/plain": [
       "<matplotlib.figure.Figure at 0x1226482b0>"
      ]
     },
     "metadata": {},
     "output_type": "display_data"
    },
    {
     "name": "stdout",
     "output_type": "stream",
     "text": [
      "Most Expensive trip in July : 166.75\n",
      "Most Expensive trip in August 250.0\n",
      "Most Expensive trip in September 200.0\n",
      "Most Expensive trip in October 400.0\n",
      "Most Expensive trip in November 200.0\n",
      "Most Expensive trip in December 239.0\n"
     ]
    }
   ],
   "source": [
    "tmp = [july_data.fare_amount.max(),\n",
    "august_data.fare_amount.max(),\n",
    "september_data.fare_amount.max(),\n",
    "october_data.fare_amount.max(),\n",
    "november_data.fare_amount.max(),\n",
    "december_data.fare_amount.max()] \n",
    "                                                                                                        \n",
    "df_tmp = pd.DataFrame(tmp) \n",
    "df_tmp.rename(columns = {0:'Months'},inplace=True)\n",
    "df_tmp = df_tmp.T\n",
    "df_tmp.rename(columns = {0:'July'},inplace=True)\n",
    "df_tmp.rename(columns = {1:'August'},inplace=True)\n",
    "df_tmp.rename(columns = {2:'September'},inplace=True)\n",
    "df_tmp.rename(columns = {3:'October'},inplace=True)\n",
    "df_tmp.rename(columns = {4:'November'},inplace=True)\n",
    "df_tmp.rename(columns = {5:'December'},inplace=True)\n",
    "print(df_tmp)\n",
    "df_tmp.plot(kind=\"bar\", figsize=(10,7))\n",
    "\n",
    "plt.show()\n",
    "\n",
    "print(\"Most Expensive trip in July :\",july_data.fare_amount.max())\n",
    "print(\"Most Expensive trip in August\",august_data.fare_amount.max())\n",
    "print(\"Most Expensive trip in September\",september_data.fare_amount.max())\n",
    "print(\"Most Expensive trip in October\",october_data.fare_amount.max())\n",
    "print(\"Most Expensive trip in November\",november_data.fare_amount.max())\n",
    "print(\"Most Expensive trip in December\",december_data.fare_amount.max())"
   ]
  },
  {
   "cell_type": "markdown",
   "metadata": {},
   "source": [
    "### Question 6\n",
    "#### How many airport drop-offs are there per month, per airport? Which month and airport had the highest figure?"
   ]
  },
  {
   "cell_type": "markdown",
   "metadata": {},
   "source": [
    "RateCodeID :\n",
    "1= Standard rate<br>\n",
    "2=JFK<br>\n",
    "3=Newark<br>\n",
    "4=Nassau or Westchester<br>\n",
    "5=Negotiated fare<br>\n",
    "6=Group ride<br>\n",
    "#### From above RateCodeID  we can see that there are 3 Airport cateogorized by id:\n",
    "    1) JFK airport (RateCodeID = 2) \n",
    "    2) Newark Airport (RateCodeID = 3) \n",
    "    3) Nassau Airport and Westchester Airport (RateCodeID = 4) "
   ]
  },
  {
   "cell_type": "markdown",
   "metadata": {},
   "source": [
    "### Lets start with July."
   ]
  },
  {
   "cell_type": "code",
   "execution_count": 155,
   "metadata": {},
   "outputs": [
    {
     "name": "stdout",
     "output_type": "stream",
     "text": [
      "Total Number of Airport Drop Off's in July : 450\n"
     ]
    }
   ],
   "source": [
    "july_airport = july_data[(july_data[\"RatecodeID\"] == 2) | (july_data[\"RatecodeID\"] == 3) | (july_data[\"RatecodeID\"] == 4 )]\n",
    "print(\"Total Number of Airport Drop Off's in July :\", july_airport.shape[0])"
   ]
  },
  {
   "cell_type": "code",
   "execution_count": 161,
   "metadata": {},
   "outputs": [
    {
     "name": "stdout",
     "output_type": "stream",
     "text": [
      "Total Dropoff at Newark Airport in July : 410\n"
     ]
    }
   ],
   "source": [
    "print(\"Total Dropoff at Newark Airport in July :\", len(july_data[(july_data[\"RatecodeID\"] == 2)]))"
   ]
  },
  {
   "cell_type": "code",
   "execution_count": 162,
   "metadata": {},
   "outputs": [
    {
     "name": "stdout",
     "output_type": "stream",
     "text": [
      "Total Dropoff at Newark Airport in July : 36\n"
     ]
    }
   ],
   "source": [
    "print(\"Total Dropoff at Newark Airport in July :\", len(july_data[(july_data[\"RatecodeID\"] == 3)]))"
   ]
  },
  {
   "cell_type": "code",
   "execution_count": 164,
   "metadata": {},
   "outputs": [
    {
     "name": "stdout",
     "output_type": "stream",
     "text": [
      "Total Dropoff at Nassau Airport and Westchester Airport in July : 4\n"
     ]
    }
   ],
   "source": [
    "print(\"Total Dropoff at Nassau Airport and Westchester Airport in July :\", len(july_data[(july_data[\"RatecodeID\"] == 4)]))"
   ]
  },
  {
   "cell_type": "code",
   "execution_count": 216,
   "metadata": {},
   "outputs": [
    {
     "name": "stdout",
     "output_type": "stream",
     "text": [
      "         JFK Airport  Newark Airport  Nassua or Westecheter Airport\n",
      "Airport          410              36                              4\n"
     ]
    },
    {
     "data": {
      "image/png": "[encoded data removed]",
      "text/plain": [
       "<matplotlib.figure.Figure at 0x11dd51978>"
      ]
     },
     "metadata": {},
     "output_type": "display_data"
    }
   ],
   "source": [
    "tmp = [len(july_data[(july_data[\"RatecodeID\"] == 2)]),\n",
    "       len(july_data[(july_data[\"RatecodeID\"] == 3)]),\n",
    "       len(july_data[(july_data[\"RatecodeID\"] == 4)])]\n",
    "                                                                                                        \n",
    "df_tmp = pd.DataFrame(tmp) \n",
    "df_tmp.rename(columns = {0:'Airport'},inplace=True)\n",
    "df_tmp = df_tmp.T\n",
    "df_tmp.rename(columns = {0:'JFK Airport'},inplace=True)\n",
    "df_tmp.rename(columns = {1:'Newark Airport'},inplace=True)\n",
    "df_tmp.rename(columns = {2:'Nassua or Westecheter Airport'},inplace=True)\n",
    "print(df_tmp)\n",
    "df_tmp.plot(kind=\"bar\", figsize=(10,7))\n",
    "\n",
    "plt.show()"
   ]
  },
  {
   "cell_type": "markdown",
   "metadata": {},
   "source": [
    "### August"
   ]
  },
  {
   "cell_type": "code",
   "execution_count": 218,
   "metadata": {},
   "outputs": [
    {
     "name": "stdout",
     "output_type": "stream",
     "text": [
      "Total Number of Airport Drop Off's in August : 474\n"
     ]
    }
   ],
   "source": [
    "august_airport = august_data[(august_data[\"RatecodeID\"] == 2) | (august_data[\"RatecodeID\"] == 3) | (august_data[\"RatecodeID\"] == 4 )]\n",
    "print(\"Total Number of Airport Drop Off's in August :\", august_airport.shape[0])"
   ]
  },
  {
   "cell_type": "code",
   "execution_count": 222,
   "metadata": {},
   "outputs": [
    {
     "name": "stdout",
     "output_type": "stream",
     "text": [
      "         JFK Airport  Newark Airport  Nassua or Westecheter Airport\n",
      "Airport          431              35                              8\n"
     ]
    },
    {
     "data": {
      "image/png": "[encoded data removed]",
      "text/plain": [
       "<matplotlib.figure.Figure at 0x11ddd3240>"
      ]
     },
     "metadata": {},
     "output_type": "display_data"
    }
   ],
   "source": [
    "tmp = [len(august_data[(august_data[\"RatecodeID\"] == 2)]),\n",
    "       len(august_data[(august_data[\"RatecodeID\"] == 3)]),\n",
    "       len(august_data[(august_data[\"RatecodeID\"] == 4)])]\n",
    "                                                                                                        \n",
    "df_tmp = pd.DataFrame(tmp) \n",
    "df_tmp.rename(columns = {0:'Airport'},inplace=True)\n",
    "df_tmp = df_tmp.T\n",
    "df_tmp.rename(columns = {0:'JFK Airport'},inplace=True)\n",
    "df_tmp.rename(columns = {1:'Newark Airport'},inplace=True)\n",
    "df_tmp.rename(columns = {2:'Nassua or Westecheter Airport'},inplace=True)\n",
    "print(df_tmp)\n",
    "df_tmp.plot(kind=\"bar\", figsize=(10,7))\n",
    "\n",
    "plt.show()"
   ]
  },
  {
   "cell_type": "markdown",
   "metadata": {},
   "source": [
    "### September"
   ]
  },
  {
   "cell_type": "code",
   "execution_count": 219,
   "metadata": {},
   "outputs": [
    {
     "name": "stdout",
     "output_type": "stream",
     "text": [
      "Total Number of Airport Drop Off's in September : 439\n"
     ]
    }
   ],
   "source": [
    "september_airport = september_data[(september_data[\"RatecodeID\"] == 2) | (september_data[\"RatecodeID\"] == 3) | (september_data[\"RatecodeID\"] == 4 )]\n",
    "print(\"Total Number of Airport Drop Off's in September :\", september_airport.shape[0])"
   ]
  },
  {
   "cell_type": "code",
   "execution_count": 223,
   "metadata": {},
   "outputs": [
    {
     "name": "stdout",
     "output_type": "stream",
     "text": [
      "         JFK Airport  Newark Airport  Nassua or Westecheter Airport\n",
      "Airport          398              32                              9\n"
     ]
    },
    {
     "data": {
      "image/png": "[encoded data removed]",
      "text/plain": [
       "<matplotlib.figure.Figure at 0x11e1416d8>"
      ]
     },
     "metadata": {},
     "output_type": "display_data"
    }
   ],
   "source": [
    "tmp = [len(september_data[(september_data[\"RatecodeID\"] == 2)]),\n",
    "       len(september_data[(september_data[\"RatecodeID\"] == 3)]),\n",
    "       len(september_data[(september_data[\"RatecodeID\"] == 4)])]\n",
    "                                                                                                        \n",
    "df_tmp = pd.DataFrame(tmp) \n",
    "df_tmp.rename(columns = {0:'Airport'},inplace=True)\n",
    "df_tmp = df_tmp.T\n",
    "df_tmp.rename(columns = {0:'JFK Airport'},inplace=True)\n",
    "df_tmp.rename(columns = {1:'Newark Airport'},inplace=True)\n",
    "df_tmp.rename(columns = {2:'Nassua or Westecheter Airport'},inplace=True)\n",
    "print(df_tmp)\n",
    "df_tmp.plot(kind=\"bar\", figsize=(10,7))\n",
    "\n",
    "plt.show()"
   ]
  },
  {
   "cell_type": "markdown",
   "metadata": {},
   "source": [
    "### October"
   ]
  },
  {
   "cell_type": "code",
   "execution_count": 220,
   "metadata": {},
   "outputs": [
    {
     "name": "stdout",
     "output_type": "stream",
     "text": [
      "Total Number of Airport Drop Off's in October : 457\n"
     ]
    }
   ],
   "source": [
    "october_airport = october_data[(october_data[\"RatecodeID\"] == 2) | (october_data[\"RatecodeID\"] == 3) | (october_data[\"RatecodeID\"] == 4 )]\n",
    "print(\"Total Number of Airport Drop Off's in October :\", october_airport.shape[0])"
   ]
  },
  {
   "cell_type": "code",
   "execution_count": 226,
   "metadata": {},
   "outputs": [
    {
     "name": "stdout",
     "output_type": "stream",
     "text": [
      "         JFK Airport  Newark Airport  Nassua or Westecheter Airport\n",
      "Airport          408              42                              7\n"
     ]
    },
    {
     "data": {
      "image/png": "[encoded data removed]",
      "text/plain": [
       "<matplotlib.figure.Figure at 0x11e169208>"
      ]
     },
     "metadata": {},
     "output_type": "display_data"
    }
   ],
   "source": [
    "tmp = [len(october_data[(october_data[\"RatecodeID\"] == 2)]),\n",
    "       len(october_data[(october_data[\"RatecodeID\"] == 3)]),\n",
    "       len(october_data[(october_data[\"RatecodeID\"] == 4)])]\n",
    "                                                                                                        \n",
    "df_tmp = pd.DataFrame(tmp) \n",
    "df_tmp.rename(columns = {0:'Airport'},inplace=True)\n",
    "df_tmp = df_tmp.T\n",
    "df_tmp.rename(columns = {0:'JFK Airport'},inplace=True)\n",
    "df_tmp.rename(columns = {1:'Newark Airport'},inplace=True)\n",
    "df_tmp.rename(columns = {2:'Nassua or Westecheter Airport'},inplace=True)\n",
    "print(df_tmp)\n",
    "df_tmp.plot(kind=\"bar\", figsize=(10,7))\n",
    "\n",
    "plt.show()"
   ]
  },
  {
   "cell_type": "markdown",
   "metadata": {},
   "source": [
    "### November"
   ]
  },
  {
   "cell_type": "code",
   "execution_count": 221,
   "metadata": {},
   "outputs": [
    {
     "name": "stdout",
     "output_type": "stream",
     "text": [
      "Total Number of Airport Drop Off's in November : 406\n"
     ]
    }
   ],
   "source": [
    "november_airport = november_data[(november_data[\"RatecodeID\"] == 2) | (november_data[\"RatecodeID\"] == 3) | (november_data[\"RatecodeID\"] == 4 )]\n",
    "print(\"Total Number of Airport Drop Off's in November :\", november_airport.shape[0])"
   ]
  },
  {
   "cell_type": "code",
   "execution_count": 227,
   "metadata": {},
   "outputs": [
    {
     "name": "stdout",
     "output_type": "stream",
     "text": [
      "         JFK Airport  Newark Airport  Nassua or Westecheter Airport\n",
      "Airport          363              32                             11\n"
     ]
    },
    {
     "data": {
      "image/png": "[encoded data removed]",
      "text/plain": [
       "<matplotlib.figure.Figure at 0x11e30b898>"
      ]
     },
     "metadata": {},
     "output_type": "display_data"
    }
   ],
   "source": [
    "tmp = [len(november_data[(november_data[\"RatecodeID\"] == 2)]),\n",
    "       len(november_data[(november_data[\"RatecodeID\"] == 3)]),\n",
    "       len(november_data[(november_data[\"RatecodeID\"] == 4)])]\n",
    "                                                                                                        \n",
    "df_tmp = pd.DataFrame(tmp) \n",
    "df_tmp.rename(columns = {0:'Airport'},inplace=True)\n",
    "df_tmp = df_tmp.T\n",
    "df_tmp.rename(columns = {0:'JFK Airport'},inplace=True)\n",
    "df_tmp.rename(columns = {1:'Newark Airport'},inplace=True)\n",
    "df_tmp.rename(columns = {2:'Nassua or Westecheter Airport'},inplace=True)\n",
    "print(df_tmp)\n",
    "df_tmp.plot(kind=\"bar\", figsize=(10,7))\n",
    "\n",
    "plt.show()"
   ]
  },
  {
   "cell_type": "markdown",
   "metadata": {},
   "source": [
    "### December"
   ]
  },
  {
   "cell_type": "code",
   "execution_count": 228,
   "metadata": {},
   "outputs": [
    {
     "name": "stdout",
     "output_type": "stream",
     "text": [
      "Total Number of Airport Drop Off's in December : 405\n"
     ]
    }
   ],
   "source": [
    "december_airport = december_data[(december_data[\"RatecodeID\"] == 2) | (december_data[\"RatecodeID\"] == 3) | (december_data[\"RatecodeID\"] == 4 )]\n",
    "print(\"Total Number of Airport Drop Off's in December :\", december_airport.shape[0])"
   ]
  },
  {
   "cell_type": "code",
   "execution_count": 243,
   "metadata": {},
   "outputs": [
    {
     "name": "stdout",
     "output_type": "stream",
     "text": [
      "         JFK Airport  Newark Airport  Nassua or Westecheter Airport\n",
      "Airport          363              34                              8\n"
     ]
    },
    {
     "data": {
      "image/png": "[encoded data removed]",
      "text/plain": [
       "<matplotlib.figure.Figure at 0x11e280e10>"
      ]
     },
     "metadata": {},
     "output_type": "display_data"
    }
   ],
   "source": [
    "tmp = [len(december_data[(december_data[\"RatecodeID\"] == 2)]),\n",
    "       len(december_data[(december_data[\"RatecodeID\"] == 3)]),\n",
    "       len(december_data[(december_data[\"RatecodeID\"] == 4)])]\n",
    "                                                                                                        \n",
    "df_tmp = pd.DataFrame(tmp) \n",
    "df_tmp.rename(columns = {0:'Airport'},inplace=True)\n",
    "df_tmp = df_tmp.T\n",
    "df_tmp.rename(columns = {0:'JFK Airport'},inplace=True)\n",
    "df_tmp.rename(columns = {1:'Newark Airport'},inplace=True)\n",
    "df_tmp.rename(columns = {2:'Nassua or Westecheter Airport'},inplace=True)\n",
    "print(df_tmp)\n",
    "df_tmp.plot(kind=\"bar\", figsize=(10,7))\n",
    "\n",
    "\n",
    "plt.show()"
   ]
  },
  {
   "cell_type": "markdown",
   "metadata": {},
   "source": [
    "### Highest Number of DropOff's\n",
    "     "
   ]
  },
  {
   "cell_type": "code",
   "execution_count": 234,
   "metadata": {
    "collapsed": true
   },
   "outputs": [],
   "source": [
    "temp = [july_airport.shape[0],august_airport.shape[0],september_airport.shape[0],october_airport.shape[0],november_airport.shape[0],december_airport.shape[0]]"
   ]
  },
  {
   "cell_type": "code",
   "execution_count": 245,
   "metadata": {},
   "outputs": [
    {
     "name": "stdout",
     "output_type": "stream",
     "text": [
      "           Months\n",
      "July          450\n",
      "August        474\n",
      "September     439\n",
      "October       457\n",
      "November      406\n",
      "December      405\n"
     ]
    },
    {
     "data": {
      "text/plain": [
       "<matplotlib.axes._subplots.AxesSubplot at 0x11ccaf710>"
      ]
     },
     "execution_count": 245,
     "metadata": {},
     "output_type": "execute_result"
    },
    {
     "data": {
      "image/png": "[encoded data removed]",
      "text/plain": [
       "<matplotlib.figure.Figure at 0x11e8411d0>"
      ]
     },
     "metadata": {},
     "output_type": "display_data"
    }
   ],
   "source": [
    "df_temp = pd.DataFrame(temp)\n",
    "df_temp.rename(columns = {0:'Months'},inplace=True)\n",
    "indexlist = [\"July\", \"August\", \"September\",\"October\" ,\"November\", \"December\"]\n",
    "df_temp.index = indexlist\n",
    "print(df_temp)\n",
    "df_temp.plot(kind=\"bar\", figsize=(10,7))"
   ]
  },
  {
   "cell_type": "markdown",
   "metadata": {},
   "source": [
    "## Highest Drofoff Per Month : August (Droffoffs: 474)\n",
    "  "
   ]
  },
  {
   "cell_type": "markdown",
   "metadata": {},
   "source": [
    "<br>\n",
    "<br>\n",
    "<br>\n",
    "### Now lets calulate highest droffoff per AIrport"
   ]
  },
  {
   "cell_type": "code",
   "execution_count": 269,
   "metadata": {},
   "outputs": [
    {
     "name": "stdout",
     "output_type": "stream",
     "text": [
      "[2373, 211, 47]\n"
     ]
    }
   ],
   "source": [
    "FK_total = len(december_data[(december_data[\"RatecodeID\"] == 2)]) + len(november_data[(november_data[\"RatecodeID\"] == 2)]) + len(october_data[(october_data[\"RatecodeID\"] == 2)]) + len(september_data[(september_data[\"RatecodeID\"] == 2)])+ len(august_data[(august_data[\"RatecodeID\"] == 2)]) + len(july_data[(july_data[\"RatecodeID\"] == 2)]) \n",
    "Newark_total = len(december_data[(december_data[\"RatecodeID\"] == 3)]) + len(november_data[(november_data[\"RatecodeID\"] == 3)]) + len(october_data[(october_data[\"RatecodeID\"] == 3)]) + len(september_data[(september_data[\"RatecodeID\"] == 3)])+ len(august_data[(august_data[\"RatecodeID\"] == 3)]) + len(july_data[(july_data[\"RatecodeID\"] == 3)]) \n",
    "Nassau_westecheter_total = len(december_data[(december_data[\"RatecodeID\"] == 4)]) + len(november_data[(november_data[\"RatecodeID\"] == 4)]) + len(october_data[(october_data[\"RatecodeID\"] == 4)]) + len(september_data[(september_data[\"RatecodeID\"] == 4)])+ len(august_data[(august_data[\"RatecodeID\"] == 4)]) + len(july_data[(july_data[\"RatecodeID\"] == 4)]) \n",
    "temp =[JFK_total, Newark_total, Nassau_westecheter_total]\n",
    "\n",
    "print(temp)"
   ]
  },
  {
   "cell_type": "code",
   "execution_count": 271,
   "metadata": {},
   "outputs": [
    {
     "name": "stdout",
     "output_type": "stream",
     "text": [
      "                        Months\n",
      "JFK                       2373\n",
      "Newark                     211\n",
      "Nassau and Westecheter      47\n"
     ]
    },
    {
     "data": {
      "text/plain": [
       "<matplotlib.axes._subplots.AxesSubplot at 0x11e85f390>"
      ]
     },
     "execution_count": 271,
     "metadata": {},
     "output_type": "execute_result"
    },
    {
     "data": {
      "image/png": "[encoded data removed]",
      "text/plain": [
       "<matplotlib.figure.Figure at 0x11e4052e8>"
      ]
     },
     "metadata": {},
     "output_type": "display_data"
    }
   ],
   "source": [
    "df_temp = pd.DataFrame(temp)\n",
    "df_temp.rename(columns = {0:'Months'},inplace=True)\n",
    "indexlist = [\"JFK\", \"Newark\", \"Nassau and Westecheter\"]\n",
    "df_temp.index = indexlist\n",
    "print(df_temp)\n",
    "df_temp.plot(kind=\"bar\", figsize=(10,7))"
   ]
  },
  {
   "cell_type": "markdown",
   "metadata": {},
   "source": [
    "## Highest Drofoff Per Airport: JFK(Total: 2373)\n"
   ]
  },
  {
   "cell_type": "markdown",
   "metadata": {},
   "source": [
    "\n",
    "<br>\n",
    "<br>\n",
    "<br>\n",
    "### Question 7\n",
    "#### Which payment, made per month, had the highest occurrence, Cash or Credit Card? What were the total figures per type?\n",
    "\n",
    "1= Credit card <br>\n",
    "2= Cash"
   ]
  },
  {
   "cell_type": "code",
   "execution_count": 272,
   "metadata": {
    "collapsed": true
   },
   "outputs": [],
   "source": [
    "def payment_type(df):\n",
    "    cr = df[df[\"payment_type\"] == 1].shape[0]\n",
    "    ca = df[df[\"payment_type\"] == 2]\n",
    "    return cr, ca.shape[0]"
   ]
  },
  {
   "cell_type": "code",
   "execution_count": 294,
   "metadata": {},
   "outputs": [
    {
     "name": "stdout",
     "output_type": "stream",
     "text": [
      "Credit Cards Payment in July :  10750 \n",
      "Cash Payment in July :  5657\n"
     ]
    }
   ],
   "source": [
    "july_credit, july_cash = payment_type(july_data)\n",
    "print(\"Credit Cards Payment in July : \", july_credit, \"\\nCash Payment in July : \",july_cash)"
   ]
  },
  {
   "cell_type": "markdown",
   "metadata": {},
   "source": [
    "##### Credit card has highest occurence in July"
   ]
  },
  {
   "cell_type": "code",
   "execution_count": 295,
   "metadata": {},
   "outputs": [
    {
     "name": "stdout",
     "output_type": "stream",
     "text": [
      "Credit Cards Payment in august :  10428 \n",
      "Cash Payment in august :  5654\n"
     ]
    }
   ],
   "source": [
    "august_credit, august_cash = payment_type(august_data)\n",
    "print(\"Credit Cards Payment in august : \", august_credit, \"\\nCash Payment in august : \",august_cash)"
   ]
  },
  {
   "cell_type": "markdown",
   "metadata": {},
   "source": [
    "##### Credit card has highest occurence in August"
   ]
  },
  {
   "cell_type": "code",
   "execution_count": 297,
   "metadata": {},
   "outputs": [
    {
     "name": "stdout",
     "output_type": "stream",
     "text": [
      "Credit Cards Payment in september :  10797 \n",
      "Cash Payment in september :  5555\n"
     ]
    }
   ],
   "source": [
    "september_credit, september_cash = payment_type(september_data)\n",
    "print(\"Credit Cards Payment in september : \", september_credit, \"\\nCash Payment in september : \",september_cash)"
   ]
  },
  {
   "cell_type": "markdown",
   "metadata": {},
   "source": [
    "##### Credit card has highest occurence in September"
   ]
  },
  {
   "cell_type": "code",
   "execution_count": 298,
   "metadata": {},
   "outputs": [
    {
     "name": "stdout",
     "output_type": "stream",
     "text": [
      "Credit Cards Payment in October :  11574 \n",
      "Cash Payment in october :  5804\n"
     ]
    }
   ],
   "source": [
    "october_credit, october_cash = payment_type(october_data)\n",
    "print(\"Credit Cards Payment in October : \", october_credit, \"\\nCash Payment in october : \",october_cash)"
   ]
  },
  {
   "cell_type": "markdown",
   "metadata": {},
   "source": [
    "##### Credit card has highest occurence in October"
   ]
  },
  {
   "cell_type": "code",
   "execution_count": 299,
   "metadata": {},
   "outputs": [
    {
     "name": "stdout",
     "output_type": "stream",
     "text": [
      "Credit Cards Payment in november :  10633 \n",
      "Cash Payment in november :  5535\n"
     ]
    }
   ],
   "source": [
    "november_credit, november_cash = payment_type(november_data)\n",
    "print(\"Credit Cards Payment in november : \", november_credit, \"\\nCash Payment in november : \",november_cash)"
   ]
  },
  {
   "cell_type": "markdown",
   "metadata": {},
   "source": [
    "##### Credit card has highest occurence in November"
   ]
  },
  {
   "cell_type": "code",
   "execution_count": 300,
   "metadata": {},
   "outputs": [
    {
     "name": "stdout",
     "output_type": "stream",
     "text": [
      "Credit Cards Payment in december :  10906 \n",
      "Cash Payment in december :  6094\n"
     ]
    }
   ],
   "source": [
    "december_credit, december_cash = payment_type(december_data)\n",
    "print(\"Credit Cards Payment in december : \", december_credit, \"\\nCash Payment in december : \",december_cash)"
   ]
  },
  {
   "cell_type": "markdown",
   "metadata": {},
   "source": [
    "##### Credit card has highest occurence in December"
   ]
  },
  {
   "cell_type": "code",
   "execution_count": 301,
   "metadata": {
    "collapsed": true
   },
   "outputs": [],
   "source": [
    "all_credit = [july_credit, august_credit, september_credit, october_credit, november_credit,december_credit]\n",
    "all_cash = [july_cash, august_cash, september_cash, october_cash, november_cash,december_cash]"
   ]
  },
  {
   "cell_type": "code",
   "execution_count": 304,
   "metadata": {},
   "outputs": [
    {
     "name": "stdout",
     "output_type": "stream",
     "text": [
      "           Months\n",
      "July         5657\n",
      "August       5654\n",
      "September    5555\n",
      "October      5804\n",
      "November     5535\n",
      "December     6094\n"
     ]
    },
    {
     "data": {
      "text/plain": [
       "<matplotlib.axes._subplots.AxesSubplot at 0x11f6b76d8>"
      ]
     },
     "execution_count": 304,
     "metadata": {},
     "output_type": "execute_result"
    },
    {
     "data": {
      "image/png": "[encoded data removed]",
      "text/plain": [
       "<matplotlib.figure.Figure at 0x120635d30>"
      ]
     },
     "metadata": {},
     "output_type": "display_data"
    }
   ],
   "source": [
    "df_temp = pd.DataFrame(all_cash)\n",
    "df_temp.rename(columns = {0:'Months'},inplace=True)\n",
    "indexlist = [\"July\", \"August\", \"September\",\"October\" ,\"November\", \"December\"]\n",
    "df_temp.index = indexlist\n",
    "\n",
    "print(df_temp)\n",
    "df_temp.plot(kind=\"bar\", figsize=(10,7), title= \"Cash Payments Per month\")"
   ]
  },
  {
   "cell_type": "markdown",
   "metadata": {},
   "source": [
    "##### December had Highest number of Cash payments\n",
    "<br>\n",
    "<br>\n",
    "<br>\n",
    "<br><br>\n",
    "<br>\n",
    "#### Calucating Credit card Payements"
   ]
  },
  {
   "cell_type": "code",
   "execution_count": 303,
   "metadata": {},
   "outputs": [
    {
     "name": "stdout",
     "output_type": "stream",
     "text": [
      "           Months\n",
      "July        10750\n",
      "August      10428\n",
      "September   10797\n",
      "October     11574\n",
      "November    10633\n",
      "December    10906\n"
     ]
    },
    {
     "data": {
      "text/plain": [
       "<matplotlib.axes._subplots.AxesSubplot at 0x1208146d8>"
      ]
     },
     "execution_count": 303,
     "metadata": {},
     "output_type": "execute_result"
    },
    {
     "data": {
      "image/png": "[encoded data removed]",
      "text/plain": [
       "<matplotlib.figure.Figure at 0x12082bc50>"
      ]
     },
     "metadata": {},
     "output_type": "display_data"
    }
   ],
   "source": [
    "df_temp = pd.DataFrame(all_credit)\n",
    "df_temp.rename(columns = {0:'Months'},inplace=True)\n",
    "indexlist = [\"July\", \"August\", \"September\",\"October\" ,\"November\", \"December\"]\n",
    "df_temp.index = indexlist\n",
    "\n",
    "print(df_temp)\n",
    "df_temp.plot(kind=\"bar\", figsize=(10,7), title= \"Credit Card Payments Per month\")"
   ]
  },
  {
   "cell_type": "markdown",
   "metadata": {},
   "source": [
    "##### December had Highest number of Cash payments"
   ]
  },
  {
   "cell_type": "markdown",
   "metadata": {},
   "source": [
    "### Question 8:\n",
    "#### Which locations had the highest pickup and drop-off rate per month and how many passengers? (It will be nice if you correlate the pickup_longitude, pickup_latitude and dropoff_longitude, dropoff_latitude with physical locations)"
   ]
  },
  {
   "cell_type": "markdown",
   "metadata": {},
   "source": [
    "## NOTE: for loaction question  I am using different dataset which has 999 Rows and it contains the Latitude and longitude  other dataset didnt conatin it but it has more rows that is 99998 wos therefore all the non location question i did it on thata dataset\n",
    "\n",
    "\n",
    "#### Below dataset contais only the entry of month Februray. The Scodata api which was provided by the dataset provider could only return the entroes of month Februray otherwise it would return the dataset without Latitude and Lonitude"
   ]
  },
  {
   "cell_type": "markdown",
   "metadata": {},
   "source": [
    "## Answer 8:"
   ]
  },
  {
   "cell_type": "code",
   "execution_count": 773,
   "metadata": {},
   "outputs": [
    {
     "data": {
      "text/html": [
       "<div>\n",
       "<style scoped>\n",
       "    .dataframe tbody tr th:only-of-type {\n",
       "        vertical-align: middle;\n",
       "    }\n",
       "\n",
       "    .dataframe tbody tr th {\n",
       "        vertical-align: top;\n",
       "    }\n",
       "\n",
       "    .dataframe thead th {\n",
       "        text-align: right;\n",
       "    }\n",
       "</style>\n",
       "<table border=\"1\" class=\"dataframe\">\n",
       "  <thead>\n",
       "    <tr style=\"text-align: right;\">\n",
       "      <th></th>\n",
       "      <th>VendorID</th>\n",
       "      <th>tpep_pickup_datetime</th>\n",
       "      <th>tpep_dropoff_datetime</th>\n",
       "      <th>passenger_count</th>\n",
       "      <th>trip_distance</th>\n",
       "      <th>pickup_longitude</th>\n",
       "      <th>pickup_latitude</th>\n",
       "      <th>RatecodeID</th>\n",
       "      <th>store_and_fwd_flag</th>\n",
       "      <th>dropoff_longitude</th>\n",
       "      <th>...</th>\n",
       "      <th>payment_type</th>\n",
       "      <th>fare_amount</th>\n",
       "      <th>extra</th>\n",
       "      <th>mta_tax</th>\n",
       "      <th>tip_amount</th>\n",
       "      <th>tolls_amount</th>\n",
       "      <th>improvement_surcharge</th>\n",
       "      <th>total_amount</th>\n",
       "      <th>PULocationID</th>\n",
       "      <th>DOLocationID</th>\n",
       "    </tr>\n",
       "  </thead>\n",
       "  <tbody>\n",
       "    <tr>\n",
       "      <th>0</th>\n",
       "      <td>1</td>\n",
       "      <td>2/1/2016 20:48</td>\n",
       "      <td>2/1/2016 20:57</td>\n",
       "      <td>1</td>\n",
       "      <td>2.3</td>\n",
       "      <td>0.000000</td>\n",
       "      <td>0.000000</td>\n",
       "      <td>1</td>\n",
       "      <td>Y</td>\n",
       "      <td>0.000000</td>\n",
       "      <td>...</td>\n",
       "      <td>1</td>\n",
       "      <td>9.5</td>\n",
       "      <td>0.5</td>\n",
       "      <td>0.5</td>\n",
       "      <td>2.00</td>\n",
       "      <td>0.00</td>\n",
       "      <td>0.3</td>\n",
       "      <td>12.80</td>\n",
       "      <td>NaN</td>\n",
       "      <td>NaN</td>\n",
       "    </tr>\n",
       "    <tr>\n",
       "      <th>1</th>\n",
       "      <td>1</td>\n",
       "      <td>2/9/2016 19:08</td>\n",
       "      <td>2/9/2016 19:28</td>\n",
       "      <td>1</td>\n",
       "      <td>2.9</td>\n",
       "      <td>-73.986984</td>\n",
       "      <td>40.750744</td>\n",
       "      <td>1</td>\n",
       "      <td>Y</td>\n",
       "      <td>-73.977028</td>\n",
       "      <td>...</td>\n",
       "      <td>1</td>\n",
       "      <td>15.0</td>\n",
       "      <td>1.0</td>\n",
       "      <td>0.5</td>\n",
       "      <td>4.20</td>\n",
       "      <td>0.00</td>\n",
       "      <td>0.3</td>\n",
       "      <td>21.00</td>\n",
       "      <td>NaN</td>\n",
       "      <td>NaN</td>\n",
       "    </tr>\n",
       "    <tr>\n",
       "      <th>2</th>\n",
       "      <td>1</td>\n",
       "      <td>2/1/2016 13:50</td>\n",
       "      <td>2/1/2016 13:55</td>\n",
       "      <td>1</td>\n",
       "      <td>1.2</td>\n",
       "      <td>-74.012428</td>\n",
       "      <td>40.706787</td>\n",
       "      <td>1</td>\n",
       "      <td>Y</td>\n",
       "      <td>-74.002739</td>\n",
       "      <td>...</td>\n",
       "      <td>1</td>\n",
       "      <td>6.0</td>\n",
       "      <td>0.0</td>\n",
       "      <td>0.5</td>\n",
       "      <td>1.35</td>\n",
       "      <td>0.00</td>\n",
       "      <td>0.3</td>\n",
       "      <td>8.15</td>\n",
       "      <td>NaN</td>\n",
       "      <td>NaN</td>\n",
       "    </tr>\n",
       "    <tr>\n",
       "      <th>3</th>\n",
       "      <td>1</td>\n",
       "      <td>2/27/2016 15:14</td>\n",
       "      <td>2/27/2016 15:18</td>\n",
       "      <td>1</td>\n",
       "      <td>1.0</td>\n",
       "      <td>-74.000092</td>\n",
       "      <td>40.737709</td>\n",
       "      <td>1</td>\n",
       "      <td>Y</td>\n",
       "      <td>-74.002541</td>\n",
       "      <td>...</td>\n",
       "      <td>2</td>\n",
       "      <td>5.5</td>\n",
       "      <td>0.0</td>\n",
       "      <td>0.5</td>\n",
       "      <td>0.00</td>\n",
       "      <td>0.00</td>\n",
       "      <td>0.3</td>\n",
       "      <td>6.30</td>\n",
       "      <td>NaN</td>\n",
       "      <td>NaN</td>\n",
       "    </tr>\n",
       "    <tr>\n",
       "      <th>4</th>\n",
       "      <td>1</td>\n",
       "      <td>2/10/2016 13:34</td>\n",
       "      <td>2/10/2016 14:22</td>\n",
       "      <td>2</td>\n",
       "      <td>17.6</td>\n",
       "      <td>-73.790359</td>\n",
       "      <td>40.643837</td>\n",
       "      <td>2</td>\n",
       "      <td>Y</td>\n",
       "      <td>-73.982681</td>\n",
       "      <td>...</td>\n",
       "      <td>2</td>\n",
       "      <td>52.0</td>\n",
       "      <td>0.0</td>\n",
       "      <td>0.5</td>\n",
       "      <td>0.00</td>\n",
       "      <td>5.54</td>\n",
       "      <td>0.3</td>\n",
       "      <td>58.34</td>\n",
       "      <td>NaN</td>\n",
       "      <td>NaN</td>\n",
       "    </tr>\n",
       "  </tbody>\n",
       "</table>\n",
       "<p>5 rows × 21 columns</p>\n",
       "</div>"
      ],
      "text/plain": [
       "   VendorID tpep_pickup_datetime tpep_dropoff_datetime  passenger_count  \\\n",
       "0         1       2/1/2016 20:48        2/1/2016 20:57                1   \n",
       "1         1       2/9/2016 19:08        2/9/2016 19:28                1   \n",
       "2         1       2/1/2016 13:50        2/1/2016 13:55                1   \n",
       "3         1      2/27/2016 15:14       2/27/2016 15:18                1   \n",
       "4         1      2/10/2016 13:34       2/10/2016 14:22                2   \n",
       "\n",
       "   trip_distance  pickup_longitude  pickup_latitude  RatecodeID  \\\n",
       "0            2.3          0.000000         0.000000           1   \n",
       "1            2.9        -73.986984        40.750744           1   \n",
       "2            1.2        -74.012428        40.706787           1   \n",
       "3            1.0        -74.000092        40.737709           1   \n",
       "4           17.6        -73.790359        40.643837           2   \n",
       "\n",
       "  store_and_fwd_flag  dropoff_longitude      ...       payment_type  \\\n",
       "0                  Y           0.000000      ...                  1   \n",
       "1                  Y         -73.977028      ...                  1   \n",
       "2                  Y         -74.002739      ...                  1   \n",
       "3                  Y         -74.002541      ...                  2   \n",
       "4                  Y         -73.982681      ...                  2   \n",
       "\n",
       "   fare_amount  extra  mta_tax  tip_amount  tolls_amount  \\\n",
       "0          9.5    0.5      0.5        2.00          0.00   \n",
       "1         15.0    1.0      0.5        4.20          0.00   \n",
       "2          6.0    0.0      0.5        1.35          0.00   \n",
       "3          5.5    0.0      0.5        0.00          0.00   \n",
       "4         52.0    0.0      0.5        0.00          5.54   \n",
       "\n",
       "   improvement_surcharge  total_amount  PULocationID  DOLocationID  \n",
       "0                    0.3         12.80           NaN           NaN  \n",
       "1                    0.3         21.00           NaN           NaN  \n",
       "2                    0.3          8.15           NaN           NaN  \n",
       "3                    0.3          6.30           NaN           NaN  \n",
       "4                    0.3         58.34           NaN           NaN  \n",
       "\n",
       "[5 rows x 21 columns]"
      ]
     },
     "execution_count": 773,
     "metadata": {},
     "output_type": "execute_result"
    }
   ],
   "source": [
    "from geopy.geocoders import Nominatim\n",
    "geolocator = Nominatim()\n",
    "data_loaction.head()"
   ]
  },
  {
   "cell_type": "markdown",
   "metadata": {},
   "source": [
    "### Now lets combine the Pickup Latitude and Longitude and add the combined result into the dataframe."
   ]
  },
  {
   "cell_type": "code",
   "execution_count": 774,
   "metadata": {
    "collapsed": true
   },
   "outputs": [],
   "source": [
    "long = []\n",
    "for d in filtered_data.pickup_longitude:\n",
    "    long.append(d)\n",
    "#print(len(long))    \n",
    "lat = []\n",
    "for d in filtered_data.pickup_latitude:\n",
    "    lat.append(d)\n",
    "\n",
    "ans= []\n",
    "for la, lon in zip(lat, long):\n",
    "    r = str(la) + \" \"+str(lon)\n",
    "    ans.append(r)\n",
    "    \n",
    "pick_cor = ans\n",
    "    #pick_cor = list(zip(lat, long))"
   ]
  },
  {
   "cell_type": "code",
   "execution_count": 775,
   "metadata": {
    "collapsed": true
   },
   "outputs": [],
   "source": [
    "loc = pd.DataFrame(pick_cor)\n",
    "\n",
    "loc_df = pd.concat([filtered_data,loc], axis=1)\n",
    "loc_df.rename(columns = {0:\"Pickup Location\"}, inplace=True)"
   ]
  },
  {
   "cell_type": "code",
   "execution_count": 776,
   "metadata": {
    "collapsed": true
   },
   "outputs": [],
   "source": [
    "loc_count = loc_df[\"Pickup Location\"].value_counts()\n",
    "#loc_count"
   ]
  },
  {
   "cell_type": "markdown",
   "metadata": {},
   "source": [
    "### Now lets combine the Pickup Latitude and Longitude and add the combined result into the dataframe."
   ]
  },
  {
   "cell_type": "code",
   "execution_count": 777,
   "metadata": {
    "collapsed": true
   },
   "outputs": [],
   "source": [
    "long = []\n",
    "for d in filtered_data.dropoff_longitude:\n",
    "    long.append(d)\n",
    "#print(len(long))    \n",
    "lat = []\n",
    "for d in filtered_data.dropoff_latitude:\n",
    "    lat.append(d)\n",
    "ans= []\n",
    "for la, lon in zip(lat, long):\n",
    "    r = str(la) + \" \"+str(lon)\n",
    "    ans.append(r)\n",
    "    \n",
    "drop_cor = ans"
   ]
  },
  {
   "cell_type": "code",
   "execution_count": 778,
   "metadata": {
    "collapsed": true
   },
   "outputs": [],
   "source": [
    "loc = pd.DataFrame(drop_cor)\n",
    "\n",
    "loc_df = pd.concat([loc_df,loc], axis=1)\n",
    "loc_df.rename(columns = {0:\"Dropoff Location\"}, inplace=True)"
   ]
  },
  {
   "cell_type": "code",
   "execution_count": 805,
   "metadata": {},
   "outputs": [
    {
     "data": {
      "text/html": [
       "<div>\n",
       "<style scoped>\n",
       "    .dataframe tbody tr th:only-of-type {\n",
       "        vertical-align: middle;\n",
       "    }\n",
       "\n",
       "    .dataframe tbody tr th {\n",
       "        vertical-align: top;\n",
       "    }\n",
       "\n",
       "    .dataframe thead th {\n",
       "        text-align: right;\n",
       "    }\n",
       "</style>\n",
       "<table border=\"1\" class=\"dataframe\">\n",
       "  <thead>\n",
       "    <tr style=\"text-align: right;\">\n",
       "      <th></th>\n",
       "      <th>Time</th>\n",
       "      <th>VendorID</th>\n",
       "      <th>tpep_pickup_datetime</th>\n",
       "      <th>tpep_dropoff_datetime</th>\n",
       "      <th>passenger_count</th>\n",
       "      <th>trip_distance</th>\n",
       "      <th>pickup_longitude</th>\n",
       "      <th>pickup_latitude</th>\n",
       "      <th>RatecodeID</th>\n",
       "      <th>store_and_fwd_flag</th>\n",
       "      <th>...</th>\n",
       "      <th>extra</th>\n",
       "      <th>mta_tax</th>\n",
       "      <th>tip_amount</th>\n",
       "      <th>tolls_amount</th>\n",
       "      <th>improvement_surcharge</th>\n",
       "      <th>total_amount</th>\n",
       "      <th>PULocationID</th>\n",
       "      <th>DOLocationID</th>\n",
       "      <th>Pickup Location</th>\n",
       "      <th>Dropoff Location</th>\n",
       "    </tr>\n",
       "  </thead>\n",
       "  <tbody>\n",
       "    <tr>\n",
       "      <th>0</th>\n",
       "      <td>22</td>\n",
       "      <td>1</td>\n",
       "      <td>2/3/2016 22:44</td>\n",
       "      <td>2/3/2016 22:56</td>\n",
       "      <td>1</td>\n",
       "      <td>1.9</td>\n",
       "      <td>-73.981392</td>\n",
       "      <td>40.760807</td>\n",
       "      <td>1</td>\n",
       "      <td>Y</td>\n",
       "      <td>...</td>\n",
       "      <td>0.5</td>\n",
       "      <td>0.5</td>\n",
       "      <td>2.25</td>\n",
       "      <td>0.0</td>\n",
       "      <td>0.3</td>\n",
       "      <td>13.55</td>\n",
       "      <td>NaN</td>\n",
       "      <td>NaN</td>\n",
       "      <td>40.76080704 -73.98139191</td>\n",
       "      <td>40.74060059 -73.97870636</td>\n",
       "    </tr>\n",
       "    <tr>\n",
       "      <th>1</th>\n",
       "      <td>23</td>\n",
       "      <td>1</td>\n",
       "      <td>2/12/2016 23:47</td>\n",
       "      <td>2/12/2016 23:53</td>\n",
       "      <td>1</td>\n",
       "      <td>0.9</td>\n",
       "      <td>-74.007889</td>\n",
       "      <td>40.715183</td>\n",
       "      <td>1</td>\n",
       "      <td>Y</td>\n",
       "      <td>...</td>\n",
       "      <td>0.5</td>\n",
       "      <td>0.5</td>\n",
       "      <td>1.45</td>\n",
       "      <td>0.0</td>\n",
       "      <td>0.3</td>\n",
       "      <td>8.75</td>\n",
       "      <td>NaN</td>\n",
       "      <td>NaN</td>\n",
       "      <td>40.71518326 -74.00788879</td>\n",
       "      <td>40.71299744 -73.99603271</td>\n",
       "    </tr>\n",
       "    <tr>\n",
       "      <th>2</th>\n",
       "      <td>23</td>\n",
       "      <td>1</td>\n",
       "      <td>2/14/2016 23:04</td>\n",
       "      <td>2/14/2016 23:09</td>\n",
       "      <td>3</td>\n",
       "      <td>0.7</td>\n",
       "      <td>-73.985977</td>\n",
       "      <td>40.730968</td>\n",
       "      <td>1</td>\n",
       "      <td>Y</td>\n",
       "      <td>...</td>\n",
       "      <td>0.5</td>\n",
       "      <td>0.5</td>\n",
       "      <td>1.00</td>\n",
       "      <td>0.0</td>\n",
       "      <td>0.3</td>\n",
       "      <td>7.80</td>\n",
       "      <td>NaN</td>\n",
       "      <td>NaN</td>\n",
       "      <td>40.73096848 -73.98597717</td>\n",
       "      <td>40.72185898 -73.99198151</td>\n",
       "    </tr>\n",
       "    <tr>\n",
       "      <th>3</th>\n",
       "      <td>22</td>\n",
       "      <td>1</td>\n",
       "      <td>2/7/2016 22:56</td>\n",
       "      <td>2/7/2016 23:06</td>\n",
       "      <td>1</td>\n",
       "      <td>1.6</td>\n",
       "      <td>-73.933754</td>\n",
       "      <td>40.802654</td>\n",
       "      <td>1</td>\n",
       "      <td>Y</td>\n",
       "      <td>...</td>\n",
       "      <td>0.5</td>\n",
       "      <td>0.5</td>\n",
       "      <td>1.00</td>\n",
       "      <td>0.0</td>\n",
       "      <td>0.3</td>\n",
       "      <td>10.80</td>\n",
       "      <td>NaN</td>\n",
       "      <td>NaN</td>\n",
       "      <td>40.80265427 -73.93375397</td>\n",
       "      <td>40.8092804 -73.95526886</td>\n",
       "    </tr>\n",
       "    <tr>\n",
       "      <th>4</th>\n",
       "      <td>22</td>\n",
       "      <td>1</td>\n",
       "      <td>2/8/2016 22:41</td>\n",
       "      <td>2/8/2016 22:49</td>\n",
       "      <td>3</td>\n",
       "      <td>2.7</td>\n",
       "      <td>-73.983345</td>\n",
       "      <td>40.693703</td>\n",
       "      <td>1</td>\n",
       "      <td>Y</td>\n",
       "      <td>...</td>\n",
       "      <td>0.5</td>\n",
       "      <td>0.5</td>\n",
       "      <td>2.35</td>\n",
       "      <td>0.0</td>\n",
       "      <td>0.3</td>\n",
       "      <td>14.15</td>\n",
       "      <td>NaN</td>\n",
       "      <td>NaN</td>\n",
       "      <td>40.6937027 -73.98334503</td>\n",
       "      <td>40.72790146 -73.99913788</td>\n",
       "    </tr>\n",
       "  </tbody>\n",
       "</table>\n",
       "<p>5 rows × 24 columns</p>\n",
       "</div>"
      ],
      "text/plain": [
       "   Time  VendorID tpep_pickup_datetime tpep_dropoff_datetime  passenger_count  \\\n",
       "0    22         1       2/3/2016 22:44        2/3/2016 22:56                1   \n",
       "1    23         1      2/12/2016 23:47       2/12/2016 23:53                1   \n",
       "2    23         1      2/14/2016 23:04       2/14/2016 23:09                3   \n",
       "3    22         1       2/7/2016 22:56        2/7/2016 23:06                1   \n",
       "4    22         1       2/8/2016 22:41        2/8/2016 22:49                3   \n",
       "\n",
       "   trip_distance  pickup_longitude  pickup_latitude  RatecodeID  \\\n",
       "0            1.9        -73.981392        40.760807           1   \n",
       "1            0.9        -74.007889        40.715183           1   \n",
       "2            0.7        -73.985977        40.730968           1   \n",
       "3            1.6        -73.933754        40.802654           1   \n",
       "4            2.7        -73.983345        40.693703           1   \n",
       "\n",
       "  store_and_fwd_flag            ...             extra  mta_tax  tip_amount  \\\n",
       "0                  Y            ...               0.5      0.5        2.25   \n",
       "1                  Y            ...               0.5      0.5        1.45   \n",
       "2                  Y            ...               0.5      0.5        1.00   \n",
       "3                  Y            ...               0.5      0.5        1.00   \n",
       "4                  Y            ...               0.5      0.5        2.35   \n",
       "\n",
       "   tolls_amount  improvement_surcharge  total_amount  PULocationID  \\\n",
       "0           0.0                    0.3         13.55           NaN   \n",
       "1           0.0                    0.3          8.75           NaN   \n",
       "2           0.0                    0.3          7.80           NaN   \n",
       "3           0.0                    0.3         10.80           NaN   \n",
       "4           0.0                    0.3         14.15           NaN   \n",
       "\n",
       "   DOLocationID           Pickup Location          Dropoff Location  \n",
       "0           NaN  40.76080704 -73.98139191  40.74060059 -73.97870636  \n",
       "1           NaN  40.71518326 -74.00788879  40.71299744 -73.99603271  \n",
       "2           NaN  40.73096848 -73.98597717  40.72185898 -73.99198151  \n",
       "3           NaN  40.80265427 -73.93375397   40.8092804 -73.95526886  \n",
       "4           NaN   40.6937027 -73.98334503  40.72790146 -73.99913788  \n",
       "\n",
       "[5 rows x 24 columns]"
      ]
     },
     "execution_count": 805,
     "metadata": {},
     "output_type": "execute_result"
    }
   ],
   "source": [
    "loc_df.head()"
   ]
  },
  {
   "cell_type": "markdown",
   "metadata": {},
   "source": [
    "### We can see the Pickup Location and Dropoff Location added in the dataframe\n",
    "#### now lets check the top pickup locations and dropoff locations"
   ]
  },
  {
   "cell_type": "code",
   "execution_count": 780,
   "metadata": {},
   "outputs": [
    {
     "name": "stdout",
     "output_type": "stream",
     "text": [
      "0.0 0.0                     7\n",
      "40.78582382 -73.98005676    1\n",
      "40.75576019 -73.96172333    1\n",
      "Name: Dropoff Location, dtype: int64\n"
     ]
    }
   ],
   "source": [
    "loc_count = loc_df[\"Dropoff Location\"].value_counts()\n",
    "t = loc_count[3]\n",
    "print(loc_count[0:3])"
   ]
  },
  {
   "cell_type": "code",
   "execution_count": 806,
   "metadata": {},
   "outputs": [
    {
     "name": "stdout",
     "output_type": "stream",
     "text": [
      "Top DropOff Locations : \n",
      " [Location(None, (0.0, 0.0, 0.0)), Location(440, West End Ave., Upper West Side, Manhattan Community Board 7, New York County, NYC, New York, 10024, United States of America, (40.7857673, -73.9798991, 0.0)), Location(45, Sutton Place South, Tudor City, Manhattan Community Board 6, New York County, NYC, New York, 10022, United States of America, (40.7558143, -73.9615657, 0.0))]\n"
     ]
    }
   ],
   "source": [
    "l1 = geolocator.reverse(\"0.0, 0.0\")\n",
    "l2 = geolocator.reverse(\"40.78582382, -73.98005676\")\n",
    "l3 = geolocator.reverse(\"40.75576019, -73.96172333\")\n",
    "l=[]\n",
    "l.append(l1)\n",
    "l.append(l2)\n",
    "l.append(l3)\n",
    "print(\"Top DropOff Locations : \\n\", l)"
   ]
  },
  {
   "cell_type": "markdown",
   "metadata": {},
   "source": [
    "##### above Output:\n",
    "#### Top Dropoff Locations:\n",
    "0.0, 0.0, 0.0\n",
    "<br><br>\n",
    "440, West End Ave., Upper West Side, Manhattan Community Board 7, New York County, NYC, New York, 10024, United States of America\n",
    "<br><br>\n",
    "45, Sutton Place South, Tudor City, Manhattan Community Board 6, New York County, NYC, New York, 10022, United States of America"
   ]
  },
  {
   "cell_type": "code",
   "execution_count": 808,
   "metadata": {},
   "outputs": [
    {
     "name": "stdout",
     "output_type": "stream",
     "text": [
      "0.0 0.0                     3\n",
      "40.71941757 -74.00875854    1\n",
      "40.77375412 -73.87090302    1\n",
      "Name: Pickup Location, dtype: int64\n"
     ]
    }
   ],
   "source": [
    "loc_count = loc_df[\"Pickup Location\"].value_counts()\n",
    "t = loc_count[3]\n",
    "print(loc_count[0:3])"
   ]
  },
  {
   "cell_type": "code",
   "execution_count": 809,
   "metadata": {},
   "outputs": [
    {
     "name": "stdout",
     "output_type": "stream",
     "text": [
      "Top Pickup Locations : \n",
      " [Location(None, (0.0, 0.0, 0.0)), Location(Powell Building, Franklin Street, Tribeca, Manhattan Community Board 1, New York County, NYC, New York, 10013, United States of America, (40.7194907, -74.0090173809577, 0.0)), Location(Duty Free, Departures, North Beach, Queens County, NYC, New York, 11356, United States of America, (40.7742449, -73.8704951, 0.0))]\n"
     ]
    }
   ],
   "source": [
    "l1 = geolocator.reverse(\"0.0, 0.0\")\n",
    "l2 = geolocator.reverse(\"40.71941757, -74.00875854\")\n",
    "l3 = geolocator.reverse(\"40.77375412, -73.87090302 \")\n",
    "l=[]\n",
    "l.append(l1)\n",
    "l.append(l2)\n",
    "l.append(l3)\n",
    "print(\"Top Pickup Locations : \\n\", l)"
   ]
  },
  {
   "cell_type": "markdown",
   "metadata": {},
   "source": [
    "### Top Pickup Locations:\n",
    "0.0, 0.0, 0.0 \n",
    "<br><br>\n",
    "Powell Building, Franklin Street, Tribeca, Manhattan Community Board 1, New York County, NYC, New York, 10013, United States of America\n",
    "<br><br>\n",
    "Duty Free, Departures, North Beach, Queens County, NYC, New York, 11356, United States of America"
   ]
  },
  {
   "cell_type": "markdown",
   "metadata": {},
   "source": [
    "### From above outputs we can see that there are some wrong points in the dataset which have locations as 0.0, 0.0, 0.0 "
   ]
  },
  {
   "cell_type": "markdown",
   "metadata": {},
   "source": [
    "### Question 9\n",
    "#### Trip duration (travel time) to JFK airport per time of the day. What time of the day takes the longest? (Hint: Show median, 25-75th percentile, etc…)"
   ]
  },
  {
   "cell_type": "code",
   "execution_count": 339,
   "metadata": {
    "collapsed": true
   },
   "outputs": [],
   "source": [
    "jfk_data = data[data['RatecodeID'] == 2 ]"
   ]
  },
  {
   "cell_type": "code",
   "execution_count": 340,
   "metadata": {},
   "outputs": [
    {
     "data": {
      "text/plain": [
       "Index(['VendorID', 'tpep_pickup_datetime', 'tpep_dropoff_datetime',\n",
       "       'passenger_count', 'trip_distance', 'pickup_longitude',\n",
       "       'pickup_latitude', 'RatecodeID', 'store_and_fwd_flag',\n",
       "       'dropoff_longitude', 'dropoff_latitude', 'payment_type', 'fare_amount',\n",
       "       'extra', 'mta_tax', 'tip_amount', 'tolls_amount',\n",
       "       'improvement_surcharge', 'total_amount', 'PULocationID',\n",
       "       'DOLocationID'],\n",
       "      dtype='object')"
      ]
     },
     "execution_count": 340,
     "metadata": {},
     "output_type": "execute_result"
    }
   ],
   "source": [
    "jfk_data.columns"
   ]
  },
  {
   "cell_type": "code",
   "execution_count": 341,
   "metadata": {},
   "outputs": [
    {
     "data": {
      "text/html": [
       "<div>\n",
       "<style scoped>\n",
       "    .dataframe tbody tr th:only-of-type {\n",
       "        vertical-align: middle;\n",
       "    }\n",
       "\n",
       "    .dataframe tbody tr th {\n",
       "        vertical-align: top;\n",
       "    }\n",
       "\n",
       "    .dataframe thead th {\n",
       "        text-align: right;\n",
       "    }\n",
       "</style>\n",
       "<table border=\"1\" class=\"dataframe\">\n",
       "  <thead>\n",
       "    <tr style=\"text-align: right;\">\n",
       "      <th></th>\n",
       "      <th>VendorID</th>\n",
       "      <th>tpep_pickup_datetime</th>\n",
       "      <th>tpep_dropoff_datetime</th>\n",
       "      <th>passenger_count</th>\n",
       "      <th>trip_distance</th>\n",
       "      <th>pickup_longitude</th>\n",
       "      <th>pickup_latitude</th>\n",
       "      <th>RatecodeID</th>\n",
       "      <th>store_and_fwd_flag</th>\n",
       "      <th>dropoff_longitude</th>\n",
       "      <th>...</th>\n",
       "      <th>payment_type</th>\n",
       "      <th>fare_amount</th>\n",
       "      <th>extra</th>\n",
       "      <th>mta_tax</th>\n",
       "      <th>tip_amount</th>\n",
       "      <th>tolls_amount</th>\n",
       "      <th>improvement_surcharge</th>\n",
       "      <th>total_amount</th>\n",
       "      <th>PULocationID</th>\n",
       "      <th>DOLocationID</th>\n",
       "    </tr>\n",
       "  </thead>\n",
       "  <tbody>\n",
       "    <tr>\n",
       "      <th>31</th>\n",
       "      <td>2</td>\n",
       "      <td>7/10/2016 7:15</td>\n",
       "      <td>7/10/2016 7:38</td>\n",
       "      <td>5</td>\n",
       "      <td>17.21</td>\n",
       "      <td>NaN</td>\n",
       "      <td>NaN</td>\n",
       "      <td>2</td>\n",
       "      <td>N</td>\n",
       "      <td>NaN</td>\n",
       "      <td>...</td>\n",
       "      <td>1</td>\n",
       "      <td>52.0</td>\n",
       "      <td>0.0</td>\n",
       "      <td>0.5</td>\n",
       "      <td>11.67</td>\n",
       "      <td>5.54</td>\n",
       "      <td>0.3</td>\n",
       "      <td>70.01</td>\n",
       "      <td>132</td>\n",
       "      <td>162</td>\n",
       "    </tr>\n",
       "    <tr>\n",
       "      <th>34</th>\n",
       "      <td>1</td>\n",
       "      <td>7/28/2016 14:34</td>\n",
       "      <td>7/28/2016 15:47</td>\n",
       "      <td>3</td>\n",
       "      <td>17.80</td>\n",
       "      <td>NaN</td>\n",
       "      <td>NaN</td>\n",
       "      <td>2</td>\n",
       "      <td>N</td>\n",
       "      <td>NaN</td>\n",
       "      <td>...</td>\n",
       "      <td>1</td>\n",
       "      <td>52.0</td>\n",
       "      <td>0.0</td>\n",
       "      <td>0.5</td>\n",
       "      <td>6.00</td>\n",
       "      <td>11.08</td>\n",
       "      <td>0.3</td>\n",
       "      <td>69.88</td>\n",
       "      <td>132</td>\n",
       "      <td>161</td>\n",
       "    </tr>\n",
       "    <tr>\n",
       "      <th>68</th>\n",
       "      <td>1</td>\n",
       "      <td>9/21/2016 14:34</td>\n",
       "      <td>9/21/2016 16:01</td>\n",
       "      <td>2</td>\n",
       "      <td>17.70</td>\n",
       "      <td>NaN</td>\n",
       "      <td>NaN</td>\n",
       "      <td>2</td>\n",
       "      <td>N</td>\n",
       "      <td>NaN</td>\n",
       "      <td>...</td>\n",
       "      <td>2</td>\n",
       "      <td>52.0</td>\n",
       "      <td>0.0</td>\n",
       "      <td>0.5</td>\n",
       "      <td>0.00</td>\n",
       "      <td>5.54</td>\n",
       "      <td>0.3</td>\n",
       "      <td>58.34</td>\n",
       "      <td>132</td>\n",
       "      <td>229</td>\n",
       "    </tr>\n",
       "    <tr>\n",
       "      <th>112</th>\n",
       "      <td>2</td>\n",
       "      <td>8/5/2016 12:57</td>\n",
       "      <td>8/5/2016 13:34</td>\n",
       "      <td>2</td>\n",
       "      <td>16.13</td>\n",
       "      <td>NaN</td>\n",
       "      <td>NaN</td>\n",
       "      <td>2</td>\n",
       "      <td>N</td>\n",
       "      <td>NaN</td>\n",
       "      <td>...</td>\n",
       "      <td>1</td>\n",
       "      <td>52.0</td>\n",
       "      <td>0.0</td>\n",
       "      <td>0.5</td>\n",
       "      <td>6.00</td>\n",
       "      <td>5.54</td>\n",
       "      <td>0.3</td>\n",
       "      <td>64.34</td>\n",
       "      <td>162</td>\n",
       "      <td>132</td>\n",
       "    </tr>\n",
       "    <tr>\n",
       "      <th>136</th>\n",
       "      <td>2</td>\n",
       "      <td>10/10/2016 5:35</td>\n",
       "      <td>10/10/2016 6:11</td>\n",
       "      <td>5</td>\n",
       "      <td>21.13</td>\n",
       "      <td>NaN</td>\n",
       "      <td>NaN</td>\n",
       "      <td>2</td>\n",
       "      <td>N</td>\n",
       "      <td>NaN</td>\n",
       "      <td>...</td>\n",
       "      <td>1</td>\n",
       "      <td>52.0</td>\n",
       "      <td>0.0</td>\n",
       "      <td>0.5</td>\n",
       "      <td>10.56</td>\n",
       "      <td>0.00</td>\n",
       "      <td>0.3</td>\n",
       "      <td>63.36</td>\n",
       "      <td>132</td>\n",
       "      <td>87</td>\n",
       "    </tr>\n",
       "  </tbody>\n",
       "</table>\n",
       "<p>5 rows × 21 columns</p>\n",
       "</div>"
      ],
      "text/plain": [
       "     VendorID tpep_pickup_datetime tpep_dropoff_datetime  passenger_count  \\\n",
       "31          2       7/10/2016 7:15        7/10/2016 7:38                5   \n",
       "34          1      7/28/2016 14:34       7/28/2016 15:47                3   \n",
       "68          1      9/21/2016 14:34       9/21/2016 16:01                2   \n",
       "112         2       8/5/2016 12:57        8/5/2016 13:34                2   \n",
       "136         2      10/10/2016 5:35       10/10/2016 6:11                5   \n",
       "\n",
       "     trip_distance  pickup_longitude  pickup_latitude  RatecodeID  \\\n",
       "31           17.21               NaN              NaN           2   \n",
       "34           17.80               NaN              NaN           2   \n",
       "68           17.70               NaN              NaN           2   \n",
       "112          16.13               NaN              NaN           2   \n",
       "136          21.13               NaN              NaN           2   \n",
       "\n",
       "    store_and_fwd_flag  dropoff_longitude      ...       payment_type  \\\n",
       "31                   N                NaN      ...                  1   \n",
       "34                   N                NaN      ...                  1   \n",
       "68                   N                NaN      ...                  2   \n",
       "112                  N                NaN      ...                  1   \n",
       "136                  N                NaN      ...                  1   \n",
       "\n",
       "     fare_amount  extra  mta_tax  tip_amount  tolls_amount  \\\n",
       "31          52.0    0.0      0.5       11.67          5.54   \n",
       "34          52.0    0.0      0.5        6.00         11.08   \n",
       "68          52.0    0.0      0.5        0.00          5.54   \n",
       "112         52.0    0.0      0.5        6.00          5.54   \n",
       "136         52.0    0.0      0.5       10.56          0.00   \n",
       "\n",
       "     improvement_surcharge  total_amount  PULocationID  DOLocationID  \n",
       "31                     0.3         70.01           132           162  \n",
       "34                     0.3         69.88           132           161  \n",
       "68                     0.3         58.34           132           229  \n",
       "112                    0.3         64.34           162           132  \n",
       "136                    0.3         63.36           132            87  \n",
       "\n",
       "[5 rows x 21 columns]"
      ]
     },
     "execution_count": 341,
     "metadata": {},
     "output_type": "execute_result"
    }
   ],
   "source": [
    "jfk_data.head()"
   ]
  },
  {
   "cell_type": "code",
   "execution_count": 346,
   "metadata": {},
   "outputs": [
    {
     "data": {
      "text/html": [
       "<div>\n",
       "<style scoped>\n",
       "    .dataframe tbody tr th:only-of-type {\n",
       "        vertical-align: middle;\n",
       "    }\n",
       "\n",
       "    .dataframe tbody tr th {\n",
       "        vertical-align: top;\n",
       "    }\n",
       "\n",
       "    .dataframe thead th {\n",
       "        text-align: right;\n",
       "    }\n",
       "</style>\n",
       "<table border=\"1\" class=\"dataframe\">\n",
       "  <thead>\n",
       "    <tr style=\"text-align: right;\">\n",
       "      <th></th>\n",
       "      <th>VendorID</th>\n",
       "      <th>tpep_pickup_datetime</th>\n",
       "      <th>tpep_dropoff_datetime</th>\n",
       "      <th>passenger_count</th>\n",
       "      <th>trip_distance</th>\n",
       "      <th>pickup_longitude</th>\n",
       "      <th>pickup_latitude</th>\n",
       "      <th>RatecodeID</th>\n",
       "      <th>store_and_fwd_flag</th>\n",
       "      <th>dropoff_longitude</th>\n",
       "      <th>...</th>\n",
       "      <th>payment_type</th>\n",
       "      <th>fare_amount</th>\n",
       "      <th>extra</th>\n",
       "      <th>mta_tax</th>\n",
       "      <th>tip_amount</th>\n",
       "      <th>tolls_amount</th>\n",
       "      <th>improvement_surcharge</th>\n",
       "      <th>total_amount</th>\n",
       "      <th>PULocationID</th>\n",
       "      <th>DOLocationID</th>\n",
       "    </tr>\n",
       "  </thead>\n",
       "  <tbody>\n",
       "    <tr>\n",
       "      <th>0</th>\n",
       "      <td>2</td>\n",
       "      <td>7/10/2016 7:15</td>\n",
       "      <td>7/10/2016 7:38</td>\n",
       "      <td>5</td>\n",
       "      <td>17.21</td>\n",
       "      <td>NaN</td>\n",
       "      <td>NaN</td>\n",
       "      <td>2</td>\n",
       "      <td>N</td>\n",
       "      <td>NaN</td>\n",
       "      <td>...</td>\n",
       "      <td>1</td>\n",
       "      <td>52.0</td>\n",
       "      <td>0.0</td>\n",
       "      <td>0.5</td>\n",
       "      <td>11.67</td>\n",
       "      <td>5.54</td>\n",
       "      <td>0.3</td>\n",
       "      <td>70.01</td>\n",
       "      <td>132</td>\n",
       "      <td>162</td>\n",
       "    </tr>\n",
       "    <tr>\n",
       "      <th>1</th>\n",
       "      <td>1</td>\n",
       "      <td>7/28/2016 14:34</td>\n",
       "      <td>7/28/2016 15:47</td>\n",
       "      <td>3</td>\n",
       "      <td>17.80</td>\n",
       "      <td>NaN</td>\n",
       "      <td>NaN</td>\n",
       "      <td>2</td>\n",
       "      <td>N</td>\n",
       "      <td>NaN</td>\n",
       "      <td>...</td>\n",
       "      <td>1</td>\n",
       "      <td>52.0</td>\n",
       "      <td>0.0</td>\n",
       "      <td>0.5</td>\n",
       "      <td>6.00</td>\n",
       "      <td>11.08</td>\n",
       "      <td>0.3</td>\n",
       "      <td>69.88</td>\n",
       "      <td>132</td>\n",
       "      <td>161</td>\n",
       "    </tr>\n",
       "    <tr>\n",
       "      <th>2</th>\n",
       "      <td>1</td>\n",
       "      <td>9/21/2016 14:34</td>\n",
       "      <td>9/21/2016 16:01</td>\n",
       "      <td>2</td>\n",
       "      <td>17.70</td>\n",
       "      <td>NaN</td>\n",
       "      <td>NaN</td>\n",
       "      <td>2</td>\n",
       "      <td>N</td>\n",
       "      <td>NaN</td>\n",
       "      <td>...</td>\n",
       "      <td>2</td>\n",
       "      <td>52.0</td>\n",
       "      <td>0.0</td>\n",
       "      <td>0.5</td>\n",
       "      <td>0.00</td>\n",
       "      <td>5.54</td>\n",
       "      <td>0.3</td>\n",
       "      <td>58.34</td>\n",
       "      <td>132</td>\n",
       "      <td>229</td>\n",
       "    </tr>\n",
       "    <tr>\n",
       "      <th>3</th>\n",
       "      <td>2</td>\n",
       "      <td>8/5/2016 12:57</td>\n",
       "      <td>8/5/2016 13:34</td>\n",
       "      <td>2</td>\n",
       "      <td>16.13</td>\n",
       "      <td>NaN</td>\n",
       "      <td>NaN</td>\n",
       "      <td>2</td>\n",
       "      <td>N</td>\n",
       "      <td>NaN</td>\n",
       "      <td>...</td>\n",
       "      <td>1</td>\n",
       "      <td>52.0</td>\n",
       "      <td>0.0</td>\n",
       "      <td>0.5</td>\n",
       "      <td>6.00</td>\n",
       "      <td>5.54</td>\n",
       "      <td>0.3</td>\n",
       "      <td>64.34</td>\n",
       "      <td>162</td>\n",
       "      <td>132</td>\n",
       "    </tr>\n",
       "    <tr>\n",
       "      <th>4</th>\n",
       "      <td>2</td>\n",
       "      <td>10/10/2016 5:35</td>\n",
       "      <td>10/10/2016 6:11</td>\n",
       "      <td>5</td>\n",
       "      <td>21.13</td>\n",
       "      <td>NaN</td>\n",
       "      <td>NaN</td>\n",
       "      <td>2</td>\n",
       "      <td>N</td>\n",
       "      <td>NaN</td>\n",
       "      <td>...</td>\n",
       "      <td>1</td>\n",
       "      <td>52.0</td>\n",
       "      <td>0.0</td>\n",
       "      <td>0.5</td>\n",
       "      <td>10.56</td>\n",
       "      <td>0.00</td>\n",
       "      <td>0.3</td>\n",
       "      <td>63.36</td>\n",
       "      <td>132</td>\n",
       "      <td>87</td>\n",
       "    </tr>\n",
       "  </tbody>\n",
       "</table>\n",
       "<p>5 rows × 21 columns</p>\n",
       "</div>"
      ],
      "text/plain": [
       "   VendorID tpep_pickup_datetime tpep_dropoff_datetime  passenger_count  \\\n",
       "0         2       7/10/2016 7:15        7/10/2016 7:38                5   \n",
       "1         1      7/28/2016 14:34       7/28/2016 15:47                3   \n",
       "2         1      9/21/2016 14:34       9/21/2016 16:01                2   \n",
       "3         2       8/5/2016 12:57        8/5/2016 13:34                2   \n",
       "4         2      10/10/2016 5:35       10/10/2016 6:11                5   \n",
       "\n",
       "   trip_distance  pickup_longitude  pickup_latitude  RatecodeID  \\\n",
       "0          17.21               NaN              NaN           2   \n",
       "1          17.80               NaN              NaN           2   \n",
       "2          17.70               NaN              NaN           2   \n",
       "3          16.13               NaN              NaN           2   \n",
       "4          21.13               NaN              NaN           2   \n",
       "\n",
       "  store_and_fwd_flag  dropoff_longitude      ...       payment_type  \\\n",
       "0                  N                NaN      ...                  1   \n",
       "1                  N                NaN      ...                  1   \n",
       "2                  N                NaN      ...                  2   \n",
       "3                  N                NaN      ...                  1   \n",
       "4                  N                NaN      ...                  1   \n",
       "\n",
       "   fare_amount  extra  mta_tax  tip_amount  tolls_amount  \\\n",
       "0         52.0    0.0      0.5       11.67          5.54   \n",
       "1         52.0    0.0      0.5        6.00         11.08   \n",
       "2         52.0    0.0      0.5        0.00          5.54   \n",
       "3         52.0    0.0      0.5        6.00          5.54   \n",
       "4         52.0    0.0      0.5       10.56          0.00   \n",
       "\n",
       "   improvement_surcharge  total_amount  PULocationID  DOLocationID  \n",
       "0                    0.3         70.01           132           162  \n",
       "1                    0.3         69.88           132           161  \n",
       "2                    0.3         58.34           132           229  \n",
       "3                    0.3         64.34           162           132  \n",
       "4                    0.3         63.36           132            87  \n",
       "\n",
       "[5 rows x 21 columns]"
      ]
     },
     "execution_count": 346,
     "metadata": {},
     "output_type": "execute_result"
    }
   ],
   "source": [
    "jfk_data.shape\n",
    "ind = range(0,len(jfk_data))\n",
    "indexlist = list(ind)\n",
    "jfk_data.index = indexlist\n"
   ]
  },
  {
   "cell_type": "markdown",
   "metadata": {},
   "source": [
    "### Now we will calculate Duration of the trip\n",
    "#### Duration = tpep_pickup_datetime - df.tpep_dropoff_datetime\n",
    "#### As the df.tpep_dropoff_datetime and tpep_pickup_datetime  are in time format we need to use datetime and time libray and perform some calucation to find the duration"
   ]
  },
  {
   "cell_type": "code",
   "execution_count": 347,
   "metadata": {},
   "outputs": [
    {
     "data": {
      "text/plain": [
       "2373"
      ]
     },
     "execution_count": 347,
     "metadata": {},
     "output_type": "execute_result"
    }
   ],
   "source": [
    "from datetime import datetime\n",
    "import time\n",
    "\n",
    "def trip_duration(df):\n",
    "    longest = 0\n",
    "    duration_list = []\n",
    "    fmt = '%m/%d/%Y %H:%M'\n",
    "    for start,end in zip(df.tpep_pickup_datetime, df.tpep_dropoff_datetime):\n",
    "\n",
    "        start = str(start)\n",
    "        end = str(end)\n",
    "        #print(start, end)\n",
    "        d1 = datetime.strptime(start, fmt)\n",
    "        d2 = datetime.strptime(end, fmt)\n",
    "\n",
    "        diff = d2 -d1\n",
    "        diff_minutes = (diff.days * 24 * 60) + (diff.seconds/60)\n",
    "\n",
    "        duration_list.append(diff_minutes)\n",
    "        \n",
    "        #list_longest.append(diff_minutes)\n",
    "        #ans = max(list_longest)\n",
    "    return duration_list\n",
    "\n",
    "Duration = pd.DataFrame(trip_duration(jfk_data))\n",
    "len(Duration)"
   ]
  },
  {
   "cell_type": "markdown",
   "metadata": {},
   "source": [
    "#### Now we calucated the duration of each ride to JFK airport \n",
    "#### It is stores in Duration list now we willcreate a jfk_with_duration Datafrae and Concate it with the jfk_data Dataframe"
   ]
  },
  {
   "cell_type": "code",
   "execution_count": 376,
   "metadata": {},
   "outputs": [
    {
     "data": {
      "text/html": [
       "<div>\n",
       "<style scoped>\n",
       "    .dataframe tbody tr th:only-of-type {\n",
       "        vertical-align: middle;\n",
       "    }\n",
       "\n",
       "    .dataframe tbody tr th {\n",
       "        vertical-align: top;\n",
       "    }\n",
       "\n",
       "    .dataframe thead th {\n",
       "        text-align: right;\n",
       "    }\n",
       "</style>\n",
       "<table border=\"1\" class=\"dataframe\">\n",
       "  <thead>\n",
       "    <tr style=\"text-align: right;\">\n",
       "      <th></th>\n",
       "      <th>VendorID</th>\n",
       "      <th>tpep_pickup_datetime</th>\n",
       "      <th>tpep_dropoff_datetime</th>\n",
       "      <th>passenger_count</th>\n",
       "      <th>trip_distance</th>\n",
       "      <th>pickup_longitude</th>\n",
       "      <th>pickup_latitude</th>\n",
       "      <th>RatecodeID</th>\n",
       "      <th>store_and_fwd_flag</th>\n",
       "      <th>dropoff_longitude</th>\n",
       "      <th>...</th>\n",
       "      <th>fare_amount</th>\n",
       "      <th>extra</th>\n",
       "      <th>mta_tax</th>\n",
       "      <th>tip_amount</th>\n",
       "      <th>tolls_amount</th>\n",
       "      <th>improvement_surcharge</th>\n",
       "      <th>total_amount</th>\n",
       "      <th>PULocationID</th>\n",
       "      <th>DOLocationID</th>\n",
       "      <th>Duration</th>\n",
       "    </tr>\n",
       "  </thead>\n",
       "  <tbody>\n",
       "    <tr>\n",
       "      <th>0</th>\n",
       "      <td>2</td>\n",
       "      <td>7/10/2016 7:15</td>\n",
       "      <td>7/10/2016 7:38</td>\n",
       "      <td>5</td>\n",
       "      <td>17.21</td>\n",
       "      <td>NaN</td>\n",
       "      <td>NaN</td>\n",
       "      <td>2</td>\n",
       "      <td>N</td>\n",
       "      <td>NaN</td>\n",
       "      <td>...</td>\n",
       "      <td>52.0</td>\n",
       "      <td>0.0</td>\n",
       "      <td>0.5</td>\n",
       "      <td>11.67</td>\n",
       "      <td>5.54</td>\n",
       "      <td>0.3</td>\n",
       "      <td>70.01</td>\n",
       "      <td>132</td>\n",
       "      <td>162</td>\n",
       "      <td>23.0</td>\n",
       "    </tr>\n",
       "    <tr>\n",
       "      <th>1</th>\n",
       "      <td>1</td>\n",
       "      <td>7/28/2016 14:34</td>\n",
       "      <td>7/28/2016 15:47</td>\n",
       "      <td>3</td>\n",
       "      <td>17.80</td>\n",
       "      <td>NaN</td>\n",
       "      <td>NaN</td>\n",
       "      <td>2</td>\n",
       "      <td>N</td>\n",
       "      <td>NaN</td>\n",
       "      <td>...</td>\n",
       "      <td>52.0</td>\n",
       "      <td>0.0</td>\n",
       "      <td>0.5</td>\n",
       "      <td>6.00</td>\n",
       "      <td>11.08</td>\n",
       "      <td>0.3</td>\n",
       "      <td>69.88</td>\n",
       "      <td>132</td>\n",
       "      <td>161</td>\n",
       "      <td>73.0</td>\n",
       "    </tr>\n",
       "    <tr>\n",
       "      <th>2</th>\n",
       "      <td>1</td>\n",
       "      <td>9/21/2016 14:34</td>\n",
       "      <td>9/21/2016 16:01</td>\n",
       "      <td>2</td>\n",
       "      <td>17.70</td>\n",
       "      <td>NaN</td>\n",
       "      <td>NaN</td>\n",
       "      <td>2</td>\n",
       "      <td>N</td>\n",
       "      <td>NaN</td>\n",
       "      <td>...</td>\n",
       "      <td>52.0</td>\n",
       "      <td>0.0</td>\n",
       "      <td>0.5</td>\n",
       "      <td>0.00</td>\n",
       "      <td>5.54</td>\n",
       "      <td>0.3</td>\n",
       "      <td>58.34</td>\n",
       "      <td>132</td>\n",
       "      <td>229</td>\n",
       "      <td>87.0</td>\n",
       "    </tr>\n",
       "    <tr>\n",
       "      <th>3</th>\n",
       "      <td>2</td>\n",
       "      <td>8/5/2016 12:57</td>\n",
       "      <td>8/5/2016 13:34</td>\n",
       "      <td>2</td>\n",
       "      <td>16.13</td>\n",
       "      <td>NaN</td>\n",
       "      <td>NaN</td>\n",
       "      <td>2</td>\n",
       "      <td>N</td>\n",
       "      <td>NaN</td>\n",
       "      <td>...</td>\n",
       "      <td>52.0</td>\n",
       "      <td>0.0</td>\n",
       "      <td>0.5</td>\n",
       "      <td>6.00</td>\n",
       "      <td>5.54</td>\n",
       "      <td>0.3</td>\n",
       "      <td>64.34</td>\n",
       "      <td>162</td>\n",
       "      <td>132</td>\n",
       "      <td>37.0</td>\n",
       "    </tr>\n",
       "    <tr>\n",
       "      <th>4</th>\n",
       "      <td>2</td>\n",
       "      <td>10/10/2016 5:35</td>\n",
       "      <td>10/10/2016 6:11</td>\n",
       "      <td>5</td>\n",
       "      <td>21.13</td>\n",
       "      <td>NaN</td>\n",
       "      <td>NaN</td>\n",
       "      <td>2</td>\n",
       "      <td>N</td>\n",
       "      <td>NaN</td>\n",
       "      <td>...</td>\n",
       "      <td>52.0</td>\n",
       "      <td>0.0</td>\n",
       "      <td>0.5</td>\n",
       "      <td>10.56</td>\n",
       "      <td>0.00</td>\n",
       "      <td>0.3</td>\n",
       "      <td>63.36</td>\n",
       "      <td>132</td>\n",
       "      <td>87</td>\n",
       "      <td>36.0</td>\n",
       "    </tr>\n",
       "  </tbody>\n",
       "</table>\n",
       "<p>5 rows × 22 columns</p>\n",
       "</div>"
      ],
      "text/plain": [
       "   VendorID tpep_pickup_datetime tpep_dropoff_datetime  passenger_count  \\\n",
       "0         2       7/10/2016 7:15        7/10/2016 7:38                5   \n",
       "1         1      7/28/2016 14:34       7/28/2016 15:47                3   \n",
       "2         1      9/21/2016 14:34       9/21/2016 16:01                2   \n",
       "3         2       8/5/2016 12:57        8/5/2016 13:34                2   \n",
       "4         2      10/10/2016 5:35       10/10/2016 6:11                5   \n",
       "\n",
       "   trip_distance  pickup_longitude  pickup_latitude  RatecodeID  \\\n",
       "0          17.21               NaN              NaN           2   \n",
       "1          17.80               NaN              NaN           2   \n",
       "2          17.70               NaN              NaN           2   \n",
       "3          16.13               NaN              NaN           2   \n",
       "4          21.13               NaN              NaN           2   \n",
       "\n",
       "  store_and_fwd_flag  dropoff_longitude    ...     fare_amount  extra  \\\n",
       "0                  N                NaN    ...            52.0    0.0   \n",
       "1                  N                NaN    ...            52.0    0.0   \n",
       "2                  N                NaN    ...            52.0    0.0   \n",
       "3                  N                NaN    ...            52.0    0.0   \n",
       "4                  N                NaN    ...            52.0    0.0   \n",
       "\n",
       "   mta_tax  tip_amount  tolls_amount  improvement_surcharge  total_amount  \\\n",
       "0      0.5       11.67          5.54                    0.3         70.01   \n",
       "1      0.5        6.00         11.08                    0.3         69.88   \n",
       "2      0.5        0.00          5.54                    0.3         58.34   \n",
       "3      0.5        6.00          5.54                    0.3         64.34   \n",
       "4      0.5       10.56          0.00                    0.3         63.36   \n",
       "\n",
       "   PULocationID  DOLocationID  Duration  \n",
       "0           132           162      23.0  \n",
       "1           132           161      73.0  \n",
       "2           132           229      87.0  \n",
       "3           162           132      37.0  \n",
       "4           132            87      36.0  \n",
       "\n",
       "[5 rows x 22 columns]"
      ]
     },
     "execution_count": 376,
     "metadata": {},
     "output_type": "execute_result"
    }
   ],
   "source": [
    "jfk_with_duration = pd.concat([jfk_data,Duration], axis=1)\n",
    "jfk_with_duration.rename(columns = {0:'Duration'},inplace=True)\n",
    "jfk_with_duration.head()"
   ]
  },
  {
   "cell_type": "markdown",
   "metadata": {},
   "source": [
    "#### we got a Dataframe containg the trips to JFK and its duration in the dataframe\n",
    "<br>\n",
    "<br>\n",
    "#### Now we get the time from tpep_pickup_datetime:"
   ]
  },
  {
   "cell_type": "code",
   "execution_count": 371,
   "metadata": {
    "collapsed": true
   },
   "outputs": [],
   "source": [
    "def get_time(df):\n",
    "    l = []\n",
    "    for t in df.tpep_pickup_datetime:\n",
    "        t = t[::-1]\n",
    "        final = t[3:5]\n",
    "        final = final[::-1]\n",
    "        l.append(final)\n",
    "    return l\n",
    "c = get_time(jfk_with_duration) \n",
    "time_data = pd.DataFrame(c)\n",
    "time_data.head()\n",
    "time_data.rename(columns = {0:'Time'},inplace=True)\n",
    "timeOfDay_Duration = pd.concat([time_data,Duration], axis=1)"
   ]
  },
  {
   "cell_type": "code",
   "execution_count": 375,
   "metadata": {},
   "outputs": [
    {
     "data": {
      "text/html": [
       "<div>\n",
       "<style scoped>\n",
       "    .dataframe tbody tr th:only-of-type {\n",
       "        vertical-align: middle;\n",
       "    }\n",
       "\n",
       "    .dataframe tbody tr th {\n",
       "        vertical-align: top;\n",
       "    }\n",
       "\n",
       "    .dataframe thead th {\n",
       "        text-align: right;\n",
       "    }\n",
       "</style>\n",
       "<table border=\"1\" class=\"dataframe\">\n",
       "  <thead>\n",
       "    <tr style=\"text-align: right;\">\n",
       "      <th></th>\n",
       "      <th>Time</th>\n",
       "      <th>Duration</th>\n",
       "    </tr>\n",
       "  </thead>\n",
       "  <tbody>\n",
       "    <tr>\n",
       "      <th>0</th>\n",
       "      <td>7</td>\n",
       "      <td>23.0</td>\n",
       "    </tr>\n",
       "    <tr>\n",
       "      <th>1</th>\n",
       "      <td>14</td>\n",
       "      <td>73.0</td>\n",
       "    </tr>\n",
       "    <tr>\n",
       "      <th>2</th>\n",
       "      <td>14</td>\n",
       "      <td>87.0</td>\n",
       "    </tr>\n",
       "    <tr>\n",
       "      <th>3</th>\n",
       "      <td>12</td>\n",
       "      <td>37.0</td>\n",
       "    </tr>\n",
       "    <tr>\n",
       "      <th>4</th>\n",
       "      <td>5</td>\n",
       "      <td>36.0</td>\n",
       "    </tr>\n",
       "  </tbody>\n",
       "</table>\n",
       "</div>"
      ],
      "text/plain": [
       "  Time  Duration\n",
       "0    7      23.0\n",
       "1   14      73.0\n",
       "2   14      87.0\n",
       "3   12      37.0\n",
       "4    5      36.0"
      ]
     },
     "execution_count": 375,
     "metadata": {},
     "output_type": "execute_result"
    }
   ],
   "source": [
    "timeOfDay_Duration.rename(columns = {0:'Duration'},inplace=True)\n",
    "timeOfDay_Duration.head()"
   ]
  },
  {
   "cell_type": "code",
   "execution_count": 414,
   "metadata": {
    "collapsed": true
   },
   "outputs": [],
   "source": [
    "d = {0:None ,1:None, 2:None ,3:None ,4:None ,5:None, 6:None ,7:None,8:None ,9:None,10:None ,11:None,12:None ,13:None,14:None ,15:None,16:None ,17:None,18:None ,19:None,20:None ,21:None, 22:None ,23:None}\n",
    "d\n",
    "c= {}\n",
    "\n"
   ]
  },
  {
   "cell_type": "code",
   "execution_count": 420,
   "metadata": {},
   "outputs": [
    {
     "name": "stdout",
     "output_type": "stream",
     "text": [
      "{7: [23.0, 38.0, 25.0, 33.0, 31.0, 24.0, 44.0, 58.0, 58.0, 48.0, 40.0, 36.0, 81.0, 78.0, 48.0, 24.0, 32.0, 65.0, 76.0, 32.0, 52.0, 50.0, 49.0, 22.0, 45.0, 31.0, 32.0, 4.0, 1.0, 64.0, 44.0, 91.0, 72.0, 56.0, 29.0, 59.0, 44.0, 80.0, 62.0, 56.0, 45.0, 75.0, 66.0, 89.0, 48.0, 76.0, 28.0, 70.0, 78.0, 41.0, 33.0, 1.0, 29.0, 64.0, 58.0, 0.0, 66.0, 37.0, 29.0, 143.0, 50.0, 33.0, 58.0, 54.0, 73.0, 50.0, 56.0, 60.0, 0.0, 35.0, 53.0, 32.0, 112.0, 62.0, 39.0, 61.0, 92.0, 99.0, 47.0, 76.0, 75.0, 50.0, 42.0, 2.0, 31.0, 83.0, 35.0, 39.0, 24.0, 65.0, 34.0, 8.0, 60.0, 65.0, 73.0, 39.0, 37.0, 64.0, 47.0, 65.0, 67.0, 72.0, 1.0, 63.0, 38.0], 14: [73.0, 87.0, 65.0, 42.0, 72.0, 55.0, 41.0, 67.0, 67.0, 68.0, 75.0, 62.0, 81.0, 45.0, 46.0, 64.0, 55.0, 75.0, 52.0, 41.0, 64.0, 60.0, 67.0, 52.0, 82.0, 71.0, 72.0, 80.0, 55.0, 52.0, 94.0, 42.0, 84.0, 50.0, 40.0, 50.0, 60.0, 64.0, 61.0, 53.0, 56.0, 76.0, 61.0, 60.0, 35.0, 56.0, 59.0, 30.0, 64.0, 85.0, 74.0, 45.0, 38.0, 43.0, 85.0, 61.0, 48.0, 57.0, 1.0, 57.0, 36.0, 88.0, 25.0, 45.0, 38.0, 63.0, 66.0, 13.0, 47.0, 69.0, 46.0, 67.0, 61.0, 52.0, 60.0, 77.0, 55.0, 57.0, 59.0, 61.0, 70.0, 54.0, 60.0, 59.0, 54.0, 0.0, 62.0, 53.0, 48.0, 39.0, 85.0, 62.0, 74.0, 64.0, 66.0, 76.0, 0.0, 60.0, 49.0, 57.0, 71.0, 65.0, 44.0, 46.0, 38.0, 61.0, 0.0, 50.0, 58.0, 66.0, 65.0, 81.0, 45.0, 44.0, 30.0, 85.0, 53.0, 45.0, 48.0, 50.0, 67.0, 49.0, 51.0, 104.0, 94.0, 40.0, 57.0, 48.0, 52.0, 36.0, 76.0, 74.0, 53.0, 61.0, 54.0, 40.0, 26.0, 44.0, 83.0, 17.0, 76.0, 50.0, 61.0, 66.0, 60.0, 46.0, 66.0, 44.0, 64.0, 0.0, 58.0, 31.0, 62.0, 70.0, 83.0, 76.0, 80.0, 49.0, 36.0, 17.0, 0.0, 61.0, 65.0, 75.0, 37.0, 81.0, 59.0, 49.0, 106.0, 69.0, 65.0, 63.0, 60.0, 60.0, 66.0, 61.0, 62.0, 54.0, 86.0, 112.0, 69.0, 44.0, 54.0, 45.0, 61.0, 66.0, 68.0, 44.0, 65.0, 0.0, 77.0, 125.0, 45.0, 55.0, 71.0, 63.0, 69.0, 69.0, 61.0, 36.0, 70.0, 65.0, 43.0, 73.0, 60.0, 63.0], 12: [37.0, 34.0, 52.0, 54.0, 44.0, 47.0, 60.0, 22.0, 36.0, 31.0, 34.0, 37.0, 51.0, 41.0, 57.0, 41.0, 28.0, 70.0, 27.0, 71.0, 0.0, 0.0, 42.0, 47.0, 54.0, 40.0, 55.0, 32.0, 57.0, 68.0, 41.0, 68.0, 49.0, 46.0, 36.0, 42.0, 52.0, 56.0, 41.0, 42.0, 25.0, 46.0, 45.0, 0.0, 34.0, 28.0, 54.0, 46.0, 108.0, 74.0, 34.0, 33.0, 43.0, 30.0, 22.0, 31.0, 79.0, 64.0, 1.0, 55.0, 51.0, 39.0, 0.0, 27.0, 0.0, 38.0, 17.0, 44.0, 54.0, 41.0, 51.0, 40.0, 39.0, 51.0, 36.0, 39.0, 56.0, 55.0, 68.0, 56.0, 45.0, 49.0, 51.0, 48.0, 30.0, 57.0, 26.0, 43.0, 0.0, 42.0, 47.0, 43.0, 57.0, 62.0, 46.0, 38.0, 35.0, 40.0, 102.0, 78.0, 41.0, 33.0, 29.0, 45.0, 44.0, 36.0, 42.0, 0.0, 32.0, 47.0, 81.0, 31.0, 33.0, 29.0, 38.0, 40.0, 53.0, 50.0, 46.0, 66.0, 75.0], 5: [36.0, 1.0, 1.0, 42.0, 31.0, 37.0, 42.0, 21.0, 45.0, 40.0, 31.0, 29.0, 30.0, 26.0, 40.0, 30.0, 47.0, 31.0, 33.0, 26.0, 46.0, 31.0, 38.0, 1.0, 29.0, 29.0, 54.0, 27.0, 26.0, 26.0, 29.0, 20.0, 35.0, 36.0, 32.0, 26.0, 28.0, 31.0, 27.0, 28.0, 26.0, 23.0, 27.0, 22.0, 37.0, 33.0, 31.0, 1.0, 43.0, 39.0, 50.0, 26.0, 29.0, 1.0, 43.0, 26.0, 34.0, 31.0, 28.0, 40.0, 37.0, 36.0, 33.0, 26.0, 26.0, 34.0, 36.0, 29.0, 29.0, 33.0, 28.0, 23.0, 26.0, 30.0, 1.0], 17: [46.0, 60.0, 56.0, 33.0, 45.0, 79.0, 66.0, 59.0, 41.0, 70.0, 57.0, 68.0, 45.0, 87.0, 61.0, 82.0, 42.0, 54.0, 102.0, 69.0, 47.0, 64.0, 46.0, 56.0, 85.0, 56.0, 250.0, 16.0, 46.0, 61.0, 80.0, 52.0, 57.0, 75.0, 104.0, 52.0, 35.0, 2.0, 56.0, 46.0, 95.0, 52.0, 75.0, 39.0, 84.0, 58.0, 61.0, 74.0, 57.0, 60.0, 79.0, 36.0, 52.0, 107.0, 46.0, 79.0, 54.0, 38.0, 66.0, 46.0, 94.0, 49.0, 74.0, 60.0, 103.0, 66.0, 85.0, 78.0, 97.0, 78.0, 78.0, 48.0, 61.0, 59.0, 72.0, 57.0, 68.0, 80.0, 6.0, 13.0, 0.0, 86.0, 75.0, 50.0, 65.0, 48.0, 58.0, 51.0, 71.0, 87.0, 84.0, 144.0, 53.0, 74.0, 76.0, 67.0, 51.0, 64.0, 1.0, 43.0, 75.0, 77.0, 50.0, 1.0, 64.0, 53.0, 36.0, 87.0, 70.0, 64.0, 67.0, 34.0, 83.0, 0.0, 0.0, 67.0, 36.0, 45.0, 40.0, 98.0, 75.0, 64.0, 29.0, 0.0, 54.0, 31.0, 41.0, 0.0, 61.0, 61.0, 32.0, 56.0, 66.0, 83.0, 51.0, 73.0, 62.0, 62.0, 65.0, 75.0, 0.0, 77.0, 69.0, 111.0, 0.0, 58.0, 56.0, 1.0, 46.0, 81.0, 45.0], 23: [0.0, 23.0, 31.0, 29.0, 47.0, 35.0, 29.0, 38.0, 44.0, 40.0, 32.0, 27.0, 31.0, 36.0, 37.0, 37.0, 37.0, 40.0, 27.0, 39.0, 41.0, 28.0, 30.0, 46.0, 32.0, 24.0, 34.0, 45.0, 47.0, 8.0, 34.0, 36.0, 33.0, 34.0, 33.0, 31.0, 45.0, 42.0, 58.0, 41.0, 39.0, 43.0, 41.0, 32.0, 26.0, 31.0, 31.0, 38.0, 35.0, 31.0, 30.0, 2.0, 29.0, 27.0, 45.0, 41.0, 29.0, 38.0, 65.0, 30.0, 0.0, 37.0, 31.0, 29.0, 33.0, 36.0, 74.0, 77.0, 33.0, 43.0, 24.0, 27.0, 26.0, 40.0, 33.0, 31.0, 38.0, 38.0, 77.0, 29.0, 29.0, 32.0, 33.0, 26.0, 55.0, 50.0, 31.0, 31.0, 31.0, 38.0, 35.0, 32.0, 32.0], 16: [75.0, 0.0, 43.0, 60.0, 69.0, 0.0, 70.0, 75.0, 42.0, 45.0, 62.0, 70.0, 67.0, 44.0, 47.0, 48.0, 52.0, 68.0, 86.0, 1.0, 67.0, 66.0, 68.0, 60.0, 39.0, 64.0, 37.0, 70.0, 90.0, 64.0, 45.0, 10.0, 68.0, 68.0, 84.0, 60.0, 52.0, 108.0, 70.0, 39.0, 75.0, 56.0, 28.0, 69.0, 52.0, 65.0, 61.0, 81.0, 72.0, 59.0, 78.0, 0.0, 83.0, 67.0, 69.0, 62.0, 5.0, 111.0, 73.0, 55.0, 86.0, 59.0, 21.0, 22.0, 51.0, 99.0, 0.0, 34.0, 10.0, 64.0, 75.0, 44.0, 72.0, 46.0, 48.0, 71.0, 2.0, 57.0, 67.0, 43.0, 1.0, 44.0, 70.0, 39.0, 32.0, 71.0, 50.0, 44.0, 60.0, 39.0, 55.0, 63.0, 81.0, 92.0, 85.0, 43.0, 76.0, 84.0, 0.0, 64.0, 60.0, 94.0, 11.0, 62.0, 51.0, 90.0, 49.0, 57.0, 63.0, 63.0, 43.0, 87.0, 77.0, 71.0, 1.0, 33.0, 51.0, 62.0, 63.0, 72.0, 81.0, 73.0, 62.0, 71.0, 75.0, 59.0, 40.0, 71.0, 51.0, 58.0, 73.0, 64.0, 60.0, 48.0, 18.0, 65.0, 79.0, 66.0, 1.0, 9.0, 70.0, 49.0, 46.0, 78.0, 84.0, 51.0, 87.0, 83.0, 49.0, 68.0, 41.0, 107.0, 74.0, 30.0, 81.0, 22.0, 67.0, 26.0, 63.0, 1.0, 67.0, 40.0, 54.0, 68.0, 49.0, 88.0, 70.0, 64.0, 94.0, 7.0, 37.0, 63.0, 75.0, 99.0, 61.0, 54.0, 55.0, 91.0, 66.0, 55.0, 46.0, 61.0, 69.0, 58.0, 56.0, 36.0, 55.0, 72.0, 55.0, 53.0, 1.0, 0.0, 61.0, 48.0, 26.0, 72.0, 76.0, 58.0, 0.0, 34.0, 71.0, 51.0, 46.0], 22: [37.0, 28.0, 31.0, 48.0, 31.0, 35.0, 36.0, 37.0, 0.0, 36.0, 33.0, 42.0, 44.0, 38.0, 28.0, 41.0, 32.0, 45.0, 0.0, 41.0, 30.0, 36.0, 33.0, 25.0, 33.0, 35.0, 0.0, 44.0, 29.0, 41.0, 0.0, 43.0, 42.0, 40.0, 33.0, 54.0, 36.0, 0.0, 40.0, 59.0, 44.0, 64.0, 26.0, 36.0, 61.0, 34.0, 27.0, 41.0, 29.0, 73.0, 40.0, 36.0, 59.0, 30.0, 60.0, 26.0, 43.0, 58.0, 40.0, 18.0, 43.0, 33.0, 39.0, 42.0, 36.0, 51.0, 0.0, 33.0, 36.0, 41.0, 45.0, 88.0, 58.0, 44.0, 31.0, 40.0, 46.0, 37.0, 36.0, 47.0, 35.0, 27.0, 42.0, 37.0, 32.0, 32.0, 30.0, 37.0, 1.0, 41.0, 33.0, 39.0, 40.0, 29.0, 46.0, 38.0, 55.0, 27.0, 29.0, 30.0], 6: [46.0, 28.0, 12.0, 24.0, 31.0, 34.0, 36.0, 29.0, 52.0, 42.0, 56.0, 38.0, 35.0, 47.0, 38.0, 26.0, 37.0, 29.0, 37.0, 35.0, 30.0, 32.0, 65.0, 46.0, 54.0, 49.0, 24.0, 24.0, 29.0, 35.0, 35.0, 28.0, 31.0, 70.0, 0.0, 28.0, 30.0, 32.0, 49.0, 43.0, 53.0, 22.0, 36.0, 46.0, 26.0, 2.0, 27.0, 38.0, 31.0, 47.0, 55.0, 30.0, 49.0, 47.0, 27.0, 44.0, 74.0, 25.0, 40.0, 29.0, 46.0, 46.0, 41.0, 50.0, 35.0, 26.0, 27.0, 26.0, 25.0, 0.0, 28.0, 30.0, 52.0, 58.0, 48.0, 47.0, 28.0, 29.0, 26.0, 37.0, 33.0, 30.0, 34.0, 50.0, 71.0, 46.0, 0.0, 43.0, 6.0, 56.0, 52.0, 55.0, 39.0, 67.0, 30.0, 51.0, 38.0, 27.0, 71.0, 41.0, 63.0, 42.0, 43.0, 29.0, 33.0, 74.0, 50.0, 52.0, 1.0, 41.0, 51.0, 1.0], 18: [45.0, 42.0, 40.0, 61.0, 28.0, 0.0, 51.0, 47.0, 42.0, 60.0, 57.0, 48.0, 43.0, 33.0, 44.0, 58.0, 54.0, 48.0, 0.0, 56.0, 48.0, 0.0, 59.0, 33.0, 103.0, 1.0, 50.0, 60.0, 48.0, 53.0, 65.0, 59.0, 80.0, 44.0, 60.0, 54.0, 64.0, 59.0, 81.0, 68.0, 42.0, 55.0, 69.0, 53.0, 55.0, 59.0, 1301.0, 60.0, 88.0, 60.0, 1.0, 58.0, 53.0, 41.0, 63.0, 59.0, 89.0, 49.0, 76.0, 0.0, 36.0, 43.0, 48.0, 0.0, 1.0, 47.0, 51.0, 68.0, 49.0, 44.0, 66.0, 69.0, 76.0, 41.0, 74.0, 70.0, 55.0, 0.0, 75.0, 34.0, 70.0, 37.0, 51.0, 69.0, 69.0, 36.0, 78.0, 66.0, 49.0, 63.0, 40.0, 58.0, 60.0, 58.0, 56.0, 45.0, 70.0, 62.0, 49.0, 66.0, 69.0, 49.0, 43.0, 47.0, 55.0, 47.0, 55.0, 64.0, 40.0, 0.0, 0.0, 52.0, 39.0, 84.0, 44.0, 76.0, 0.0, 51.0, 38.0, 44.0, 0.0, 72.0, 56.0, 57.0], 19: [51.0, 43.0, 47.0, 49.0, 51.0, 57.0, 43.0, 47.0, 42.0, 0.0, 35.0, 40.0, 0.0, 48.0, 54.0, 48.0, 65.0, 38.0, 43.0, 41.0, 38.0, 4.0, 31.0, 49.0, 48.0, 44.0, 0.0, 38.0, 42.0, 73.0, 41.0, 47.0, 65.0, 72.0, 30.0, 47.0, 39.0, 38.0, 52.0, 64.0, 42.0, 44.0, 33.0, 36.0, 0.0, 47.0, 33.0, 26.0, 51.0, 47.0, 29.0, 34.0, 32.0, 34.0, 24.0, 50.0, 42.0, 85.0, 65.0, 63.0, 58.0, 57.0, 41.0, 44.0, 63.0, 48.0, 45.0, 61.0, 50.0, 39.0, 48.0, 43.0, 37.0, 37.0, 14.0, 47.0, 53.0, 83.0, 0.0, 57.0, 36.0, 33.0, 42.0, 37.0, 38.0, 49.0, 49.0, 52.0, 54.0, 62.0, 54.0, 47.0, 53.0, 36.0, 50.0, 51.0, 49.0, 67.0, 45.0, 56.0, 37.0, 54.0, 42.0, 48.0, 83.0, 1.0, 43.0, 58.0, 49.0, 38.0, 60.0, 48.0, 0.0, 43.0, 50.0, 34.0, 33.0, 36.0], 20: [51.0, 31.0, 46.0, 54.0, 50.0, 39.0, 31.0, 32.0, 52.0, 64.0, 35.0, 46.0, 46.0, 40.0, 37.0, 37.0, 47.0, 35.0, 72.0, 49.0, 26.0, 40.0, 26.0, 39.0, 33.0, 45.0, 51.0, 38.0, 49.0, 0.0, 43.0, 37.0, 45.0, 44.0, 42.0, 38.0, 31.0, 34.0, 43.0, 33.0, 51.0, 0.0, 43.0, 39.0, 42.0, 38.0, 37.0, 39.0, 86.0, 44.0, 48.0, 43.0, 41.0, 49.0, 55.0, 32.0, 51.0, 43.0, 60.0, 30.0, 42.0, 41.0, 49.0, 63.0, 44.0, 44.0, 51.0, 58.0, 33.0, 15.0, 0.0, 43.0, 60.0, 35.0, 48.0, 38.0, 62.0, 42.0, 34.0, 34.0, 51.0, 56.0, 48.0, 43.0, 37.0, 38.0, 52.0, 41.0, 35.0, 37.0, 40.0, 37.0, 37.0, 40.0, 48.0, 66.0, 45.0, 40.0, 45.0, 47.0, 43.0, 38.0, 28.0, 34.0, 41.0, 1.0, 36.0, 0.0, 59.0, 40.0, 26.0, 50.0, 46.0, 46.0, 35.0, 54.0, 37.0, 38.0, 40.0, 56.0, 33.0, 50.0, 38.0, 38.0, 44.0], 15: [83.0, 87.0, 76.0, 95.0, 67.0, 63.0, 58.0, 47.0, 66.0, 68.0, 48.0, 83.0, 60.0, 73.0, 66.0, 65.0, 44.0, 65.0, 76.0, 56.0, 56.0, 61.0, 64.0, 98.0, 78.0, 64.0, 47.0, 70.0, 107.0, 58.0, 133.0, 67.0, 0.0, 82.0, 59.0, 83.0, 53.0, 86.0, 44.0, 51.0, 61.0, 59.0, 73.0, 61.0, 73.0, 82.0, 0.0, 45.0, 83.0, 46.0, 56.0, 68.0, 104.0, 62.0, 95.0, 67.0, 49.0, 58.0, 54.0, 39.0, 65.0, 55.0, 50.0, 67.0, 83.0, 65.0, 63.0, 45.0, 71.0, 66.0, 45.0, 49.0, 62.0, 40.0, 62.0, 83.0, 75.0, 49.0, 77.0, 50.0, 78.0, 62.0, 65.0, 78.0, 71.0, 61.0, 46.0, 84.0, 112.0, 96.0, 85.0, 85.0, 80.0, 52.0, 63.0, 93.0, 39.0, 49.0, 128.0, 49.0, 43.0, 59.0, 69.0, 87.0, 29.0, 62.0, 41.0, 66.0, 60.0, 63.0, 0.0, 48.0, 69.0, 50.0, 3.0, 75.0, 63.0, 68.0, 55.0, 81.0, 69.0, 62.0, 46.0, 55.0, 116.0, 61.0, 88.0, 55.0, 60.0, 40.0, 108.0, 55.0, 42.0, 70.0, 63.0, 48.0, 53.0, 59.0, 67.0, 43.0, 54.0, 78.0, 96.0, 60.0, 85.0, 43.0, 48.0, 62.0, 104.0, 80.0, 43.0, 52.0, 50.0, 40.0, 52.0, 65.0, 75.0, 35.0, 102.0, 59.0, 51.0, 70.0, 67.0, 67.0, 56.0, 70.0, 58.0, 39.0, 95.0, 43.0], 8: [0.0, 44.0, 42.0, 85.0, 30.0, 65.0, 44.0, 43.0, 40.0, 52.0, 42.0, 35.0, 55.0, 39.0, 71.0, 46.0, 41.0, 37.0, 79.0, 20.0, 31.0, 949.0, 44.0, 70.0, 0.0, 52.0, 28.0, 50.0, 34.0, 57.0, 26.0, 1.0, 93.0, 57.0, 47.0, 81.0, 65.0, 41.0, 80.0, 41.0, 68.0, 28.0, 76.0, 0.0, 82.0, 0.0], 0: [30.0, 28.0, 0.0, 25.0, 27.0, 34.0, 30.0, 33.0, 29.0, 33.0, 28.0, 38.0, 0.0, 36.0, 40.0, 24.0, 44.0, 33.0, 28.0, 29.0, 33.0, 25.0, 41.0, 24.0, 0.0, 42.0, 31.0, 34.0, 31.0, 18.0, 34.0, 34.0, 48.0, 26.0, 25.0, 26.0, 26.0, 27.0, 34.0, 26.0, 28.0, 29.0, 30.0, 43.0, 33.0, 29.0, 37.0, 27.0, 25.0, 29.0, 26.0, 34.0, 24.0, 36.0], 21: [39.0, 0.0, 25.0, 1.0, 49.0, 84.0, 34.0, 0.0, 0.0, 44.0, 30.0, 53.0, 27.0, 33.0, 37.0, 44.0, 32.0, 48.0, 33.0, 41.0, 52.0, 47.0, 59.0, 40.0, 44.0, 30.0, 40.0, 42.0, 30.0, 41.0, 35.0, 57.0, 34.0, 42.0, 40.0, 51.0, 42.0, 41.0, 0.0, 37.0, 45.0, 20.0, 38.0, 42.0, 30.0, 75.0, 49.0, 60.0, 45.0, 36.0, 25.0, 58.0, 43.0, 45.0, 33.0, 40.0, 58.0, 49.0, 29.0, 48.0, 85.0, 34.0, 36.0, 37.0, 43.0, 48.0, 1.0, 37.0, 34.0, 0.0, 50.0, 52.0, 47.0, 63.0, 45.0, 49.0, 32.0, 0.0, 51.0, 38.0, 33.0, 8.0, 44.0, 36.0, 37.0, 0.0, 26.0, 61.0, 52.0, 28.0, 47.0, 41.0, 24.0, 45.0, 43.0, 34.0, 52.0, 32.0, 55.0, 52.0, 37.0, 42.0, 44.0, 42.0, 40.0, 43.0, 56.0, 52.0], 13: [58.0, 47.0, 43.0, 49.0, 29.0, 51.0, 51.0, 34.0, 32.0, 633.0, 56.0, 37.0, 62.0, 40.0, 56.0, 61.0, 36.0, 51.0, 330.0, 44.0, 54.0, 48.0, 47.0, 60.0, 63.0, 51.0, 1428.0, 36.0, 67.0, 63.0, 37.0, 30.0, 47.0, 54.0, 45.0, 45.0, 47.0, 84.0, 58.0, 19.0, 34.0, 34.0, 1.0, 72.0, 63.0, 51.0, 19.0, 0.0, 45.0, 42.0, 48.0, 77.0, 77.0, 47.0, 52.0, 62.0, 53.0, 42.0, 67.0, 65.0, 68.0, 34.0, 40.0, 34.0, 74.0, 62.0, 35.0, 0.0, 79.0, 42.0, 42.0, 43.0, 81.0, 60.0, 45.0, 63.0, 77.0, 41.0, 2.0, 47.0, 41.0, 1.0, 43.0, 100.0, 57.0, 63.0, 37.0, 60.0, 45.0, 65.0, 36.0, 32.0, 41.0, 52.0, 0.0, 38.0, 4.0, 64.0, 38.0, 65.0, 42.0, 59.0, 44.0, 65.0, 50.0, 45.0, 67.0, 48.0, 41.0, 56.0, 64.0, 63.0, 50.0, 42.0, 0.0, 62.0, 44.0, 46.0, 51.0, 36.0, 30.0, 35.0, 38.0, 65.0, 81.0, 51.0, 50.0, 63.0, 36.0, 49.0, 8.0, 54.0, 63.0, 47.0, 55.0, 40.0, 43.0, 34.0, 70.0, 34.0, 57.0, 42.0, 46.0, 53.0, 44.0, 48.0, 57.0, 64.0, 57.0, 45.0, 34.0, 46.0, 68.0, 46.0, 31.0, 0.0, 32.0], 11: [41.0, 22.0, 48.0, 45.0, 45.0, 40.0, 47.0, 38.0, 54.0, 57.0, 56.0, 40.0, 65.0, 32.0, 35.0, 49.0, 38.0, 40.0, 64.0, 61.0, 55.0, 23.0, 49.0, 39.0, 89.0, 44.0, 64.0, 51.0, 54.0, 244.0, 31.0, 63.0, 38.0, 68.0, 26.0, 46.0, 52.0, 33.0, 40.0, 34.0, 21.0, 51.0, 53.0, 56.0, 39.0, 38.0, 62.0, 47.0, 71.0, 44.0, 61.0, 118.0, 43.0, 45.0, 101.0, 45.0, 53.0, 34.0, 64.0, 37.0, 57.0, 45.0, 24.0, 35.0, 46.0, 60.0, 44.0, 37.0, 40.0, 59.0, 64.0, 67.0, 53.0, 50.0, 0.0, 54.0, 49.0, 70.0, 58.0, 48.0, 30.0, 44.0, 56.0, 29.0, 36.0, 64.0, 53.0, 38.0], 9: [62.0, 75.0, 47.0, 59.0, 39.0, 92.0, 32.0, 35.0, 45.0, 53.0, 46.0, 45.0, 35.0, 78.0, 36.0, 42.0, 33.0, 59.0, 31.0, 41.0, 45.0, 39.0, 57.0, 30.0, 0.0, 21.0, 50.0, 33.0, 50.0, 44.0, 52.0, 33.0, 46.0, 34.0, 57.0, 43.0, 52.0, 72.0, 48.0, 30.0, 32.0, 41.0, 32.0, 22.0, 38.0, 47.0, 48.0, 33.0, 46.0, 0.0, 35.0, 51.0, 3.0, 57.0, 32.0, 57.0, 3.0, 53.0, 54.0, 52.0], 10: [33.0, 30.0, 1.0, 0.0, 53.0, 76.0, 49.0, 54.0, 75.0, 45.0, 45.0, 28.0, 42.0, 45.0, 67.0, 52.0, 52.0, 41.0, 40.0, 44.0, 37.0, 44.0, 59.0, 44.0, 32.0, 25.0, 46.0, 44.0, 27.0, 52.0, 34.0, 25.0, 54.0, 39.0, 29.0, 65.0, 52.0, 55.0, 31.0, 75.0, 45.0, 46.0, 60.0, 64.0, 39.0, 52.0, 58.0, 33.0, 58.0, 53.0, 55.0, 58.0, 70.0, 26.0, 63.0, 36.0, 0.0, 45.0, 69.0, 34.0, 53.0, 44.0, 36.0, 33.0, 43.0, 45.0, 0.0, 28.0, 42.0, 33.0, 35.0, 54.0, 69.0, 75.0, 30.0, 54.0, 30.0], 3: [0.0, 2.0, 23.0, 29.0, 27.0, 23.0, 24.0, 36.0, 45.0, 25.0, 26.0, 28.0, 39.0], 4: [28.0, 29.0, 22.0, 20.0, 28.0, 31.0, 27.0, 32.0, 26.0, 27.0, 23.0, 26.0, 30.0, 24.0, 25.0, 35.0, 28.0, 26.0, 37.0, 36.0, 28.0, 29.0, 26.0, 24.0, 28.0, 23.0, 14.0, 27.0, 35.0, 25.0, 36.0, 25.0, 0.0], 1: [29.0, 19.0, 34.0, 30.0, 25.0, 24.0, 29.0, 0.0, 47.0, 30.0, 29.0, 28.0, 31.0, 34.0, 35.0, 27.0, 31.0, 34.0, 25.0, 28.0, 1.0, 27.0, 23.0, 25.0, 28.0, 29.0, 50.0, 32.0], 2: [28.0, 0.0, 29.0, 27.0, 22.0, 21.0]}\n"
     ]
    }
   ],
   "source": [
    "c = {}\n",
    "for t, dur in zip(timeOfDay_Duration.Time, timeOfDay_Duration.Duration):\n",
    "    t= int(t)\n",
    "    if t in c:\n",
    "        c[t].append(dur)\n",
    "    else:\n",
    "        c[t] = [dur]\n",
    "print(c)"
   ]
  },
  {
   "cell_type": "code",
   "execution_count": 436,
   "metadata": {
    "collapsed": true
   },
   "outputs": [],
   "source": [
    "#new = pd.DataFrame(c, orient='index')\n",
    "new = pd.DataFrame.from_dict(c, orient='index')"
   ]
  },
  {
   "cell_type": "code",
   "execution_count": 437,
   "metadata": {},
   "outputs": [
    {
     "data": {
      "text/plain": [
       "(206, 24)"
      ]
     },
     "execution_count": 437,
     "metadata": {},
     "output_type": "execute_result"
    }
   ],
   "source": [
    "\n",
    "final= new.T\n",
    "final.shape\n"
   ]
  },
  {
   "cell_type": "code",
   "execution_count": 438,
   "metadata": {},
   "outputs": [
    {
     "data": {
      "text/html": [
       "<div>\n",
       "<style scoped>\n",
       "    .dataframe tbody tr th:only-of-type {\n",
       "        vertical-align: middle;\n",
       "    }\n",
       "\n",
       "    .dataframe tbody tr th {\n",
       "        vertical-align: top;\n",
       "    }\n",
       "\n",
       "    .dataframe thead th {\n",
       "        text-align: right;\n",
       "    }\n",
       "</style>\n",
       "<table border=\"1\" class=\"dataframe\">\n",
       "  <thead>\n",
       "    <tr style=\"text-align: right;\">\n",
       "      <th></th>\n",
       "      <th>7</th>\n",
       "      <th>14</th>\n",
       "      <th>12</th>\n",
       "      <th>5</th>\n",
       "      <th>17</th>\n",
       "      <th>23</th>\n",
       "      <th>16</th>\n",
       "      <th>22</th>\n",
       "      <th>6</th>\n",
       "      <th>18</th>\n",
       "      <th>...</th>\n",
       "      <th>0</th>\n",
       "      <th>21</th>\n",
       "      <th>13</th>\n",
       "      <th>11</th>\n",
       "      <th>9</th>\n",
       "      <th>10</th>\n",
       "      <th>3</th>\n",
       "      <th>4</th>\n",
       "      <th>1</th>\n",
       "      <th>2</th>\n",
       "    </tr>\n",
       "  </thead>\n",
       "  <tbody>\n",
       "    <tr>\n",
       "      <th>0</th>\n",
       "      <td>23.0</td>\n",
       "      <td>73.0</td>\n",
       "      <td>37.0</td>\n",
       "      <td>36.0</td>\n",
       "      <td>46.0</td>\n",
       "      <td>0.0</td>\n",
       "      <td>75.0</td>\n",
       "      <td>37.0</td>\n",
       "      <td>46.0</td>\n",
       "      <td>45.0</td>\n",
       "      <td>...</td>\n",
       "      <td>30.0</td>\n",
       "      <td>39.0</td>\n",
       "      <td>58.0</td>\n",
       "      <td>41.0</td>\n",
       "      <td>62.0</td>\n",
       "      <td>33.0</td>\n",
       "      <td>0.0</td>\n",
       "      <td>28.0</td>\n",
       "      <td>29.0</td>\n",
       "      <td>28.0</td>\n",
       "    </tr>\n",
       "    <tr>\n",
       "      <th>1</th>\n",
       "      <td>38.0</td>\n",
       "      <td>87.0</td>\n",
       "      <td>34.0</td>\n",
       "      <td>1.0</td>\n",
       "      <td>60.0</td>\n",
       "      <td>23.0</td>\n",
       "      <td>0.0</td>\n",
       "      <td>28.0</td>\n",
       "      <td>28.0</td>\n",
       "      <td>42.0</td>\n",
       "      <td>...</td>\n",
       "      <td>28.0</td>\n",
       "      <td>0.0</td>\n",
       "      <td>47.0</td>\n",
       "      <td>22.0</td>\n",
       "      <td>75.0</td>\n",
       "      <td>30.0</td>\n",
       "      <td>2.0</td>\n",
       "      <td>29.0</td>\n",
       "      <td>19.0</td>\n",
       "      <td>0.0</td>\n",
       "    </tr>\n",
       "    <tr>\n",
       "      <th>2</th>\n",
       "      <td>25.0</td>\n",
       "      <td>65.0</td>\n",
       "      <td>52.0</td>\n",
       "      <td>1.0</td>\n",
       "      <td>56.0</td>\n",
       "      <td>31.0</td>\n",
       "      <td>43.0</td>\n",
       "      <td>31.0</td>\n",
       "      <td>12.0</td>\n",
       "      <td>40.0</td>\n",
       "      <td>...</td>\n",
       "      <td>0.0</td>\n",
       "      <td>25.0</td>\n",
       "      <td>43.0</td>\n",
       "      <td>48.0</td>\n",
       "      <td>47.0</td>\n",
       "      <td>1.0</td>\n",
       "      <td>23.0</td>\n",
       "      <td>22.0</td>\n",
       "      <td>34.0</td>\n",
       "      <td>29.0</td>\n",
       "    </tr>\n",
       "    <tr>\n",
       "      <th>3</th>\n",
       "      <td>33.0</td>\n",
       "      <td>42.0</td>\n",
       "      <td>54.0</td>\n",
       "      <td>42.0</td>\n",
       "      <td>33.0</td>\n",
       "      <td>29.0</td>\n",
       "      <td>60.0</td>\n",
       "      <td>48.0</td>\n",
       "      <td>24.0</td>\n",
       "      <td>61.0</td>\n",
       "      <td>...</td>\n",
       "      <td>25.0</td>\n",
       "      <td>1.0</td>\n",
       "      <td>49.0</td>\n",
       "      <td>45.0</td>\n",
       "      <td>59.0</td>\n",
       "      <td>0.0</td>\n",
       "      <td>29.0</td>\n",
       "      <td>20.0</td>\n",
       "      <td>30.0</td>\n",
       "      <td>27.0</td>\n",
       "    </tr>\n",
       "    <tr>\n",
       "      <th>4</th>\n",
       "      <td>31.0</td>\n",
       "      <td>72.0</td>\n",
       "      <td>44.0</td>\n",
       "      <td>31.0</td>\n",
       "      <td>45.0</td>\n",
       "      <td>47.0</td>\n",
       "      <td>69.0</td>\n",
       "      <td>31.0</td>\n",
       "      <td>31.0</td>\n",
       "      <td>28.0</td>\n",
       "      <td>...</td>\n",
       "      <td>27.0</td>\n",
       "      <td>49.0</td>\n",
       "      <td>29.0</td>\n",
       "      <td>45.0</td>\n",
       "      <td>39.0</td>\n",
       "      <td>53.0</td>\n",
       "      <td>27.0</td>\n",
       "      <td>28.0</td>\n",
       "      <td>25.0</td>\n",
       "      <td>22.0</td>\n",
       "    </tr>\n",
       "  </tbody>\n",
       "</table>\n",
       "<p>5 rows × 24 columns</p>\n",
       "</div>"
      ],
      "text/plain": [
       "     7     14    12    5     17    23    16    22    6     18  ...     0   \\\n",
       "0  23.0  73.0  37.0  36.0  46.0   0.0  75.0  37.0  46.0  45.0  ...   30.0   \n",
       "1  38.0  87.0  34.0   1.0  60.0  23.0   0.0  28.0  28.0  42.0  ...   28.0   \n",
       "2  25.0  65.0  52.0   1.0  56.0  31.0  43.0  31.0  12.0  40.0  ...    0.0   \n",
       "3  33.0  42.0  54.0  42.0  33.0  29.0  60.0  48.0  24.0  61.0  ...   25.0   \n",
       "4  31.0  72.0  44.0  31.0  45.0  47.0  69.0  31.0  31.0  28.0  ...   27.0   \n",
       "\n",
       "     21    13    11    9     10    3     4     1     2   \n",
       "0  39.0  58.0  41.0  62.0  33.0   0.0  28.0  29.0  28.0  \n",
       "1   0.0  47.0  22.0  75.0  30.0   2.0  29.0  19.0   0.0  \n",
       "2  25.0  43.0  48.0  47.0   1.0  23.0  22.0  34.0  29.0  \n",
       "3   1.0  49.0  45.0  59.0   0.0  29.0  20.0  30.0  27.0  \n",
       "4  49.0  29.0  45.0  39.0  53.0  27.0  28.0  25.0  22.0  \n",
       "\n",
       "[5 rows x 24 columns]"
      ]
     },
     "execution_count": 438,
     "metadata": {},
     "output_type": "execute_result"
    }
   ],
   "source": [
    "final.head()"
   ]
  },
  {
   "cell_type": "code",
   "execution_count": 446,
   "metadata": {},
   "outputs": [
    {
     "data": {
      "text/html": [
       "<div>\n",
       "<style scoped>\n",
       "    .dataframe tbody tr th:only-of-type {\n",
       "        vertical-align: middle;\n",
       "    }\n",
       "\n",
       "    .dataframe tbody tr th {\n",
       "        vertical-align: top;\n",
       "    }\n",
       "\n",
       "    .dataframe thead th {\n",
       "        text-align: right;\n",
       "    }\n",
       "</style>\n",
       "<table border=\"1\" class=\"dataframe\">\n",
       "  <thead>\n",
       "    <tr style=\"text-align: right;\">\n",
       "      <th></th>\n",
       "      <th>7</th>\n",
       "      <th>14</th>\n",
       "      <th>12</th>\n",
       "      <th>5</th>\n",
       "      <th>17</th>\n",
       "      <th>23</th>\n",
       "      <th>16</th>\n",
       "      <th>22</th>\n",
       "      <th>6</th>\n",
       "      <th>18</th>\n",
       "      <th>...</th>\n",
       "      <th>0</th>\n",
       "      <th>21</th>\n",
       "      <th>13</th>\n",
       "      <th>11</th>\n",
       "      <th>9</th>\n",
       "      <th>10</th>\n",
       "      <th>3</th>\n",
       "      <th>4</th>\n",
       "      <th>1</th>\n",
       "      <th>2</th>\n",
       "    </tr>\n",
       "  </thead>\n",
       "  <tbody>\n",
       "    <tr>\n",
       "      <th>0</th>\n",
       "      <td>23.0</td>\n",
       "      <td>73.0</td>\n",
       "      <td>37.0</td>\n",
       "      <td>36.0</td>\n",
       "      <td>46.0</td>\n",
       "      <td>0.0</td>\n",
       "      <td>75.0</td>\n",
       "      <td>37.0</td>\n",
       "      <td>46.0</td>\n",
       "      <td>45.0</td>\n",
       "      <td>...</td>\n",
       "      <td>30.0</td>\n",
       "      <td>39.0</td>\n",
       "      <td>58.0</td>\n",
       "      <td>41.0</td>\n",
       "      <td>62.0</td>\n",
       "      <td>33.0</td>\n",
       "      <td>0.0</td>\n",
       "      <td>28.0</td>\n",
       "      <td>29.0</td>\n",
       "      <td>28.0</td>\n",
       "    </tr>\n",
       "    <tr>\n",
       "      <th>1</th>\n",
       "      <td>38.0</td>\n",
       "      <td>87.0</td>\n",
       "      <td>34.0</td>\n",
       "      <td>1.0</td>\n",
       "      <td>60.0</td>\n",
       "      <td>23.0</td>\n",
       "      <td>0.0</td>\n",
       "      <td>28.0</td>\n",
       "      <td>28.0</td>\n",
       "      <td>42.0</td>\n",
       "      <td>...</td>\n",
       "      <td>28.0</td>\n",
       "      <td>0.0</td>\n",
       "      <td>47.0</td>\n",
       "      <td>22.0</td>\n",
       "      <td>75.0</td>\n",
       "      <td>30.0</td>\n",
       "      <td>2.0</td>\n",
       "      <td>29.0</td>\n",
       "      <td>19.0</td>\n",
       "      <td>0.0</td>\n",
       "    </tr>\n",
       "    <tr>\n",
       "      <th>2</th>\n",
       "      <td>25.0</td>\n",
       "      <td>65.0</td>\n",
       "      <td>52.0</td>\n",
       "      <td>1.0</td>\n",
       "      <td>56.0</td>\n",
       "      <td>31.0</td>\n",
       "      <td>43.0</td>\n",
       "      <td>31.0</td>\n",
       "      <td>12.0</td>\n",
       "      <td>40.0</td>\n",
       "      <td>...</td>\n",
       "      <td>0.0</td>\n",
       "      <td>25.0</td>\n",
       "      <td>43.0</td>\n",
       "      <td>48.0</td>\n",
       "      <td>47.0</td>\n",
       "      <td>1.0</td>\n",
       "      <td>23.0</td>\n",
       "      <td>22.0</td>\n",
       "      <td>34.0</td>\n",
       "      <td>29.0</td>\n",
       "    </tr>\n",
       "    <tr>\n",
       "      <th>3</th>\n",
       "      <td>33.0</td>\n",
       "      <td>42.0</td>\n",
       "      <td>54.0</td>\n",
       "      <td>42.0</td>\n",
       "      <td>33.0</td>\n",
       "      <td>29.0</td>\n",
       "      <td>60.0</td>\n",
       "      <td>48.0</td>\n",
       "      <td>24.0</td>\n",
       "      <td>61.0</td>\n",
       "      <td>...</td>\n",
       "      <td>25.0</td>\n",
       "      <td>1.0</td>\n",
       "      <td>49.0</td>\n",
       "      <td>45.0</td>\n",
       "      <td>59.0</td>\n",
       "      <td>0.0</td>\n",
       "      <td>29.0</td>\n",
       "      <td>20.0</td>\n",
       "      <td>30.0</td>\n",
       "      <td>27.0</td>\n",
       "    </tr>\n",
       "    <tr>\n",
       "      <th>4</th>\n",
       "      <td>31.0</td>\n",
       "      <td>72.0</td>\n",
       "      <td>44.0</td>\n",
       "      <td>31.0</td>\n",
       "      <td>45.0</td>\n",
       "      <td>47.0</td>\n",
       "      <td>69.0</td>\n",
       "      <td>31.0</td>\n",
       "      <td>31.0</td>\n",
       "      <td>28.0</td>\n",
       "      <td>...</td>\n",
       "      <td>27.0</td>\n",
       "      <td>49.0</td>\n",
       "      <td>29.0</td>\n",
       "      <td>45.0</td>\n",
       "      <td>39.0</td>\n",
       "      <td>53.0</td>\n",
       "      <td>27.0</td>\n",
       "      <td>28.0</td>\n",
       "      <td>25.0</td>\n",
       "      <td>22.0</td>\n",
       "    </tr>\n",
       "  </tbody>\n",
       "</table>\n",
       "<p>5 rows × 24 columns</p>\n",
       "</div>"
      ],
      "text/plain": [
       "     7     14    12    5     17    23    16    22    6     18  ...     0   \\\n",
       "0  23.0  73.0  37.0  36.0  46.0   0.0  75.0  37.0  46.0  45.0  ...   30.0   \n",
       "1  38.0  87.0  34.0   1.0  60.0  23.0   0.0  28.0  28.0  42.0  ...   28.0   \n",
       "2  25.0  65.0  52.0   1.0  56.0  31.0  43.0  31.0  12.0  40.0  ...    0.0   \n",
       "3  33.0  42.0  54.0  42.0  33.0  29.0  60.0  48.0  24.0  61.0  ...   25.0   \n",
       "4  31.0  72.0  44.0  31.0  45.0  47.0  69.0  31.0  31.0  28.0  ...   27.0   \n",
       "\n",
       "     21    13    11    9     10    3     4     1     2   \n",
       "0  39.0  58.0  41.0  62.0  33.0   0.0  28.0  29.0  28.0  \n",
       "1   0.0  47.0  22.0  75.0  30.0   2.0  29.0  19.0   0.0  \n",
       "2  25.0  43.0  48.0  47.0   1.0  23.0  22.0  34.0  29.0  \n",
       "3   1.0  49.0  45.0  59.0   0.0  29.0  20.0  30.0  27.0  \n",
       "4  49.0  29.0  45.0  39.0  53.0  27.0  28.0  25.0  22.0  \n",
       "\n",
       "[5 rows x 24 columns]"
      ]
     },
     "execution_count": 446,
     "metadata": {},
     "output_type": "execute_result"
    }
   ],
   "source": [
    "final.head()"
   ]
  },
  {
   "cell_type": "markdown",
   "metadata": {},
   "source": [
    "### Above dataframe Final Consists of Time as the columns and it contains its corresponding duration in its columns\n"
   ]
  },
  {
   "cell_type": "markdown",
   "metadata": {},
   "source": [
    "### Check the Details of each time:\n",
    "perform dataframe.describe"
   ]
  },
  {
   "cell_type": "code",
   "execution_count": 451,
   "metadata": {},
   "outputs": [
    {
     "data": {
      "text/html": [
       "<div>\n",
       "<style scoped>\n",
       "    .dataframe tbody tr th:only-of-type {\n",
       "        vertical-align: middle;\n",
       "    }\n",
       "\n",
       "    .dataframe tbody tr th {\n",
       "        vertical-align: top;\n",
       "    }\n",
       "\n",
       "    .dataframe thead th {\n",
       "        text-align: right;\n",
       "    }\n",
       "</style>\n",
       "<table border=\"1\" class=\"dataframe\">\n",
       "  <thead>\n",
       "    <tr style=\"text-align: right;\">\n",
       "      <th></th>\n",
       "      <th>7</th>\n",
       "      <th>14</th>\n",
       "      <th>12</th>\n",
       "      <th>5</th>\n",
       "      <th>17</th>\n",
       "      <th>23</th>\n",
       "      <th>16</th>\n",
       "      <th>22</th>\n",
       "      <th>6</th>\n",
       "      <th>18</th>\n",
       "      <th>...</th>\n",
       "      <th>0</th>\n",
       "      <th>21</th>\n",
       "      <th>13</th>\n",
       "      <th>11</th>\n",
       "      <th>9</th>\n",
       "      <th>10</th>\n",
       "      <th>3</th>\n",
       "      <th>4</th>\n",
       "      <th>1</th>\n",
       "      <th>2</th>\n",
       "    </tr>\n",
       "  </thead>\n",
       "  <tbody>\n",
       "    <tr>\n",
       "      <th>count</th>\n",
       "      <td>105.000000</td>\n",
       "      <td>206.000000</td>\n",
       "      <td>121.000000</td>\n",
       "      <td>75.000000</td>\n",
       "      <td>151.000000</td>\n",
       "      <td>93.000000</td>\n",
       "      <td>203.000000</td>\n",
       "      <td>100.000000</td>\n",
       "      <td>112.000000</td>\n",
       "      <td>124.000000</td>\n",
       "      <td>...</td>\n",
       "      <td>54.000000</td>\n",
       "      <td>108.000000</td>\n",
       "      <td>157.000000</td>\n",
       "      <td>88.000000</td>\n",
       "      <td>60.000000</td>\n",
       "      <td>77.000000</td>\n",
       "      <td>13.000000</td>\n",
       "      <td>33.000000</td>\n",
       "      <td>28.000000</td>\n",
       "      <td>6.000000</td>\n",
       "    </tr>\n",
       "    <tr>\n",
       "      <th>mean</th>\n",
       "      <td>49.847619</td>\n",
       "      <td>57.631068</td>\n",
       "      <td>43.190083</td>\n",
       "      <td>29.800000</td>\n",
       "      <td>59.417219</td>\n",
       "      <td>35.215054</td>\n",
       "      <td>55.965517</td>\n",
       "      <td>36.670000</td>\n",
       "      <td>37.669643</td>\n",
       "      <td>60.145161</td>\n",
       "      <td>...</td>\n",
       "      <td>29.333333</td>\n",
       "      <td>39.018519</td>\n",
       "      <td>61.630573</td>\n",
       "      <td>50.602273</td>\n",
       "      <td>42.616667</td>\n",
       "      <td>44.272727</td>\n",
       "      <td>25.153846</td>\n",
       "      <td>26.666667</td>\n",
       "      <td>28.000000</td>\n",
       "      <td>21.166667</td>\n",
       "    </tr>\n",
       "    <tr>\n",
       "      <th>std</th>\n",
       "      <td>24.719885</td>\n",
       "      <td>19.502340</td>\n",
       "      <td>18.732020</td>\n",
       "      <td>10.919855</td>\n",
       "      <td>29.649589</td>\n",
       "      <td>12.413045</td>\n",
       "      <td>24.196060</td>\n",
       "      <td>14.547071</td>\n",
       "      <td>15.643200</td>\n",
       "      <td>114.347402</td>\n",
       "      <td>...</td>\n",
       "      <td>9.253250</td>\n",
       "      <td>16.361558</td>\n",
       "      <td>122.639993</td>\n",
       "      <td>26.580842</td>\n",
       "      <td>17.253928</td>\n",
       "      <td>16.830139</td>\n",
       "      <td>12.615111</td>\n",
       "      <td>6.817563</td>\n",
       "      <td>10.022198</td>\n",
       "      <td>10.870449</td>\n",
       "    </tr>\n",
       "    <tr>\n",
       "      <th>min</th>\n",
       "      <td>0.000000</td>\n",
       "      <td>0.000000</td>\n",
       "      <td>0.000000</td>\n",
       "      <td>1.000000</td>\n",
       "      <td>0.000000</td>\n",
       "      <td>0.000000</td>\n",
       "      <td>0.000000</td>\n",
       "      <td>0.000000</td>\n",
       "      <td>0.000000</td>\n",
       "      <td>0.000000</td>\n",
       "      <td>...</td>\n",
       "      <td>0.000000</td>\n",
       "      <td>0.000000</td>\n",
       "      <td>0.000000</td>\n",
       "      <td>0.000000</td>\n",
       "      <td>0.000000</td>\n",
       "      <td>0.000000</td>\n",
       "      <td>0.000000</td>\n",
       "      <td>0.000000</td>\n",
       "      <td>0.000000</td>\n",
       "      <td>0.000000</td>\n",
       "    </tr>\n",
       "    <tr>\n",
       "      <th>25%</th>\n",
       "      <td>33.000000</td>\n",
       "      <td>47.250000</td>\n",
       "      <td>34.000000</td>\n",
       "      <td>26.000000</td>\n",
       "      <td>46.000000</td>\n",
       "      <td>30.000000</td>\n",
       "      <td>44.500000</td>\n",
       "      <td>31.000000</td>\n",
       "      <td>28.750000</td>\n",
       "      <td>43.000000</td>\n",
       "      <td>...</td>\n",
       "      <td>26.000000</td>\n",
       "      <td>33.000000</td>\n",
       "      <td>38.000000</td>\n",
       "      <td>38.000000</td>\n",
       "      <td>33.000000</td>\n",
       "      <td>33.000000</td>\n",
       "      <td>23.000000</td>\n",
       "      <td>25.000000</td>\n",
       "      <td>25.000000</td>\n",
       "      <td>21.250000</td>\n",
       "    </tr>\n",
       "    <tr>\n",
       "      <th>50%</th>\n",
       "      <td>49.000000</td>\n",
       "      <td>60.000000</td>\n",
       "      <td>42.000000</td>\n",
       "      <td>30.000000</td>\n",
       "      <td>60.000000</td>\n",
       "      <td>33.000000</td>\n",
       "      <td>61.000000</td>\n",
       "      <td>36.500000</td>\n",
       "      <td>36.500000</td>\n",
       "      <td>53.000000</td>\n",
       "      <td>...</td>\n",
       "      <td>29.000000</td>\n",
       "      <td>41.000000</td>\n",
       "      <td>47.000000</td>\n",
       "      <td>47.000000</td>\n",
       "      <td>44.500000</td>\n",
       "      <td>45.000000</td>\n",
       "      <td>26.000000</td>\n",
       "      <td>27.000000</td>\n",
       "      <td>29.000000</td>\n",
       "      <td>24.500000</td>\n",
       "    </tr>\n",
       "    <tr>\n",
       "      <th>75%</th>\n",
       "      <td>65.000000</td>\n",
       "      <td>67.750000</td>\n",
       "      <td>53.000000</td>\n",
       "      <td>36.000000</td>\n",
       "      <td>75.000000</td>\n",
       "      <td>40.000000</td>\n",
       "      <td>71.000000</td>\n",
       "      <td>42.250000</td>\n",
       "      <td>47.250000</td>\n",
       "      <td>63.000000</td>\n",
       "      <td>...</td>\n",
       "      <td>34.000000</td>\n",
       "      <td>48.000000</td>\n",
       "      <td>61.000000</td>\n",
       "      <td>57.000000</td>\n",
       "      <td>52.000000</td>\n",
       "      <td>54.000000</td>\n",
       "      <td>29.000000</td>\n",
       "      <td>29.000000</td>\n",
       "      <td>31.250000</td>\n",
       "      <td>27.750000</td>\n",
       "    </tr>\n",
       "    <tr>\n",
       "      <th>max</th>\n",
       "      <td>143.000000</td>\n",
       "      <td>125.000000</td>\n",
       "      <td>108.000000</td>\n",
       "      <td>54.000000</td>\n",
       "      <td>250.000000</td>\n",
       "      <td>77.000000</td>\n",
       "      <td>111.000000</td>\n",
       "      <td>88.000000</td>\n",
       "      <td>74.000000</td>\n",
       "      <td>1301.000000</td>\n",
       "      <td>...</td>\n",
       "      <td>48.000000</td>\n",
       "      <td>85.000000</td>\n",
       "      <td>1428.000000</td>\n",
       "      <td>244.000000</td>\n",
       "      <td>92.000000</td>\n",
       "      <td>76.000000</td>\n",
       "      <td>45.000000</td>\n",
       "      <td>37.000000</td>\n",
       "      <td>50.000000</td>\n",
       "      <td>29.000000</td>\n",
       "    </tr>\n",
       "  </tbody>\n",
       "</table>\n",
       "<p>8 rows × 24 columns</p>\n",
       "</div>"
      ],
      "text/plain": [
       "               7           14          12         5           17         23  \\\n",
       "count  105.000000  206.000000  121.000000  75.000000  151.000000  93.000000   \n",
       "mean    49.847619   57.631068   43.190083  29.800000   59.417219  35.215054   \n",
       "std     24.719885   19.502340   18.732020  10.919855   29.649589  12.413045   \n",
       "min      0.000000    0.000000    0.000000   1.000000    0.000000   0.000000   \n",
       "25%     33.000000   47.250000   34.000000  26.000000   46.000000  30.000000   \n",
       "50%     49.000000   60.000000   42.000000  30.000000   60.000000  33.000000   \n",
       "75%     65.000000   67.750000   53.000000  36.000000   75.000000  40.000000   \n",
       "max    143.000000  125.000000  108.000000  54.000000  250.000000  77.000000   \n",
       "\n",
       "               16          22          6            18    ...             0   \\\n",
       "count  203.000000  100.000000  112.000000   124.000000    ...      54.000000   \n",
       "mean    55.965517   36.670000   37.669643    60.145161    ...      29.333333   \n",
       "std     24.196060   14.547071   15.643200   114.347402    ...       9.253250   \n",
       "min      0.000000    0.000000    0.000000     0.000000    ...       0.000000   \n",
       "25%     44.500000   31.000000   28.750000    43.000000    ...      26.000000   \n",
       "50%     61.000000   36.500000   36.500000    53.000000    ...      29.000000   \n",
       "75%     71.000000   42.250000   47.250000    63.000000    ...      34.000000   \n",
       "max    111.000000   88.000000   74.000000  1301.000000    ...      48.000000   \n",
       "\n",
       "               21           13          11         9          10         3   \\\n",
       "count  108.000000   157.000000   88.000000  60.000000  77.000000  13.000000   \n",
       "mean    39.018519    61.630573   50.602273  42.616667  44.272727  25.153846   \n",
       "std     16.361558   122.639993   26.580842  17.253928  16.830139  12.615111   \n",
       "min      0.000000     0.000000    0.000000   0.000000   0.000000   0.000000   \n",
       "25%     33.000000    38.000000   38.000000  33.000000  33.000000  23.000000   \n",
       "50%     41.000000    47.000000   47.000000  44.500000  45.000000  26.000000   \n",
       "75%     48.000000    61.000000   57.000000  52.000000  54.000000  29.000000   \n",
       "max     85.000000  1428.000000  244.000000  92.000000  76.000000  45.000000   \n",
       "\n",
       "              4          1          2   \n",
       "count  33.000000  28.000000   6.000000  \n",
       "mean   26.666667  28.000000  21.166667  \n",
       "std     6.817563  10.022198  10.870449  \n",
       "min     0.000000   0.000000   0.000000  \n",
       "25%    25.000000  25.000000  21.250000  \n",
       "50%    27.000000  29.000000  24.500000  \n",
       "75%    29.000000  31.250000  27.750000  \n",
       "max    37.000000  50.000000  29.000000  \n",
       "\n",
       "[8 rows x 24 columns]"
      ]
     },
     "execution_count": 451,
     "metadata": {},
     "output_type": "execute_result"
    }
   ],
   "source": [
    "final.describe()"
   ]
  },
  {
   "cell_type": "markdown",
   "metadata": {},
   "source": [
    "### We can see all the details of the Each Time \n"
   ]
  },
  {
   "cell_type": "code",
   "execution_count": 453,
   "metadata": {},
   "outputs": [
    {
     "name": "stdout",
     "output_type": "stream",
     "text": [
      "Time : 0 o'clock has longest duration of : 54.0\n",
      "Time : 1 o'clock has longest duration of : 50.0\n",
      "Time : 2 o'clock has longest duration of : 29.0\n",
      "Time : 3 o'clock has longest duration of : 45.0\n",
      "Time : 4 o'clock has longest duration of : 37.0\n",
      "Time : 5 o'clock has longest duration of : 75.0\n",
      "Time : 6 o'clock has longest duration of : 112.0\n",
      "Time : 7 o'clock has longest duration of : 143.0\n",
      "Time : 8 o'clock has longest duration of : 949.0\n",
      "Time : 9 o'clock has longest duration of : 92.0\n",
      "Time : 10 o'clock has longest duration of : 77.0\n",
      "Time : 11 o'clock has longest duration of : 244.0\n",
      "Time : 12 o'clock has longest duration of : 121.0\n",
      "Time : 13 o'clock has longest duration of : 1428.0\n",
      "Time : 14 o'clock has longest duration of : 206.0\n",
      "Time : 15 o'clock has longest duration of : 170.0\n",
      "Time : 16 o'clock has longest duration of : 203.0\n",
      "Time : 17 o'clock has longest duration of : 250.0\n",
      "Time : 18 o'clock has longest duration of : 1301.0\n",
      "Time : 19 o'clock has longest duration of : 118.0\n",
      "Time : 20 o'clock has longest duration of : 125.0\n",
      "Time : 21 o'clock has longest duration of : 108.0\n",
      "Time : 22 o'clock has longest duration of : 100.0\n",
      "Time : 23 o'clock has longest duration of : 93.0\n"
     ]
    }
   ],
   "source": [
    "for i in range(0,24):\n",
    "    ans = final[i].describe().max()\n",
    "    print(\"Time :\", i, \"o'clock has longest duration of :\", ans)"
   ]
  },
  {
   "cell_type": "markdown",
   "metadata": {},
   "source": [
    "## NOTE: for loaction question  I am using different dataset which has 999 Rows and it contains the Latitude and longitude  other dataset didnt conatin it but it has more rows that is 99998 wos therefore all the non location question i did it on thata dataset"
   ]
  },
  {
   "cell_type": "markdown",
   "metadata": {},
   "source": [
    "### Question 10\n",
    "#### What are the ‘hottest’ destinations of the night (9pm to 4am), per month?"
   ]
  },
  {
   "cell_type": "code",
   "execution_count": 457,
   "metadata": {
    "collapsed": true
   },
   "outputs": [],
   "source": [
    "data_loaction = pd.read_csv(\"pd.csv\")"
   ]
  },
  {
   "cell_type": "code",
   "execution_count": 564,
   "metadata": {},
   "outputs": [
    {
     "data": {
      "text/plain": [
       "(999, 21)"
      ]
     },
     "execution_count": 564,
     "metadata": {},
     "output_type": "execute_result"
    }
   ],
   "source": [
    "data_loaction.shape"
   ]
  },
  {
   "cell_type": "markdown",
   "metadata": {},
   "source": [
    "#### In previous question i had made a function called get_time which gives a list of time (In Hours eg. 0,1,2,4,..,12,15..23)\n",
    "#### I am using the same function to fet the time and i will add a new row to the dataframe called as \"Time\""
   ]
  },
  {
   "cell_type": "code",
   "execution_count": 565,
   "metadata": {
    "collapsed": true
   },
   "outputs": [],
   "source": [
    "t_list = get_time(data_loaction) \n",
    "time_df = pd.DataFrame(t_list)\n",
    "\n",
    "time_df.rename(columns = {0:'Time'},inplace=True)\n",
    "location_time = pd.concat([time_df,data_loaction], axis=1)"
   ]
  },
  {
   "cell_type": "code",
   "execution_count": 566,
   "metadata": {},
   "outputs": [
    {
     "data": {
      "text/plain": [
       "(999, 22)"
      ]
     },
     "execution_count": 566,
     "metadata": {},
     "output_type": "execute_result"
    }
   ],
   "source": [
    "location_time.shape"
   ]
  },
  {
   "cell_type": "markdown",
   "metadata": {},
   "source": [
    "#### Filtering the data with Time Preiod of 9 pm to 4 am\n",
    "9pm = 21 hours"
   ]
  },
  {
   "cell_type": "code",
   "execution_count": 567,
   "metadata": {
    "collapsed": true
   },
   "outputs": [],
   "source": [
    "location_time[\"Time\"] = (location_time[\"Time\"]).astype(int)"
   ]
  },
  {
   "cell_type": "code",
   "execution_count": 568,
   "metadata": {
    "collapsed": true
   },
   "outputs": [],
   "source": [
    "filtered_data = location_time[(location_time[\"Time\"] >= 21) | (location_time[\"Time\"] <= 4) ]"
   ]
  },
  {
   "cell_type": "code",
   "execution_count": 569,
   "metadata": {
    "collapsed": true
   },
   "outputs": [],
   "source": [
    "ind = range(0,len(filtered_data))\n",
    "indexlist = list(ind)\n",
    "filtered_data.index = indexlist"
   ]
  },
  {
   "cell_type": "markdown",
   "metadata": {},
   "source": [
    "### Got the filtered data between 9 pm and 4 am and saved it to 'filtered_data'"
   ]
  },
  {
   "cell_type": "code",
   "execution_count": 678,
   "metadata": {},
   "outputs": [
    {
     "name": "stdout",
     "output_type": "stream",
     "text": [
      "[(40.74060059, -73.97870636), (40.71299744, -73.99603271), (40.72185898, -73.99198151), (40.8092804, -73.95526886), (40.72790146, -73.99913788), (40.67821503, -73.9961853), (40.67639923, -73.80411529999999), (40.70575333, -74.00978088), (40.78908920000001, -73.9484024), (40.77600479, -73.9835968), (40.72924423, -74.0014801), (40.78339005, -73.94895935), (40.793525700000004, -73.97247314), (40.640625, -73.95348358), (40.76784897, -73.98518372), (40.80089951, -73.97087097), (40.74015808, -74.00797272), (40.71928787, -73.96153259), (40.79562378, -73.97368622), (40.71741867, -73.95200348), (40.69533920000001, -73.90354919), (40.71340179, -73.97773743), (40.74033737, -74.00627899), (40.73957062, -73.98258209), (40.83188629, -73.94921112), (40.6722908, -73.98690796), (40.71251678, -73.9940567), (40.72040176, -73.97839355), (40.71506882, -74.0118103), (40.73418427, -73.9987793), (40.75092697, -73.97196198), (40.77729034, -73.94326782), (40.74827194, -73.98898315), (0.0, 0.0), (40.71375275, -73.95610046), (40.73402023, -73.99879456), (40.75246811, -73.97866058), (40.73802948, -73.98680115), (40.79154205, -73.97406769), (40.72183228, -73.99208832), (40.75810623, -73.96331787), (40.71418381, -73.92908478), (40.78253174, -73.97874451), (40.71667862, -73.99991608), (40.73466492, -73.98104858), (40.70811081, -74.00635529), (40.75700378, -73.98912811), (40.75144577, -73.88764954), (40.73971176, -74.03985596), (40.72323608, -73.94506836), (40.74040985, -73.98216248), (40.74808884, -73.97843933), (40.75012207, -73.99120331), (40.72903442, -73.97689056), (40.77610397, -73.95724487), (40.70777893, -74.01177216), (0.0, 0.0), (40.7517662, -73.97737122), (40.67386627, -73.95527649), (40.770919799999994, -73.9537735), (40.73163986, -74.00585938), (40.74763489, -73.95639038), (40.78445816, -73.97546387), (40.71353531, -73.96551514), (40.71623993, -73.85295868), (40.73526382, -73.98280334), (40.76444626, -73.90795898), (40.73794174, -74.00394440000001), (40.73826218, -73.97963715), (40.77246475, -73.94651031), (0.0, 0.0), (40.80953979, -73.94411469), (40.77528763, -73.95625305), (40.73208237, -73.9984436), (40.76828766, -73.98667145), (40.62056732, -73.90824127), (40.79830933, -73.97091675), (0.0, 0.0), (40.76116562, -73.98728943), (40.77808762, -73.97780609), (40.59885788, -73.99350739), (40.75576019, -73.96172333), (40.63710785, -73.95851135), (40.730663299999996, -73.98113251), (40.74994278, -74.00265503), (40.7219162, -73.9952774), (40.73495102, -73.80901337), (40.73482132, -73.99261475), (40.72551346, -74.00200653), (40.78197479, -73.95162964), (40.76142883, -73.9853363), (40.7687912, -73.95816040000001), (40.72224045, -73.94631195), (40.70738983, -74.00502777), (40.74261475, -73.98246002), (40.81186295, -73.95105743), (40.78207779, -73.94947815), (40.78173447, -73.97568512), (40.73248672, -73.8538208), (40.77111816, -73.94781494), (40.83507156, -73.94393921), (40.67738724, -73.96310425), (40.76298523, -73.97225189), (40.73298645, -73.9749527), (40.77637863, -73.97595978), (40.68273544, -73.96473694), (40.75043106, -73.90222168), (40.72977066, -73.99845886), (40.6946907, -73.99436188), (40.76498413, -73.98082733), (40.68214798, -73.99087524), (40.77621841, -73.74142456), (40.77137756, -73.98178101), (40.72254181, -74.00379944), (40.77920151, -73.9750824), (40.73357773, -73.98509979), (40.73306656, -73.85771179), (40.72919846, -73.98534393), (40.70860291, -74.01150513), (40.70743942, -73.94282532), (40.70824432, -74.016716), (40.75134277, -73.97120667), (40.73410034, -74.00835419), (40.77962112, -73.9818573), (40.73961258, -74.00627136), (40.687732700000005, -73.96773529), (40.73629379, -73.99757385), (40.72854996, -73.97598267), (40.70480347, -74.01687622), (40.72939301, -73.98756409), (40.78284454, -73.95574951), (0.0, 0.0), (40.7273941, -74.00047302), (40.73822784, -74.00389862), (40.73828506, -74.0054245), (40.80231094, -73.95677948), (40.73797226, -74.00933075), (40.78822327, -73.97022247), (40.78643417, -73.97239685), (40.77650452, -73.95275879), (40.73953629, -74.00637054), (40.75605392, -73.99316406), (40.72625351, -73.99176788), (40.80516052, -73.94734192), (40.72727966, -73.90763092), (40.71140289, -73.9577179), (40.72639084, -74.00360107), (40.83002853, -73.94924164), (40.7678299, -73.96360016), (40.73499298, -73.99146271), (40.77666855, -73.97670746), (40.72525024, -73.98110962), (40.87609863, -73.88458252), (40.74157715, -74.00060272), (40.75294876, -73.97216034), (40.78434372, -73.9702301), (40.76685715, -73.95666504), (40.76041794, -73.98422241), (40.77763367, -73.98140717), (40.72219849, -73.84231567), (40.78607941, -73.97621918), (40.76136398, -73.96095276), (40.8022995, -73.96224213), (40.77013779, -74.02346802), (40.73173904, -73.98824309999999), (40.77747345, -73.98874664), (40.75986862, -73.83039856), (40.72739029, -73.99339294), (40.82311249, -73.9418335), (40.73647308, -73.97885895), (40.85522461, -73.93103027), (40.73318863, -74.00321198), (40.78717422, -73.95383453), (40.74676514, -73.99022675), (40.74023438, -74.00585938), (40.77232361, -73.98631287), (40.77582932, -73.99010468), (40.76390839, -73.98253632), (40.74798584, -73.98035431), (40.89395142, -73.8516922), (40.606987, -73.95891571), (40.73037338, -73.99239349), (40.74966812, -73.97194672), (40.74026871, -73.99862671), (40.73829269, -74.00913239), (40.76200485, -73.98487854), (40.78600311, -73.95121002), (40.78952026, -73.97908783), (0.0, 0.0), (40.84727478, -73.93347168), (40.77482986, -73.98209381), (40.81518555, -73.94551086), (40.71809769, -73.99777222), (40.7470932, -73.99131775), (40.74806213, -73.9774704), (40.63639069, -73.96637726), (40.73743057, -73.97399139), (40.75219727, -73.97814178), (40.75344849, -73.99617004), (40.73949814, -73.99900055), (40.65221024, -74.00669098), (40.74304962, -73.95400238), (40.74091339, -73.98588562), (40.74842834, -73.97621155), (40.75718689, -73.98781586), (40.7777977, -73.98878479), (40.66218567, -73.91211700000001), (40.71997833, -73.98796082), (40.67258072, -73.87119293), (40.7979126, -73.66622925), (40.75289536, -73.9650116), (40.71937561, -73.99154663), (40.602081299999995, -73.96492767), (40.78582382, -73.98005676), (40.76049042, -74.00291443), (40.73022461, -73.97566986), (40.68836975, -73.9185791), (40.71926498, -74.00167084), (40.74076462, -74.00492096), (40.80406952, -73.96617126), (40.78219223, -73.98278809), (40.76958466, -73.95481873), (40.73231888, -73.99896240000001), (40.77277374, -73.94934845), (40.67101288, -73.97156525), (40.76765823, -73.95587158), (40.77444077, -73.87296295), (40.74967575, -73.99538422), (40.71921539, -74.00509644), (40.86706924, -73.91699219), (40.83504486, -73.94609833), (40.74391937, -73.97644806), (40.78303909, -73.97381592), (40.74758911, -73.97672272), (40.76085663, -73.96295166), (0.0, 0.0), (40.871131899999995, -73.91758728), (40.73062897, -73.97782135), (40.85141754, -73.94034576), (40.75402832, -73.97449493), (40.74116516, -73.98139954)]\n"
     ]
    }
   ],
   "source": [
    "import reverse_geocoder as rg\n",
    "long = []\n",
    "for d in filtered_data.dropoff_longitude:\n",
    "    long.append(d)\n",
    "#print(len(long))    \n",
    "lat = []\n",
    "for d in filtered_data.dropoff_latitude:\n",
    "    lat.append(d)\n",
    "list_cor = list(zip(lat, long))\n",
    "#print(lat)  \n",
    "print(list_cor)"
   ]
  },
  {
   "cell_type": "markdown",
   "metadata": {},
   "source": [
    "## This is the list of longitude and Latitude of DropOff Locations. Between 9 pm to 4 am\n",
    "\n",
    "### Now let find the location of which Longitude and latitude."
   ]
  },
  {
   "cell_type": "code",
   "execution_count": 679,
   "metadata": {
    "collapsed": true
   },
   "outputs": [],
   "source": [
    "from geopy.geocoders import Nominatim\n",
    "geolocator = Nominatim()"
   ]
  },
  {
   "cell_type": "code",
   "execution_count": 688,
   "metadata": {
    "collapsed": true
   },
   "outputs": [],
   "source": [
    "full_loc = []\n",
    "\n",
    "for element in list_cor:\n",
    "    location = geolocator.reverse(element)\n",
    "    #print(location)\n",
    "    full_loc.append(location)  "
   ]
  },
  {
   "cell_type": "code",
   "execution_count": 691,
   "metadata": {
    "scrolled": false
   },
   "outputs": [
    {
     "data": {
      "text/plain": [
       "[Location(484, 2nd Avenue, Manhattan Community Board 6, New York County, NYC, New York, 10016, United States of America, (40.7406127, -73.9784593730195, 0.0)),\n",
       " Location(37, Henry Street, Manhattan Community Board 3, New York County, NYC, New York, 10002, United States of America, (40.71309205, -73.9960654680244, 0.0)),\n",
       " Location(191, Chrystie Street, Manhattan Community Board 3, New York County, NYC, New York, 10002, United States of America, (40.72199735, -73.992273800065, 0.0))]"
      ]
     },
     "execution_count": 691,
     "metadata": {},
     "output_type": "execute_result"
    }
   ],
   "source": [
    "full_loc[0:3]"
   ]
  },
  {
   "cell_type": "markdown",
   "metadata": {},
   "source": [
    "### Got the Extact location of the Drop Off points.\n",
    "### Now lets convert it into Dataframe and append it to The main dataframe ie filtered_data"
   ]
  },
  {
   "cell_type": "code",
   "execution_count": 692,
   "metadata": {
    "collapsed": true
   },
   "outputs": [],
   "source": [
    "loc = pd.DataFrame(full_loc)\n",
    "\n",
    "answer = pd.concat([filtered_data,loc], axis=1)\n",
    "answer.rename(columns = {0:\"Location\"}, inplace=True)\n",
    "answer.rename(columns = {0:\"Loca\"}, inplace=True)"
   ]
  },
  {
   "cell_type": "code",
   "execution_count": 699,
   "metadata": {},
   "outputs": [
    {
     "data": {
      "text/html": [
       "<div>\n",
       "<style scoped>\n",
       "    .dataframe tbody tr th:only-of-type {\n",
       "        vertical-align: middle;\n",
       "    }\n",
       "\n",
       "    .dataframe tbody tr th {\n",
       "        vertical-align: top;\n",
       "    }\n",
       "\n",
       "    .dataframe thead th {\n",
       "        text-align: right;\n",
       "    }\n",
       "</style>\n",
       "<table border=\"1\" class=\"dataframe\">\n",
       "  <thead>\n",
       "    <tr style=\"text-align: right;\">\n",
       "      <th></th>\n",
       "      <th>Time</th>\n",
       "      <th>VendorID</th>\n",
       "      <th>tpep_pickup_datetime</th>\n",
       "      <th>tpep_dropoff_datetime</th>\n",
       "      <th>passenger_count</th>\n",
       "      <th>trip_distance</th>\n",
       "      <th>pickup_longitude</th>\n",
       "      <th>pickup_latitude</th>\n",
       "      <th>RatecodeID</th>\n",
       "      <th>store_and_fwd_flag</th>\n",
       "      <th>...</th>\n",
       "      <th>extra</th>\n",
       "      <th>mta_tax</th>\n",
       "      <th>tip_amount</th>\n",
       "      <th>tolls_amount</th>\n",
       "      <th>improvement_surcharge</th>\n",
       "      <th>total_amount</th>\n",
       "      <th>PULocationID</th>\n",
       "      <th>DOLocationID</th>\n",
       "      <th>Location</th>\n",
       "      <th>DropOff Location</th>\n",
       "    </tr>\n",
       "  </thead>\n",
       "  <tbody>\n",
       "    <tr>\n",
       "      <th>0</th>\n",
       "      <td>22</td>\n",
       "      <td>1</td>\n",
       "      <td>2/3/2016 22:44</td>\n",
       "      <td>2/3/2016 22:56</td>\n",
       "      <td>1</td>\n",
       "      <td>1.9</td>\n",
       "      <td>-73.981392</td>\n",
       "      <td>40.760807</td>\n",
       "      <td>1</td>\n",
       "      <td>Y</td>\n",
       "      <td>...</td>\n",
       "      <td>0.5</td>\n",
       "      <td>0.5</td>\n",
       "      <td>2.25</td>\n",
       "      <td>0.0</td>\n",
       "      <td>0.3</td>\n",
       "      <td>13.55</td>\n",
       "      <td>NaN</td>\n",
       "      <td>NaN</td>\n",
       "      <td>484, 2nd Avenue, Manhattan Community Board 6, ...</td>\n",
       "      <td>(40.7406127, -73.9784593730195)</td>\n",
       "    </tr>\n",
       "    <tr>\n",
       "      <th>1</th>\n",
       "      <td>23</td>\n",
       "      <td>1</td>\n",
       "      <td>2/12/2016 23:47</td>\n",
       "      <td>2/12/2016 23:53</td>\n",
       "      <td>1</td>\n",
       "      <td>0.9</td>\n",
       "      <td>-74.007889</td>\n",
       "      <td>40.715183</td>\n",
       "      <td>1</td>\n",
       "      <td>Y</td>\n",
       "      <td>...</td>\n",
       "      <td>0.5</td>\n",
       "      <td>0.5</td>\n",
       "      <td>1.45</td>\n",
       "      <td>0.0</td>\n",
       "      <td>0.3</td>\n",
       "      <td>8.75</td>\n",
       "      <td>NaN</td>\n",
       "      <td>NaN</td>\n",
       "      <td>37, Henry Street, Manhattan Community Board 3,...</td>\n",
       "      <td>(40.71309205, -73.9960654680244)</td>\n",
       "    </tr>\n",
       "    <tr>\n",
       "      <th>2</th>\n",
       "      <td>23</td>\n",
       "      <td>1</td>\n",
       "      <td>2/14/2016 23:04</td>\n",
       "      <td>2/14/2016 23:09</td>\n",
       "      <td>3</td>\n",
       "      <td>0.7</td>\n",
       "      <td>-73.985977</td>\n",
       "      <td>40.730968</td>\n",
       "      <td>1</td>\n",
       "      <td>Y</td>\n",
       "      <td>...</td>\n",
       "      <td>0.5</td>\n",
       "      <td>0.5</td>\n",
       "      <td>1.00</td>\n",
       "      <td>0.0</td>\n",
       "      <td>0.3</td>\n",
       "      <td>7.80</td>\n",
       "      <td>NaN</td>\n",
       "      <td>NaN</td>\n",
       "      <td>191, Chrystie Street, Manhattan Community Boar...</td>\n",
       "      <td>(40.72199735, -73.992273800065)</td>\n",
       "    </tr>\n",
       "    <tr>\n",
       "      <th>3</th>\n",
       "      <td>22</td>\n",
       "      <td>1</td>\n",
       "      <td>2/7/2016 22:56</td>\n",
       "      <td>2/7/2016 23:06</td>\n",
       "      <td>1</td>\n",
       "      <td>1.6</td>\n",
       "      <td>-73.933754</td>\n",
       "      <td>40.802654</td>\n",
       "      <td>1</td>\n",
       "      <td>Y</td>\n",
       "      <td>...</td>\n",
       "      <td>0.5</td>\n",
       "      <td>0.5</td>\n",
       "      <td>1.00</td>\n",
       "      <td>0.0</td>\n",
       "      <td>0.3</td>\n",
       "      <td>10.80</td>\n",
       "      <td>NaN</td>\n",
       "      <td>NaN</td>\n",
       "      <td>Morningside Avenue Presbyterian Church, West 1...</td>\n",
       "      <td>(40.8091666, -73.9552779)</td>\n",
       "    </tr>\n",
       "    <tr>\n",
       "      <th>4</th>\n",
       "      <td>22</td>\n",
       "      <td>1</td>\n",
       "      <td>2/8/2016 22:41</td>\n",
       "      <td>2/8/2016 22:49</td>\n",
       "      <td>3</td>\n",
       "      <td>2.7</td>\n",
       "      <td>-73.983345</td>\n",
       "      <td>40.693703</td>\n",
       "      <td>1</td>\n",
       "      <td>Y</td>\n",
       "      <td>...</td>\n",
       "      <td>0.5</td>\n",
       "      <td>0.5</td>\n",
       "      <td>2.35</td>\n",
       "      <td>0.0</td>\n",
       "      <td>0.3</td>\n",
       "      <td>14.15</td>\n",
       "      <td>NaN</td>\n",
       "      <td>NaN</td>\n",
       "      <td>142, Bleecker Street, NoHo Historic District, ...</td>\n",
       "      <td>(40.7280094, -73.9991726)</td>\n",
       "    </tr>\n",
       "  </tbody>\n",
       "</table>\n",
       "<p>5 rows × 24 columns</p>\n",
       "</div>"
      ],
      "text/plain": [
       "   Time  VendorID tpep_pickup_datetime tpep_dropoff_datetime  passenger_count  \\\n",
       "0    22         1       2/3/2016 22:44        2/3/2016 22:56                1   \n",
       "1    23         1      2/12/2016 23:47       2/12/2016 23:53                1   \n",
       "2    23         1      2/14/2016 23:04       2/14/2016 23:09                3   \n",
       "3    22         1       2/7/2016 22:56        2/7/2016 23:06                1   \n",
       "4    22         1       2/8/2016 22:41        2/8/2016 22:49                3   \n",
       "\n",
       "   trip_distance  pickup_longitude  pickup_latitude  RatecodeID  \\\n",
       "0            1.9        -73.981392        40.760807           1   \n",
       "1            0.9        -74.007889        40.715183           1   \n",
       "2            0.7        -73.985977        40.730968           1   \n",
       "3            1.6        -73.933754        40.802654           1   \n",
       "4            2.7        -73.983345        40.693703           1   \n",
       "\n",
       "  store_and_fwd_flag                ...                 extra  mta_tax  \\\n",
       "0                  Y                ...                   0.5      0.5   \n",
       "1                  Y                ...                   0.5      0.5   \n",
       "2                  Y                ...                   0.5      0.5   \n",
       "3                  Y                ...                   0.5      0.5   \n",
       "4                  Y                ...                   0.5      0.5   \n",
       "\n",
       "   tip_amount  tolls_amount  improvement_surcharge  total_amount  \\\n",
       "0        2.25           0.0                    0.3         13.55   \n",
       "1        1.45           0.0                    0.3          8.75   \n",
       "2        1.00           0.0                    0.3          7.80   \n",
       "3        1.00           0.0                    0.3         10.80   \n",
       "4        2.35           0.0                    0.3         14.15   \n",
       "\n",
       "   PULocationID  DOLocationID  \\\n",
       "0           NaN           NaN   \n",
       "1           NaN           NaN   \n",
       "2           NaN           NaN   \n",
       "3           NaN           NaN   \n",
       "4           NaN           NaN   \n",
       "\n",
       "                                            Location  \\\n",
       "0  484, 2nd Avenue, Manhattan Community Board 6, ...   \n",
       "1  37, Henry Street, Manhattan Community Board 3,...   \n",
       "2  191, Chrystie Street, Manhattan Community Boar...   \n",
       "3  Morningside Avenue Presbyterian Church, West 1...   \n",
       "4  142, Bleecker Street, NoHo Historic District, ...   \n",
       "\n",
       "                   DropOff Location  \n",
       "0   (40.7406127, -73.9784593730195)  \n",
       "1  (40.71309205, -73.9960654680244)  \n",
       "2   (40.72199735, -73.992273800065)  \n",
       "3         (40.8091666, -73.9552779)  \n",
       "4         (40.7280094, -73.9991726)  \n",
       "\n",
       "[5 rows x 24 columns]"
      ]
     },
     "execution_count": 699,
     "metadata": {},
     "output_type": "execute_result"
    }
   ],
   "source": [
    "answer.rename(columns = {1:\"DropOff Location\"}, inplace=True)\n",
    "answer.head()"
   ]
  },
  {
   "cell_type": "markdown",
   "metadata": {},
   "source": [
    "### Now the dataframe contains the trip from 9 pm to 4 am with its loaction\n",
    "### Now we calucalte the count of each loaction"
   ]
  },
  {
   "cell_type": "code",
   "execution_count": 700,
   "metadata": {
    "collapsed": true
   },
   "outputs": [],
   "source": [
    "loc_count = answer.Location.value_counts()\n"
   ]
  },
  {
   "cell_type": "code",
   "execution_count": 701,
   "metadata": {},
   "outputs": [
    {
     "name": "stdout",
     "output_type": "stream",
     "text": [
      "Hotest Location at night 9 pm to 4am are :\n",
      "\n",
      "\n",
      " 160 Riverside Boulevard, 160, Riverside Boulevard, Upper West Side, Manhattan Community Board 7, New York County, NYC, New York, 10069, United States of America    2\n",
      "257, West 17th Street, Chelsea, Manhattan Community Board 4, New York County, NYC, New York, 10011, United States of America                                        1\n",
      "160, Havemeyer Street, Williamsburg, Kings County, NYC, New York, 11211, United States of America                                                                   1\n",
      "Deli & Pizzeria, 9th Avenue, Hell's Kitchen, Manhattan Community Board 4, New York County, NYC, New York, 10011, United States of America                           1\n",
      "312, West 127th Street, Harlem, Manhattan Community Board 10, New York County, NYC, New York, 10027, United States of America                                       1\n",
      "69, West 9th Street, Washington Square Village, Manhattan Community Board 2, New York County, NYC, New York, 10011, United States of America                        1\n",
      "45, Sutton Place South, Tudor City, Manhattan Community Board 6, New York County, NYC, New York, 10022, United States of America                                    1\n",
      "106, Waverly Place, Washington Square Village, Manhattan Community Board 2, New York County, NYC, New York, 10011, United States of America                         1\n",
      "Victoria House, 200, East 27th Street, Manhattan Community Board 6, New York County, NYC, New York, 10016, United States of America                                 1\n",
      "430, East 14th Street, Peter Cooper Village, Manhattan Community Board 6, New York County, NYC, New York, 10009, United States of America                           1\n",
      "225, West 49th Street, Hell's Kitchen, Manhattan Community Board 5, New York County, NYC, New York, 10019, United States of America                                 1\n",
      "188, 6th Avenue, Greenwich Village, Manhattan Community Board 2, New York County, NYC, New York, 10012, United States of America                                    1\n",
      "383, 1st Avenue, Kips Bay, Manhattan Community Board 6, New York County, NYC, New York, 10010, United States of America                                             1\n",
      "555, 3rd Avenue, Murray Hill, Manhattan Community Board 6, New York County, NYC, New York, 10016, United States of America                                          1\n",
      "Walgreens, West 57th Street, Hell's Kitchen, Manhattan Community Board 4, New York County, NYC, New York, 10019, United States of America                           1\n",
      "3rd Avenue & East 91st Street, 3rd Avenue, Upper East Side, Manhattan Community Board 8, New York County, NYC, New York, 10035, United States of America            1\n",
      "East 68th Street & Lexington Avenue, East 68th Street, Lenox Hill, Manhattan Community Board 8, New York County, NYC, New York, 10021, United States of America     1\n",
      "1103, Putnam Avenue, Bushwick, BK, Kings County, NYC, New York, 11221, United States of America                                                                     1\n",
      "192, Bleecker Street, NoHo Historic District, Manhattan Community Board 2, New York County, NYC, New York, 10012, United States of America                          1\n",
      "800, Riverside Drive, Manhattan Community Board 12, New York County, NYC, New York, 10032, United States of America                                                 1\n",
      "35, Park Avenue, Manhattan Community Board 5, New York County, NYC, New York, 10016, United States of America                                                       1\n",
      "One Trinity Centre, Thames Street, Battery Park City, Manhattan Community Board 1, New York County, NYC, New York, 10006, United States of America                  1\n",
      "39-12, Main Street, Linden Hill, Queens, Queens County, NYC, New York, 11354, United States of America                                                              1\n",
      "328, West 4th Street, Greenwich Village, Manhattan Community Board 2, New York County, NYC, New York, 10014, United States of America                               1\n",
      "1429, 3rd Avenue, Upper East Side, Manhattan Community Board 8, New York County, NYC, New York, 10028, United States of America                                     1\n",
      "694, Thomas S. Boyland Street, Ocean Hill, BK, Kings County, NYC, New York, 11212, United States of America                                                         1\n",
      "21, Spring Street, Manhattan Community Board 3, New York County, NYC, New York, 10012, United States of America                                                     1\n",
      "Ruppert House, East 93rd Street, Yorkville, Manhattan Community Board 8, New York County, NYC, New York, 10128, United States of America                            1\n",
      "142, Bleecker Street, NoHo Historic District, Manhattan Community Board 2, New York County, NYC, New York, 10012, United States of America                          1\n",
      "4, Stuyvesant Oval, Stuyvesant Town, Manhattan Community Board 6, New York County, NYC, New York, 10009, United States of America                                   1\n",
      "                                                                                                                                                                   ..\n",
      "590, Grand Street, East River Cooperative, Manhattan Community Board 3, New York County, NYC, New York, 10002, United States of America                             1\n",
      "530, East 80th Street, Yorkville, Manhattan Community Board 8, New York County, NYC, New York, 10075, United States of America                                      1\n",
      "102-01, 63rd Drive, Rego Park, Queens County, NYC, New York, 11375, United States of America                                                                        1\n",
      "Patisserie Tomoko, 568, Union Avenue, Williamsburg, Kings County, NYC, New York, 11211, United States of America                                                    1\n",
      "Tower 111, 885, 6th Avenue, Koreatown, Manhattan Community Board 5, New York County, NYC, New York, 10019, United States of America                                 1\n",
      "106, West Houston Street, Greenwich Village, Manhattan Community Board 2, New York County, NYC, New York, 10012, United States of America                           1\n",
      "325, Wadsworth Avenue, Washington Heights, Manhattan Community Board 12, New York County, NYC, New York, 10040, United States of America                            1\n",
      "440, West End Ave., Upper West Side, Manhattan Community Board 7, New York County, NYC, New York, 10024, United States of America                                   1\n",
      "488, Amsterdam Avenue, Upper West Side, Manhattan Community Board 7, New York County, NYC, New York, 10024, United States of America                                1\n",
      "352, Malcolm X Boulevard, Harlem, Manhattan Community Board 10, New York County, NYC, New York, 10027, United States of America                                     1\n",
      "1112, Park Avenue, Upper East Side, Manhattan Community Board 8, New York County, NYC, New York, 10128, United States of America                                    1\n",
      "отель Пенсильвания в Нью Йорке, 7th Avenue, Koreatown, Manhattan Community Board 5, New York County, NYC, New York, 10001, United States of America                 1\n",
      "Roxy Hotel, 2, 6th Avenue, Tribeca, Manhattan Community Board 1, New York County, NYC, New York, 10013, United States of America                                    1\n",
      "2260, Benson Avenue, Bath Beach, Kings County, NYC, New York, 11214, United States of America                                                                       1\n",
      "310, East 24th Street, East Midtown Plaza, Manhattan Community Board 6, New York County, NYC, New York, 10010, United States of America                             1\n",
      "4221, Digney Avenue, Wakefield, Bronx, Bronx County, NYC, New York, 10466, United States of America                                                                 1\n",
      "106, Rivington Street, Lower East Side, Manhattan Community Board 3, New York County, NYC, New York, 10002, United States of America                                1\n",
      "White Street Correctional Facility, Baxter Street, Five Points, Manhattan Community Board 2, New York County, NYC, New York, 10013, United States of America        1\n",
      "16, West 76th Street, Upper West Side, Manhattan Community Board 7, New York County, NYC, New York, 10023, United States of America                                 1\n",
      "106, 7th Avenue, Chelsea, Manhattan Community Board 4, New York County, NYC, New York, 10011, United States of America                                              1\n",
      "49, Delancey Street, Lower East Side, Manhattan Community Board 3, New York County, NYC, New York, 10002, United States of America                                  1\n",
      "750, Riverside Drive, Hamilton Heights, Manhattan Community Board 9, New York County, NYC, New York, 10031, United States of America                                1\n",
      "149, East 37th Street, Murray Hill, Manhattan Community Board 6, New York County, NYC, New York, 10016, United States of America                                    1\n",
      "Wallgreens store, Peters Street, Union City, Hudson County, New Jersey, 07087, United States of America                                                             1\n",
      "600 Madison Avenue, 600, Madison Avenue, Upper East Side, Manhattan Community Board 5, New York County, NYC, New York, 10022, United States of America              1\n",
      "Jefferson Hall, 35th Avenue, Jackson Heights, Queens County, NYC, New York, 11368, United States of America                                                         1\n",
      "68, East End Avenue, Yorkville, Manhattan Community Board 8, New York County, NYC, New York, 10028, United States of America                                        1\n",
      "E 42 St / 2 Av, East 42nd Street, Tudor City, Manhattan Community Board 6, New York County, NYC, New York, 10017, United States of America                          1\n",
      "551, West 178th Street, Washington Heights, Manhattan Community Board 12, New York County, NYC, New York, 10033, United States of America                           1\n",
      "38, Market Street, Manhattan Community Board 3, New York County, NYC, New York, 10002, United States of America                                                     1\n",
      "Name: Location, Length: 233, dtype: int64\n"
     ]
    }
   ],
   "source": [
    "print(\"Hotest Location at night 9 pm to 4am are :\\n\\n\\n\",loc_count)"
   ]
  },
  {
   "cell_type": "markdown",
   "metadata": {},
   "source": [
    "## Above can see the hotest loaction at night from 9 pm to 4 am"
   ]
  }
 ],
 "metadata": {
  "kernelspec": {
   "display_name": "Python 3",
   "language": "python",
   "name": "python3"
  },
  "language_info": {
   "codemirror_mode": {
    "name": "ipython",
    "version": 3
   },
   "file_extension": ".py",
   "mimetype": "text/x-python",
   "name": "python",
   "nbconvert_exporter": "python",
   "pygments_lexer": "ipython3",
   "version": "3.6.4"
  }
 },
 "nbformat": 4,
 "nbformat_minor": 2
}
